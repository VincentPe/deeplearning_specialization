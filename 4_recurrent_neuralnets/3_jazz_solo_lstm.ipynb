{
 "cells": [
  {
   "cell_type": "markdown",
   "metadata": {},
   "source": [
    "# Improvise a Jazz Solo with an LSTM Network\n",
    "\n",
    "Welcome to your final programming assignment of this week! In this notebook, you will implement a model that uses an LSTM to generate music. You will even be able to listen to your own music at the end of the assignment. \n",
    "\n",
    "**You will learn to:**\n",
    "- Apply an LSTM to music generation.\n",
    "- Generate your own jazz music with deep learning.\n",
    "\n",
    "Please run the following cell to load all the packages required in this assignment. This may take a few minutes. "
   ]
  },
  {
   "cell_type": "code",
   "execution_count": 1,
   "metadata": {},
   "outputs": [
    {
     "name": "stderr",
     "output_type": "stream",
     "text": [
      "Using TensorFlow backend.\n"
     ]
    }
   ],
   "source": [
    "from __future__ import print_function\n",
    "import IPython\n",
    "import sys\n",
    "from music21 import *\n",
    "import numpy as np\n",
    "from grammar import *\n",
    "from qa import *\n",
    "from preprocess import * \n",
    "from music_utils import *\n",
    "from data_utils import *\n",
    "from keras.models import load_model, Model\n",
    "from keras.layers import Dense, Activation, Dropout, Input, LSTM, Reshape, Lambda, RepeatVector\n",
    "from keras.initializers import glorot_uniform\n",
    "from keras.utils import to_categorical\n",
    "from keras.optimizers import Adam\n",
    "from keras import backend as K"
   ]
  },
  {
   "cell_type": "markdown",
   "metadata": {},
   "source": [
    "## 1 - Problem statement\n",
    "\n",
    "You would like to create a jazz music piece specially for a friend's birthday. However, you don't know any instruments or music composition. Fortunately, you know deep learning and will solve this problem using an LSTM netwok.  \n",
    "\n",
    "You will train a network to generate novel jazz solos in a style representative of a body of performed work.\n",
    "\n",
    "<img src=\"images/jazz.jpg\" style=\"width:450;height:300px;\">\n",
    "\n",
    "\n",
    "### 1.1 - Dataset\n",
    "\n",
    "You will train your algorithm on a corpus of Jazz music. Run the cell below to listen to a snippet of the audio from the training set:"
   ]
  },
  {
   "cell_type": "code",
   "execution_count": null,
   "metadata": {
    "collapsed": true
   },
   "outputs": [],
   "source": [
    "IPython.display.Audio('./data/30s_seq.mp3')"
   ]
  },
  {
   "cell_type": "markdown",
   "metadata": {},
   "source": [
    "We have taken care of the preprocessing of the musical data to render it in terms of musical \"values.\" You can informally think of each \"value\" as a note, which comprises a pitch and a duration. For example, if you press down a specific piano key for 0.5 seconds, then you have just played a note. In music theory, a \"value\" is actually more complicated than this--specifically, it also captures the information needed to play multiple notes at the same time. For example, when playing a music piece, you might press down two piano keys at the same time (playing multiple notes at the same time generates what's called a \"chord\"). But we don't need to worry about the details of music theory for this assignment. For the purpose of this assignment, all you need to know is that we will obtain a dataset of values, and will learn an RNN model to generate sequences of values. \n",
    "\n",
    "Our music generation system will use 78 unique values. Run the following code to load the raw music data and preprocess it into values. This might take a few minutes."
   ]
  },
  {
   "cell_type": "code",
   "execution_count": 2,
   "metadata": {},
   "outputs": [
    {
     "name": "stdout",
     "output_type": "stream",
     "text": [
      "shape of X: (60, 30, 78)\n",
      "number of training examples: 60\n",
      "Tx (length of sequence): 30\n",
      "total # of unique values: 78\n",
      "Shape of Y: (30, 60, 78)\n"
     ]
    }
   ],
   "source": [
    "X, Y, n_values, indices_values = load_music_utils()\n",
    "print('shape of X:', X.shape)\n",
    "print('number of training examples:', X.shape[0])\n",
    "print('Tx (length of sequence):', X.shape[1])\n",
    "print('total # of unique values:', n_values)\n",
    "print('Shape of Y:', Y.shape)"
   ]
  },
  {
   "cell_type": "markdown",
   "metadata": {},
   "source": [
    "You have just loaded the following:\n",
    "\n",
    "- `X`: This is an (m, $T_x$, 78) dimensional array. We have m training examples, each of which is a snippet of $T_x =30$ musical values. At each time step, the input is one of 78 different possible values, represented as a one-hot vector. Thus for example, X[i,t,:] is a one-hot vector representating the value of the i-th example at time t. \n",
    "\n",
    "- `Y`: This is essentially the same as `X`, but shifted one step to the left (to the past). Similar to the dinosaurus assignment, we're interested in the network using the previous values to predict the next value, so our sequence model will try to predict $y^{\\langle t \\rangle}$ given $x^{\\langle 1\\rangle}, \\ldots, x^{\\langle t \\rangle}$. However, the data in `Y` is reordered to be dimension $(T_y, m, 78)$, where $T_y = T_x$. This format makes it more convenient to feed to the LSTM later. \n",
    "\n",
    "- `n_values`: The number of unique values in this dataset. This should be 78. \n",
    "\n",
    "- `indices_values`: python dictionary mapping from 0-77 to musical values."
   ]
  },
  {
   "cell_type": "markdown",
   "metadata": {},
   "source": [
    "### 1.2 - Overview of our model\n",
    "\n",
    "Here is the architecture of the model we will use. This is similar to the Dinosaurus model you had used in the previous notebook, except that in you will be implementing it in Keras. The architecture is as follows: \n",
    "\n",
    "<img src=\"images/music_generation.png\" style=\"width:600;height:400px;\">\n",
    "\n",
    "<!--\n",
    "<img src=\"images/djmodel.png\" style=\"width:600;height:400px;\">\n",
    "<br>\n",
    "<caption><center> **Figure 1**: LSTM model. $X = (x^{\\langle 1 \\rangle}, x^{\\langle 2 \\rangle}, ..., x^{\\langle T_x \\rangle})$ is a window of size $T_x$ scanned over the musical corpus. Each $x^{\\langle t \\rangle}$ is an index corresponding to a value (ex: \"A,0.250,< m2,P-4 >\") while $\\hat{y}$ is the prediction for the next value  </center></caption>\n",
    "!--> \n",
    "\n",
    "We will be training the model on random snippets of 30 values taken from a much longer piece of music. Thus, we won't bother to set the first input $x^{\\langle 1 \\rangle} = \\vec{0}$, which we had done previously to denote the start of a dinosaur name, since now most of these snippets of audio start somewhere in the middle of a piece of music. We are setting each of the snippts to have the same length $T_x = 30$ to make vectorization easier. \n"
   ]
  },
  {
   "cell_type": "markdown",
   "metadata": {},
   "source": [
    "## 2 - Building the model\n",
    "\n",
    "In this part you will build and train a model that will learn musical patterns. To do so, you will need to build a model that takes in X of shape $(m, T_x, 78)$ and Y of shape $(T_y, m, 78)$. We will use an LSTM with 64 dimensional hidden states. Lets set `n_a = 64`. \n"
   ]
  },
  {
   "cell_type": "code",
   "execution_count": 3,
   "metadata": {
    "collapsed": true
   },
   "outputs": [],
   "source": [
    "n_a = 64 "
   ]
  },
  {
   "cell_type": "markdown",
   "metadata": {},
   "source": [
    "\n",
    "Here's how you can create a Keras model with multiple inputs and outputs. If you're building an RNN where even at test time entire input sequence $x^{\\langle 1 \\rangle}, x^{\\langle 2 \\rangle}, \\ldots, x^{\\langle T_x \\rangle}$ were *given in advance*, for example if the inputs were words and the output was a label, then Keras has simple built-in functions to build the model. However, for sequence generation, at test time we don't know all the values of $x^{\\langle t\\rangle}$ in advance; instead we generate them one at a time using $x^{\\langle t\\rangle} = y^{\\langle t-1 \\rangle}$. So the code will be a bit more complicated, and you'll need to implement your own for-loop to iterate over the different time steps. \n",
    "\n",
    "The function `djmodel()` will call the LSTM layer $T_x$ times using a for-loop, and it is important that all $T_x$ copies have the same weights. I.e., it should not re-initiaiize the weights every time---the $T_x$ steps should have shared weights. The key steps for implementing layers with shareable weights in Keras are: \n",
    "1. Define the layer objects (we will use global variables for this).\n",
    "2. Call these objects when propagating the input.\n",
    "\n",
    "We have defined the layers objects you need as global variables. Please run the next cell to create them. Please check the Keras documentation to make sure you understand what these layers are: [Reshape()](https://keras.io/layers/core/#reshape), [LSTM()](https://keras.io/layers/recurrent/#lstm), [Dense()](https://keras.io/layers/core/#dense).\n"
   ]
  },
  {
   "cell_type": "code",
   "execution_count": 4,
   "metadata": {
    "collapsed": true
   },
   "outputs": [],
   "source": [
    "reshapor = Reshape((1, 78))                        # Used in Step 2.B of djmodel(), below\n",
    "LSTM_cell = LSTM(n_a, return_state = True)         # Used in Step 2.C\n",
    "densor = Dense(n_values, activation='softmax')     # Used in Step 2.D"
   ]
  },
  {
   "cell_type": "markdown",
   "metadata": {},
   "source": [
    "Each of `reshapor`, `LSTM_cell` and `densor` are now layer objects, and you can use them to implement `djmodel()`. In order to propagate a Keras tensor object X through one of these layers, use `layer_object(X)` (or `layer_object([X,Y])` if it requires multiple inputs.). For example, `reshapor(X)` will propagate X through the `Reshape((1,78))` layer defined above."
   ]
  },
  {
   "cell_type": "markdown",
   "metadata": {},
   "source": [
    " \n",
    "**Exercise**: Implement `djmodel()`. You will need to carry out 2 steps:\n",
    "\n",
    "1. Create an empty list \"outputs\" to save the outputs of the LSTM Cell at every time step.\n",
    "2. Loop for $t \\in 1, \\ldots, T_x$:\n",
    "\n",
    "    A. Select the \"t\"th time-step vector from X. The shape of this selection should be (78,). To do so, create a custom [Lambda](https://keras.io/layers/core/#lambda) layer in Keras by using this line of code:\n",
    "```    \n",
    "           x = Lambda(lambda x: x[:,t,:])(X)\n",
    "``` \n",
    "Look over the Keras documentation to figure out what this does. It is creating a \"temporary\" or \"unnamed\" function (that's what Lambda functions are) that extracts out the appropriate one-hot vector, and making this function a Keras `Layer` object to apply to `X`. \n",
    "\n",
    "    B. Reshape x to be (1,78). You may find the `reshapor()` layer (defined below) helpful.\n",
    "\n",
    "    C. Run x through one step of LSTM_cell. Remember to initialize the LSTM_cell with the previous step's hidden state $a$ and cell state $c$. Use the following formatting:\n",
    "```python\n",
    "a, _, c = LSTM_cell(input_x, initial_state=[previous hidden state, previous cell state])\n",
    "```\n",
    "\n",
    "    D. Propagate the LSTM's output activation value through a dense+softmax layer using `densor`. \n",
    "    \n",
    "    E. Append the predicted value to the list of \"outputs\"\n",
    " \n"
   ]
  },
  {
   "cell_type": "code",
   "execution_count": 15,
   "metadata": {
    "collapsed": true
   },
   "outputs": [],
   "source": [
    "# GRADED FUNCTION: djmodel\n",
    "\n",
    "def djmodel(Tx, n_a, n_values):\n",
    "    \"\"\"\n",
    "    Implement the model\n",
    "    \n",
    "    Arguments:\n",
    "    Tx -- length of the sequence in a corpus\n",
    "    n_a -- the number of activations used in our model\n",
    "    n_values -- number of unique values in the music data \n",
    "    \n",
    "    Returns:\n",
    "    model -- a keras model with the \n",
    "    \"\"\"\n",
    "    \n",
    "    # Define the input of your model with a shape \n",
    "    X = Input(shape=(Tx, n_values))\n",
    "    \n",
    "    # Define s0, initial hidden state for the decoder LSTM\n",
    "    a0 = Input(shape=(n_a,), name='a0')\n",
    "    c0 = Input(shape=(n_a,), name='c0')\n",
    "    a = a0\n",
    "    c = c0\n",
    "    \n",
    "    ### START CODE HERE ### \n",
    "    # Step 1: Create empty list to append the outputs while you iterate (≈1 line)\n",
    "    outputs = []\n",
    "    \n",
    "    # Step 2: Loop\n",
    "    for t in range(Tx):\n",
    "        \n",
    "        # Step 2.A: select the \"t\"th time step vector from X. \n",
    "        x = Lambda(lambda x: x[:,t,:])(X)\n",
    "        # Step 2.B: Use reshapor to reshape x to be (1, n_values) (≈1 line)\n",
    "        x = reshapor(x)\n",
    "        # Step 2.C: Perform one step of the LSTM_cell\n",
    "        a, _, c = LSTM_cell(x, initial_state=[a, c])\n",
    "        # Step 2.D: Apply densor to the hidden state output of LSTM_Cell\n",
    "        out = densor(a)\n",
    "        # Step 2.E: add the output to \"outputs\"\n",
    "        outputs.append(out)\n",
    "        \n",
    "    # Step 3: Create model instance\n",
    "    model = Model(inputs=[X, a0, c0], outputs=outputs)\n",
    "    \n",
    "    ### END CODE HERE ###\n",
    "    \n",
    "    return model"
   ]
  },
  {
   "cell_type": "markdown",
   "metadata": {},
   "source": [
    "Run the following cell to define your model. We will use `Tx=30`, `n_a=64` (the dimension of the LSTM activations), and `n_values=78`. This cell may take a few seconds to run. "
   ]
  },
  {
   "cell_type": "code",
   "execution_count": 16,
   "metadata": {},
   "outputs": [],
   "source": [
    "model = djmodel(Tx = 30 , n_a = 64, n_values = 78)"
   ]
  },
  {
   "cell_type": "markdown",
   "metadata": {},
   "source": [
    "You now need to compile your model to be trained. We will Adam and a categorical cross-entropy loss."
   ]
  },
  {
   "cell_type": "code",
   "execution_count": 17,
   "metadata": {
    "collapsed": true
   },
   "outputs": [],
   "source": [
    "opt = Adam(lr=0.01, beta_1=0.9, beta_2=0.999, decay=0.01)\n",
    "\n",
    "model.compile(optimizer=opt, loss='categorical_crossentropy', metrics=['accuracy'])"
   ]
  },
  {
   "cell_type": "markdown",
   "metadata": {},
   "source": [
    "Finally, lets initialize `a0` and `c0` for the LSTM's initial state to be zero. "
   ]
  },
  {
   "cell_type": "code",
   "execution_count": 18,
   "metadata": {
    "collapsed": true,
    "scrolled": true
   },
   "outputs": [],
   "source": [
    "m = 60\n",
    "a0 = np.zeros((m, n_a))\n",
    "c0 = np.zeros((m, n_a))"
   ]
  },
  {
   "cell_type": "markdown",
   "metadata": {},
   "source": [
    "Lets now fit the model! We will turn `Y` to a list before doing so, since the cost function expects `Y` to be provided in this format (one list item per time-step). So `list(Y)` is a list with 30 items, where each of the list items is of shape (60,78). Lets train for 100 epochs. This will take a few minutes. \n",
    "\n"
   ]
  },
  {
   "cell_type": "code",
   "execution_count": 19,
   "metadata": {
    "scrolled": true
   },
   "outputs": [
    {
     "name": "stdout",
     "output_type": "stream",
     "text": [
      "Epoch 1/100\n",
      "60/60 [==============================] - 4s - loss: 125.8394 - dense_1_loss_1: 4.3553 - dense_1_loss_2: 4.3470 - dense_1_loss_3: 4.3453 - dense_1_loss_4: 4.3399 - dense_1_loss_5: 4.3434 - dense_1_loss_6: 4.3433 - dense_1_loss_7: 4.3428 - dense_1_loss_8: 4.3328 - dense_1_loss_9: 4.3355 - dense_1_loss_10: 4.3361 - dense_1_loss_11: 4.3381 - dense_1_loss_12: 4.3441 - dense_1_loss_13: 4.3362 - dense_1_loss_14: 4.3325 - dense_1_loss_15: 4.3451 - dense_1_loss_16: 4.3370 - dense_1_loss_17: 4.3364 - dense_1_loss_18: 4.3408 - dense_1_loss_19: 4.3340 - dense_1_loss_20: 4.3441 - dense_1_loss_21: 4.3372 - dense_1_loss_22: 4.3386 - dense_1_loss_23: 4.3411 - dense_1_loss_24: 4.3341 - dense_1_loss_25: 4.3339 - dense_1_loss_26: 4.3398 - dense_1_loss_27: 4.3404 - dense_1_loss_28: 4.3387 - dense_1_loss_29: 4.3258 - dense_1_loss_30: 0.0000e+00 - dense_1_acc_1: 0.0000e+00 - dense_1_acc_2: 0.0000e+00 - dense_1_acc_3: 0.0667 - dense_1_acc_4: 0.0833 - dense_1_acc_5: 0.0333 - dense_1_acc_6: 0.0500 - dense_1_acc_7: 0.0000e+00 - dense_1_acc_8: 0.0500 - dense_1_acc_9: 0.0167 - dense_1_acc_10: 0.0167 - dense_1_acc_11: 0.0333 - dense_1_acc_12: 0.0500 - dense_1_acc_13: 0.0667 - dense_1_acc_14: 0.0833 - dense_1_acc_15: 0.0667 - dense_1_acc_16: 0.1000 - dense_1_acc_17: 0.0833 - dense_1_acc_18: 0.0167 - dense_1_acc_19: 0.0833 - dense_1_acc_20: 0.0000e+00 - dense_1_acc_21: 0.0833 - dense_1_acc_22: 0.0667 - dense_1_acc_23: 0.0167 - dense_1_acc_24: 0.0500 - dense_1_acc_25: 0.0167 - dense_1_acc_26: 0.0667 - dense_1_acc_27: 0.0167 - dense_1_acc_28: 0.0667 - dense_1_acc_29: 0.0833 - dense_1_acc_30: 0.0000e+00                                                                                             \n",
      "Epoch 2/100\n",
      "60/60 [==============================] - 0s - loss: 122.2880 - dense_1_loss_1: 4.3360 - dense_1_loss_2: 4.3103 - dense_1_loss_3: 4.2874 - dense_1_loss_4: 4.2786 - dense_1_loss_5: 4.2569 - dense_1_loss_6: 4.2658 - dense_1_loss_7: 4.2619 - dense_1_loss_8: 4.2186 - dense_1_loss_9: 4.2285 - dense_1_loss_10: 4.2270 - dense_1_loss_11: 4.2061 - dense_1_loss_12: 4.2397 - dense_1_loss_13: 4.2013 - dense_1_loss_14: 4.1819 - dense_1_loss_15: 4.1950 - dense_1_loss_16: 4.1882 - dense_1_loss_17: 4.1836 - dense_1_loss_18: 4.2223 - dense_1_loss_19: 4.1775 - dense_1_loss_20: 4.2209 - dense_1_loss_21: 4.2035 - dense_1_loss_22: 4.1748 - dense_1_loss_23: 4.1727 - dense_1_loss_24: 4.2119 - dense_1_loss_25: 4.1807 - dense_1_loss_26: 4.1352 - dense_1_loss_27: 4.1604 - dense_1_loss_28: 4.1642 - dense_1_loss_29: 4.1969 - dense_1_loss_30: 0.0000e+00 - dense_1_acc_1: 0.0333 - dense_1_acc_2: 0.1000 - dense_1_acc_3: 0.1667 - dense_1_acc_4: 0.1833 - dense_1_acc_5: 0.2167 - dense_1_acc_6: 0.0833 - dense_1_acc_7: 0.0667 - dense_1_acc_8: 0.2500 - dense_1_acc_9: 0.1333 - dense_1_acc_10: 0.1167 - dense_1_acc_11: 0.1333 - dense_1_acc_12: 0.1000 - dense_1_acc_13: 0.2000 - dense_1_acc_14: 0.1667 - dense_1_acc_15: 0.1500 - dense_1_acc_16: 0.1167 - dense_1_acc_17: 0.1167 - dense_1_acc_18: 0.1333 - dense_1_acc_19: 0.1333 - dense_1_acc_20: 0.0500 - dense_1_acc_21: 0.1000 - dense_1_acc_22: 0.1333 - dense_1_acc_23: 0.1000 - dense_1_acc_24: 0.0667 - dense_1_acc_25: 0.0500 - dense_1_acc_26: 0.1333 - dense_1_acc_27: 0.0833 - dense_1_acc_28: 0.1167 - dense_1_acc_29: 0.0500 - dense_1_acc_30: 0.0000e+00             \n",
      "Epoch 3/100\n",
      "60/60 [==============================] - 0s - loss: 115.9662 - dense_1_loss_1: 4.3136 - dense_1_loss_2: 4.2614 - dense_1_loss_3: 4.1965 - dense_1_loss_4: 4.1695 - dense_1_loss_5: 4.1138 - dense_1_loss_6: 4.1310 - dense_1_loss_7: 4.0873 - dense_1_loss_8: 3.9645 - dense_1_loss_9: 3.9282 - dense_1_loss_10: 3.8770 - dense_1_loss_11: 3.8167 - dense_1_loss_12: 4.0971 - dense_1_loss_13: 3.8944 - dense_1_loss_14: 3.8725 - dense_1_loss_15: 3.9414 - dense_1_loss_16: 3.8697 - dense_1_loss_17: 3.9444 - dense_1_loss_18: 4.0644 - dense_1_loss_19: 3.8305 - dense_1_loss_20: 3.9976 - dense_1_loss_21: 4.0288 - dense_1_loss_22: 3.9441 - dense_1_loss_23: 3.8427 - dense_1_loss_24: 3.9622 - dense_1_loss_25: 4.0942 - dense_1_loss_26: 3.7247 - dense_1_loss_27: 3.9221 - dense_1_loss_28: 3.9286 - dense_1_loss_29: 4.1473 - dense_1_loss_30: 0.0000e+00 - dense_1_acc_1: 0.0333 - dense_1_acc_2: 0.0500 - dense_1_acc_3: 0.1667 - dense_1_acc_4: 0.1833 - dense_1_acc_5: 0.2333 - dense_1_acc_6: 0.0833 - dense_1_acc_7: 0.0667 - dense_1_acc_8: 0.2000 - dense_1_acc_9: 0.1000 - dense_1_acc_10: 0.0500 - dense_1_acc_11: 0.1167 - dense_1_acc_12: 0.0667 - dense_1_acc_13: 0.1000 - dense_1_acc_14: 0.1000 - dense_1_acc_15: 0.0833 - dense_1_acc_16: 0.0667 - dense_1_acc_17: 0.1000 - dense_1_acc_18: 0.1167 - dense_1_acc_19: 0.1000 - dense_1_acc_20: 0.0167 - dense_1_acc_21: 0.0833 - dense_1_acc_22: 0.1167 - dense_1_acc_23: 0.1000 - dense_1_acc_24: 0.0333 - dense_1_acc_25: 0.0667 - dense_1_acc_26: 0.1500 - dense_1_acc_27: 0.0833 - dense_1_acc_28: 0.1000 - dense_1_acc_29: 0.0833 - dense_1_acc_30: 0.0000e+00                 \n",
      "Epoch 4/100\n",
      "60/60 [==============================] - 0s - loss: 112.7084 - dense_1_loss_1: 4.2923 - dense_1_loss_2: 4.2107 - dense_1_loss_3: 4.1053 - dense_1_loss_4: 4.0697 - dense_1_loss_5: 3.9652 - dense_1_loss_6: 3.9822 - dense_1_loss_7: 3.9339 - dense_1_loss_8: 3.7077 - dense_1_loss_9: 3.7952 - dense_1_loss_10: 3.6729 - dense_1_loss_11: 3.7249 - dense_1_loss_12: 4.0950 - dense_1_loss_13: 3.8612 - dense_1_loss_14: 3.7815 - dense_1_loss_15: 3.8241 - dense_1_loss_16: 3.7730 - dense_1_loss_17: 3.8918 - dense_1_loss_18: 3.9176 - dense_1_loss_19: 3.7010 - dense_1_loss_20: 3.9891 - dense_1_loss_21: 3.9641 - dense_1_loss_22: 3.8322 - dense_1_loss_23: 3.7867 - dense_1_loss_24: 3.7066 - dense_1_loss_25: 3.9797 - dense_1_loss_26: 3.6090 - dense_1_loss_27: 3.7172 - dense_1_loss_28: 3.8400 - dense_1_loss_29: 3.9785 - dense_1_loss_30: 0.0000e+00 - dense_1_acc_1: 0.0667 - dense_1_acc_2: 0.1000 - dense_1_acc_3: 0.1500 - dense_1_acc_4: 0.2333 - dense_1_acc_5: 0.2167 - dense_1_acc_6: 0.1500 - dense_1_acc_7: 0.1000 - dense_1_acc_8: 0.1667 - dense_1_acc_9: 0.1667 - dense_1_acc_10: 0.1667 - dense_1_acc_11: 0.1167 - dense_1_acc_12: 0.0500 - dense_1_acc_13: 0.0833 - dense_1_acc_14: 0.1333 - dense_1_acc_15: 0.0833 - dense_1_acc_16: 0.1500 - dense_1_acc_17: 0.1500 - dense_1_acc_18: 0.0667 - dense_1_acc_19: 0.1500 - dense_1_acc_20: 0.1167 - dense_1_acc_21: 0.1000 - dense_1_acc_22: 0.1167 - dense_1_acc_23: 0.1000 - dense_1_acc_24: 0.1000 - dense_1_acc_25: 0.1167 - dense_1_acc_26: 0.2333 - dense_1_acc_27: 0.0500 - dense_1_acc_28: 0.1833 - dense_1_acc_29: 0.1500 - dense_1_acc_30: 0.0000e+00     \n",
      "Epoch 5/100\n",
      "60/60 [==============================] - 0s - loss: 111.1862 - dense_1_loss_1: 4.2767 - dense_1_loss_2: 4.1695 - dense_1_loss_3: 4.0388 - dense_1_loss_4: 4.0040 - dense_1_loss_5: 3.8798 - dense_1_loss_6: 3.9167 - dense_1_loss_7: 3.8927 - dense_1_loss_8: 3.6403 - dense_1_loss_9: 3.7438 - dense_1_loss_10: 3.5819 - dense_1_loss_11: 3.6924 - dense_1_loss_12: 3.9833 - dense_1_loss_13: 3.7540 - dense_1_loss_14: 3.7008 - dense_1_loss_15: 3.7637 - dense_1_loss_16: 3.7861 - dense_1_loss_17: 3.8575 - dense_1_loss_18: 3.8283 - dense_1_loss_19: 3.6919 - dense_1_loss_20: 3.9385 - dense_1_loss_21: 3.9782 - dense_1_loss_22: 3.7872 - dense_1_loss_23: 3.7617 - dense_1_loss_24: 3.6397 - dense_1_loss_25: 3.9438 - dense_1_loss_26: 3.5927 - dense_1_loss_27: 3.6085 - dense_1_loss_28: 3.7948 - dense_1_loss_29: 3.9391 - dense_1_loss_30: 0.0000e+00 - dense_1_acc_1: 0.1000 - dense_1_acc_2: 0.1833 - dense_1_acc_3: 0.2667 - dense_1_acc_4: 0.2000 - dense_1_acc_5: 0.2167 - dense_1_acc_6: 0.0833 - dense_1_acc_7: 0.0833 - dense_1_acc_8: 0.0833 - dense_1_acc_9: 0.1333 - dense_1_acc_10: 0.1500 - dense_1_acc_11: 0.0833 - dense_1_acc_12: 0.0500 - dense_1_acc_13: 0.1333 - dense_1_acc_14: 0.1833 - dense_1_acc_15: 0.1167 - dense_1_acc_16: 0.1000 - dense_1_acc_17: 0.1833 - dense_1_acc_18: 0.0833 - dense_1_acc_19: 0.1333 - dense_1_acc_20: 0.1167 - dense_1_acc_21: 0.1333 - dense_1_acc_22: 0.1000 - dense_1_acc_23: 0.1167 - dense_1_acc_24: 0.1333 - dense_1_acc_25: 0.0833 - dense_1_acc_26: 0.2500 - dense_1_acc_27: 0.1167 - dense_1_acc_28: 0.1167 - dense_1_acc_29: 0.1667 - dense_1_acc_30: 0.0000e+00     \n",
      "Epoch 6/100\n"
     ]
    },
    {
     "name": "stdout",
     "output_type": "stream",
     "text": [
      "60/60 [==============================] - 0s - loss: 108.1380 - dense_1_loss_1: 4.2630 - dense_1_loss_2: 4.1349 - dense_1_loss_3: 3.9732 - dense_1_loss_4: 3.9361 - dense_1_loss_5: 3.8174 - dense_1_loss_6: 3.8808 - dense_1_loss_7: 3.8385 - dense_1_loss_8: 3.5687 - dense_1_loss_9: 3.7018 - dense_1_loss_10: 3.4938 - dense_1_loss_11: 3.6523 - dense_1_loss_12: 3.8692 - dense_1_loss_13: 3.6247 - dense_1_loss_14: 3.5337 - dense_1_loss_15: 3.6812 - dense_1_loss_16: 3.6956 - dense_1_loss_17: 3.6919 - dense_1_loss_18: 3.6915 - dense_1_loss_19: 3.5403 - dense_1_loss_20: 3.7981 - dense_1_loss_21: 3.7989 - dense_1_loss_22: 3.6586 - dense_1_loss_23: 3.6465 - dense_1_loss_24: 3.5774 - dense_1_loss_25: 3.7597 - dense_1_loss_26: 3.4493 - dense_1_loss_27: 3.5435 - dense_1_loss_28: 3.6086 - dense_1_loss_29: 3.7089 - dense_1_loss_30: 0.0000e+00 - dense_1_acc_1: 0.1000 - dense_1_acc_2: 0.1833 - dense_1_acc_3: 0.2667 - dense_1_acc_4: 0.1833 - dense_1_acc_5: 0.1833 - dense_1_acc_6: 0.0500 - dense_1_acc_7: 0.0833 - dense_1_acc_8: 0.1833 - dense_1_acc_9: 0.1667 - dense_1_acc_10: 0.1500 - dense_1_acc_11: 0.0833 - dense_1_acc_12: 0.0667 - dense_1_acc_13: 0.1667 - dense_1_acc_14: 0.1667 - dense_1_acc_15: 0.1500 - dense_1_acc_16: 0.1500 - dense_1_acc_17: 0.2167 - dense_1_acc_18: 0.1000 - dense_1_acc_19: 0.1833 - dense_1_acc_20: 0.1000 - dense_1_acc_21: 0.1000 - dense_1_acc_22: 0.1167 - dense_1_acc_23: 0.1167 - dense_1_acc_24: 0.1500 - dense_1_acc_25: 0.0500 - dense_1_acc_26: 0.1833 - dense_1_acc_27: 0.1167 - dense_1_acc_28: 0.1833 - dense_1_acc_29: 0.1333 - dense_1_acc_30: 0.0000e+00     \n",
      "Epoch 7/100\n",
      "60/60 [==============================] - 0s - loss: 105.6106 - dense_1_loss_1: 4.2487 - dense_1_loss_2: 4.1016 - dense_1_loss_3: 3.9091 - dense_1_loss_4: 3.8584 - dense_1_loss_5: 3.7191 - dense_1_loss_6: 3.8289 - dense_1_loss_7: 3.7834 - dense_1_loss_8: 3.4379 - dense_1_loss_9: 3.5832 - dense_1_loss_10: 3.4157 - dense_1_loss_11: 3.5550 - dense_1_loss_12: 3.7361 - dense_1_loss_13: 3.4728 - dense_1_loss_14: 3.4180 - dense_1_loss_15: 3.5872 - dense_1_loss_16: 3.6120 - dense_1_loss_17: 3.5421 - dense_1_loss_18: 3.6078 - dense_1_loss_19: 3.4591 - dense_1_loss_20: 3.6916 - dense_1_loss_21: 3.6616 - dense_1_loss_22: 3.5980 - dense_1_loss_23: 3.5115 - dense_1_loss_24: 3.4995 - dense_1_loss_25: 3.6982 - dense_1_loss_26: 3.3789 - dense_1_loss_27: 3.4906 - dense_1_loss_28: 3.5186 - dense_1_loss_29: 3.6859 - dense_1_loss_30: 0.0000e+00 - dense_1_acc_1: 0.1000 - dense_1_acc_2: 0.1667 - dense_1_acc_3: 0.2500 - dense_1_acc_4: 0.2000 - dense_1_acc_5: 0.2167 - dense_1_acc_6: 0.1000 - dense_1_acc_7: 0.1333 - dense_1_acc_8: 0.2333 - dense_1_acc_9: 0.1833 - dense_1_acc_10: 0.1500 - dense_1_acc_11: 0.1500 - dense_1_acc_12: 0.1333 - dense_1_acc_13: 0.1500 - dense_1_acc_14: 0.1833 - dense_1_acc_15: 0.1333 - dense_1_acc_16: 0.1167 - dense_1_acc_17: 0.1333 - dense_1_acc_18: 0.1000 - dense_1_acc_19: 0.1667 - dense_1_acc_20: 0.0833 - dense_1_acc_21: 0.0833 - dense_1_acc_22: 0.1167 - dense_1_acc_23: 0.1167 - dense_1_acc_24: 0.0500 - dense_1_acc_25: 0.1000 - dense_1_acc_26: 0.1667 - dense_1_acc_27: 0.1000 - dense_1_acc_28: 0.1333 - dense_1_acc_29: 0.0833 - dense_1_acc_30: 0.0000e+00     \n",
      "Epoch 8/100\n",
      "60/60 [==============================] - 0s - loss: 103.6783 - dense_1_loss_1: 4.2363 - dense_1_loss_2: 4.0642 - dense_1_loss_3: 3.8449 - dense_1_loss_4: 3.7857 - dense_1_loss_5: 3.6349 - dense_1_loss_6: 3.7598 - dense_1_loss_7: 3.7035 - dense_1_loss_8: 3.3779 - dense_1_loss_9: 3.4843 - dense_1_loss_10: 3.3071 - dense_1_loss_11: 3.4797 - dense_1_loss_12: 3.6251 - dense_1_loss_13: 3.3782 - dense_1_loss_14: 3.3598 - dense_1_loss_15: 3.5567 - dense_1_loss_16: 3.5407 - dense_1_loss_17: 3.3695 - dense_1_loss_18: 3.5424 - dense_1_loss_19: 3.4170 - dense_1_loss_20: 3.5697 - dense_1_loss_21: 3.6377 - dense_1_loss_22: 3.5498 - dense_1_loss_23: 3.4995 - dense_1_loss_24: 3.4673 - dense_1_loss_25: 3.6662 - dense_1_loss_26: 3.3033 - dense_1_loss_27: 3.4696 - dense_1_loss_28: 3.4983 - dense_1_loss_29: 3.5492 - dense_1_loss_30: 0.0000e+00 - dense_1_acc_1: 0.1000 - dense_1_acc_2: 0.1500 - dense_1_acc_3: 0.2167 - dense_1_acc_4: 0.1667 - dense_1_acc_5: 0.2167 - dense_1_acc_6: 0.1000 - dense_1_acc_7: 0.1333 - dense_1_acc_8: 0.1667 - dense_1_acc_9: 0.1500 - dense_1_acc_10: 0.1500 - dense_1_acc_11: 0.1167 - dense_1_acc_12: 0.0667 - dense_1_acc_13: 0.1333 - dense_1_acc_14: 0.1667 - dense_1_acc_15: 0.1167 - dense_1_acc_16: 0.1333 - dense_1_acc_17: 0.2167 - dense_1_acc_18: 0.1000 - dense_1_acc_19: 0.1167 - dense_1_acc_20: 0.1333 - dense_1_acc_21: 0.1000 - dense_1_acc_22: 0.0500 - dense_1_acc_23: 0.1500 - dense_1_acc_24: 0.1167 - dense_1_acc_25: 0.0833 - dense_1_acc_26: 0.2000 - dense_1_acc_27: 0.1167 - dense_1_acc_28: 0.1833 - dense_1_acc_29: 0.0833 - dense_1_acc_30: 0.0000e+00     \n",
      "Epoch 9/100\n",
      "60/60 [==============================] - 0s - loss: 100.7492 - dense_1_loss_1: 4.2259 - dense_1_loss_2: 4.0325 - dense_1_loss_3: 3.7843 - dense_1_loss_4: 3.7244 - dense_1_loss_5: 3.5639 - dense_1_loss_6: 3.6952 - dense_1_loss_7: 3.6436 - dense_1_loss_8: 3.2811 - dense_1_loss_9: 3.3879 - dense_1_loss_10: 3.2694 - dense_1_loss_11: 3.3533 - dense_1_loss_12: 3.5413 - dense_1_loss_13: 3.2973 - dense_1_loss_14: 3.2642 - dense_1_loss_15: 3.4434 - dense_1_loss_16: 3.4138 - dense_1_loss_17: 3.3823 - dense_1_loss_18: 3.4259 - dense_1_loss_19: 3.3410 - dense_1_loss_20: 3.4802 - dense_1_loss_21: 3.5023 - dense_1_loss_22: 3.3051 - dense_1_loss_23: 3.3351 - dense_1_loss_24: 3.3589 - dense_1_loss_25: 3.4914 - dense_1_loss_26: 3.0961 - dense_1_loss_27: 3.3355 - dense_1_loss_28: 3.2861 - dense_1_loss_29: 3.4880 - dense_1_loss_30: 0.0000e+00 - dense_1_acc_1: 0.0667 - dense_1_acc_2: 0.1667 - dense_1_acc_3: 0.2167 - dense_1_acc_4: 0.2000 - dense_1_acc_5: 0.2000 - dense_1_acc_6: 0.1000 - dense_1_acc_7: 0.1500 - dense_1_acc_8: 0.1833 - dense_1_acc_9: 0.1667 - dense_1_acc_10: 0.1833 - dense_1_acc_11: 0.1500 - dense_1_acc_12: 0.1167 - dense_1_acc_13: 0.1000 - dense_1_acc_14: 0.1667 - dense_1_acc_15: 0.1500 - dense_1_acc_16: 0.1500 - dense_1_acc_17: 0.1667 - dense_1_acc_18: 0.1167 - dense_1_acc_19: 0.1500 - dense_1_acc_20: 0.1167 - dense_1_acc_21: 0.1000 - dense_1_acc_22: 0.1167 - dense_1_acc_23: 0.1500 - dense_1_acc_24: 0.0667 - dense_1_acc_25: 0.1333 - dense_1_acc_26: 0.2667 - dense_1_acc_27: 0.1000 - dense_1_acc_28: 0.1667 - dense_1_acc_29: 0.1667 - dense_1_acc_30: 0.0000e+00     \n",
      "Epoch 10/100\n",
      "60/60 [==============================] - 0s - loss: 97.9976 - dense_1_loss_1: 4.2169 - dense_1_loss_2: 4.0027 - dense_1_loss_3: 3.7314 - dense_1_loss_4: 3.6685 - dense_1_loss_5: 3.5005 - dense_1_loss_6: 3.6128 - dense_1_loss_7: 3.5588 - dense_1_loss_8: 3.2254 - dense_1_loss_9: 3.3087 - dense_1_loss_10: 3.1756 - dense_1_loss_11: 3.2498 - dense_1_loss_12: 3.4041 - dense_1_loss_13: 3.1977 - dense_1_loss_14: 3.1331 - dense_1_loss_15: 3.2863 - dense_1_loss_16: 3.2498 - dense_1_loss_17: 3.2322 - dense_1_loss_18: 3.3011 - dense_1_loss_19: 3.1751 - dense_1_loss_20: 3.3355 - dense_1_loss_21: 3.4056 - dense_1_loss_22: 3.1851 - dense_1_loss_23: 3.2701 - dense_1_loss_24: 3.2759 - dense_1_loss_25: 3.4331 - dense_1_loss_26: 3.0360 - dense_1_loss_27: 3.2706 - dense_1_loss_28: 3.1471 - dense_1_loss_29: 3.4083 - dense_1_loss_30: 0.0000e+00 - dense_1_acc_1: 0.0333 - dense_1_acc_2: 0.1667 - dense_1_acc_3: 0.2333 - dense_1_acc_4: 0.2500 - dense_1_acc_5: 0.2167 - dense_1_acc_6: 0.1000 - dense_1_acc_7: 0.1500 - dense_1_acc_8: 0.1833 - dense_1_acc_9: 0.1667 - dense_1_acc_10: 0.1500 - dense_1_acc_11: 0.1833 - dense_1_acc_12: 0.1167 - dense_1_acc_13: 0.1667 - dense_1_acc_14: 0.1833 - dense_1_acc_15: 0.1833 - dense_1_acc_16: 0.1500 - dense_1_acc_17: 0.2000 - dense_1_acc_18: 0.1333 - dense_1_acc_19: 0.1833 - dense_1_acc_20: 0.1000 - dense_1_acc_21: 0.1333 - dense_1_acc_22: 0.1667 - dense_1_acc_23: 0.1500 - dense_1_acc_24: 0.1167 - dense_1_acc_25: 0.1500 - dense_1_acc_26: 0.3000 - dense_1_acc_27: 0.1167 - dense_1_acc_28: 0.2167 - dense_1_acc_29: 0.2000 - dense_1_acc_30: 0.0000e+00     \n",
      "Epoch 11/100\n"
     ]
    },
    {
     "name": "stdout",
     "output_type": "stream",
     "text": [
      "60/60 [==============================] - 0s - loss: 95.2376 - dense_1_loss_1: 4.2073 - dense_1_loss_2: 3.9720 - dense_1_loss_3: 3.6790 - dense_1_loss_4: 3.6079 - dense_1_loss_5: 3.4342 - dense_1_loss_6: 3.5045 - dense_1_loss_7: 3.4380 - dense_1_loss_8: 3.1477 - dense_1_loss_9: 3.1897 - dense_1_loss_10: 3.0274 - dense_1_loss_11: 3.1571 - dense_1_loss_12: 3.2878 - dense_1_loss_13: 3.0638 - dense_1_loss_14: 3.1104 - dense_1_loss_15: 3.1535 - dense_1_loss_16: 3.1402 - dense_1_loss_17: 3.1064 - dense_1_loss_18: 3.2123 - dense_1_loss_19: 3.1607 - dense_1_loss_20: 3.2420 - dense_1_loss_21: 3.3026 - dense_1_loss_22: 3.1232 - dense_1_loss_23: 3.1244 - dense_1_loss_24: 3.1078 - dense_1_loss_25: 3.2455 - dense_1_loss_26: 2.9736 - dense_1_loss_27: 3.1499 - dense_1_loss_28: 3.1250 - dense_1_loss_29: 3.2436 - dense_1_loss_30: 0.0000e+00 - dense_1_acc_1: 0.0333 - dense_1_acc_2: 0.1667 - dense_1_acc_3: 0.2500 - dense_1_acc_4: 0.2333 - dense_1_acc_5: 0.2333 - dense_1_acc_6: 0.1333 - dense_1_acc_7: 0.1667 - dense_1_acc_8: 0.2000 - dense_1_acc_9: 0.2167 - dense_1_acc_10: 0.1833 - dense_1_acc_11: 0.1667 - dense_1_acc_12: 0.1333 - dense_1_acc_13: 0.2667 - dense_1_acc_14: 0.2833 - dense_1_acc_15: 0.2500 - dense_1_acc_16: 0.2667 - dense_1_acc_17: 0.2833 - dense_1_acc_18: 0.2000 - dense_1_acc_19: 0.2000 - dense_1_acc_20: 0.2500 - dense_1_acc_21: 0.1833 - dense_1_acc_22: 0.1667 - dense_1_acc_23: 0.2000 - dense_1_acc_24: 0.1667 - dense_1_acc_25: 0.1500 - dense_1_acc_26: 0.3500 - dense_1_acc_27: 0.1000 - dense_1_acc_28: 0.2000 - dense_1_acc_29: 0.2000 - dense_1_acc_30: 0.0000e+00     \n",
      "Epoch 12/100\n",
      "60/60 [==============================] - 0s - loss: 91.7527 - dense_1_loss_1: 4.1980 - dense_1_loss_2: 3.9393 - dense_1_loss_3: 3.6186 - dense_1_loss_4: 3.5326 - dense_1_loss_5: 3.3373 - dense_1_loss_6: 3.3905 - dense_1_loss_7: 3.3295 - dense_1_loss_8: 3.0388 - dense_1_loss_9: 3.0580 - dense_1_loss_10: 2.9277 - dense_1_loss_11: 3.0377 - dense_1_loss_12: 3.1487 - dense_1_loss_13: 2.9455 - dense_1_loss_14: 2.9679 - dense_1_loss_15: 3.0138 - dense_1_loss_16: 3.0681 - dense_1_loss_17: 2.9911 - dense_1_loss_18: 2.9945 - dense_1_loss_19: 2.9799 - dense_1_loss_20: 3.1223 - dense_1_loss_21: 3.1222 - dense_1_loss_22: 2.9443 - dense_1_loss_23: 3.0188 - dense_1_loss_24: 3.0027 - dense_1_loss_25: 3.1031 - dense_1_loss_26: 2.7840 - dense_1_loss_27: 3.0102 - dense_1_loss_28: 2.9773 - dense_1_loss_29: 3.1503 - dense_1_loss_30: 0.0000e+00 - dense_1_acc_1: 0.0333 - dense_1_acc_2: 0.1667 - dense_1_acc_3: 0.2000 - dense_1_acc_4: 0.2333 - dense_1_acc_5: 0.2333 - dense_1_acc_6: 0.1500 - dense_1_acc_7: 0.1833 - dense_1_acc_8: 0.2333 - dense_1_acc_9: 0.2000 - dense_1_acc_10: 0.1667 - dense_1_acc_11: 0.2000 - dense_1_acc_12: 0.1167 - dense_1_acc_13: 0.2667 - dense_1_acc_14: 0.2500 - dense_1_acc_15: 0.2500 - dense_1_acc_16: 0.2000 - dense_1_acc_17: 0.2500 - dense_1_acc_18: 0.1667 - dense_1_acc_19: 0.2167 - dense_1_acc_20: 0.2000 - dense_1_acc_21: 0.1833 - dense_1_acc_22: 0.1667 - dense_1_acc_23: 0.1833 - dense_1_acc_24: 0.1500 - dense_1_acc_25: 0.1667 - dense_1_acc_26: 0.3333 - dense_1_acc_27: 0.1833 - dense_1_acc_28: 0.2833 - dense_1_acc_29: 0.1833 - dense_1_acc_30: 0.0000e+00     \n",
      "Epoch 13/100\n",
      "60/60 [==============================] - 0s - loss: 88.9778 - dense_1_loss_1: 4.1876 - dense_1_loss_2: 3.9053 - dense_1_loss_3: 3.5553 - dense_1_loss_4: 3.4476 - dense_1_loss_5: 3.2401 - dense_1_loss_6: 3.2774 - dense_1_loss_7: 3.2229 - dense_1_loss_8: 2.9324 - dense_1_loss_9: 2.9200 - dense_1_loss_10: 2.8120 - dense_1_loss_11: 2.9222 - dense_1_loss_12: 3.0404 - dense_1_loss_13: 2.8060 - dense_1_loss_14: 2.8633 - dense_1_loss_15: 2.9309 - dense_1_loss_16: 3.0148 - dense_1_loss_17: 2.9178 - dense_1_loss_18: 2.9074 - dense_1_loss_19: 2.8413 - dense_1_loss_20: 3.0071 - dense_1_loss_21: 3.0320 - dense_1_loss_22: 2.8051 - dense_1_loss_23: 2.9268 - dense_1_loss_24: 2.8966 - dense_1_loss_25: 3.0645 - dense_1_loss_26: 2.6677 - dense_1_loss_27: 2.9305 - dense_1_loss_28: 2.8575 - dense_1_loss_29: 3.0453 - dense_1_loss_30: 0.0000e+00 - dense_1_acc_1: 0.0333 - dense_1_acc_2: 0.1667 - dense_1_acc_3: 0.2167 - dense_1_acc_4: 0.2333 - dense_1_acc_5: 0.2000 - dense_1_acc_6: 0.1333 - dense_1_acc_7: 0.1833 - dense_1_acc_8: 0.2833 - dense_1_acc_9: 0.3167 - dense_1_acc_10: 0.2167 - dense_1_acc_11: 0.2167 - dense_1_acc_12: 0.1667 - dense_1_acc_13: 0.3000 - dense_1_acc_14: 0.2833 - dense_1_acc_15: 0.2500 - dense_1_acc_16: 0.2333 - dense_1_acc_17: 0.2500 - dense_1_acc_18: 0.1667 - dense_1_acc_19: 0.2500 - dense_1_acc_20: 0.1500 - dense_1_acc_21: 0.1333 - dense_1_acc_22: 0.1833 - dense_1_acc_23: 0.2333 - dense_1_acc_24: 0.1667 - dense_1_acc_25: 0.1333 - dense_1_acc_26: 0.3000 - dense_1_acc_27: 0.2000 - dense_1_acc_28: 0.2833 - dense_1_acc_29: 0.1667 - dense_1_acc_30: 0.0000e+00         \n",
      "Epoch 14/100\n",
      "60/60 [==============================] - 0s - loss: 85.1696 - dense_1_loss_1: 4.1787 - dense_1_loss_2: 3.8671 - dense_1_loss_3: 3.4880 - dense_1_loss_4: 3.3566 - dense_1_loss_5: 3.1284 - dense_1_loss_6: 3.1510 - dense_1_loss_7: 3.1301 - dense_1_loss_8: 2.8286 - dense_1_loss_9: 2.7558 - dense_1_loss_10: 2.6566 - dense_1_loss_11: 2.8294 - dense_1_loss_12: 2.8597 - dense_1_loss_13: 2.6200 - dense_1_loss_14: 2.6868 - dense_1_loss_15: 2.7774 - dense_1_loss_16: 2.8094 - dense_1_loss_17: 2.7582 - dense_1_loss_18: 2.7704 - dense_1_loss_19: 2.6899 - dense_1_loss_20: 2.8128 - dense_1_loss_21: 2.8689 - dense_1_loss_22: 2.6958 - dense_1_loss_23: 2.7926 - dense_1_loss_24: 2.6905 - dense_1_loss_25: 2.9453 - dense_1_loss_26: 2.5651 - dense_1_loss_27: 2.8613 - dense_1_loss_28: 2.7940 - dense_1_loss_29: 2.8013 - dense_1_loss_30: 0.0000e+00 - dense_1_acc_1: 0.0667 - dense_1_acc_2: 0.1667 - dense_1_acc_3: 0.2500 - dense_1_acc_4: 0.2000 - dense_1_acc_5: 0.2333 - dense_1_acc_6: 0.1500 - dense_1_acc_7: 0.1833 - dense_1_acc_8: 0.2500 - dense_1_acc_9: 0.3000 - dense_1_acc_10: 0.2500 - dense_1_acc_11: 0.2500 - dense_1_acc_12: 0.1667 - dense_1_acc_13: 0.3000 - dense_1_acc_14: 0.2500 - dense_1_acc_15: 0.2167 - dense_1_acc_16: 0.2167 - dense_1_acc_17: 0.3167 - dense_1_acc_18: 0.1667 - dense_1_acc_19: 0.2667 - dense_1_acc_20: 0.2667 - dense_1_acc_21: 0.2333 - dense_1_acc_22: 0.2000 - dense_1_acc_23: 0.2333 - dense_1_acc_24: 0.2000 - dense_1_acc_25: 0.2000 - dense_1_acc_26: 0.3167 - dense_1_acc_27: 0.2000 - dense_1_acc_28: 0.2333 - dense_1_acc_29: 0.2833 - dense_1_acc_30: 0.0000e+00     \n",
      "Epoch 15/100\n",
      "60/60 [==============================] - 0s - loss: 81.4269 - dense_1_loss_1: 4.1700 - dense_1_loss_2: 3.8314 - dense_1_loss_3: 3.4118 - dense_1_loss_4: 3.2656 - dense_1_loss_5: 3.0146 - dense_1_loss_6: 3.0223 - dense_1_loss_7: 2.9956 - dense_1_loss_8: 2.7122 - dense_1_loss_9: 2.6501 - dense_1_loss_10: 2.5431 - dense_1_loss_11: 2.7015 - dense_1_loss_12: 2.7469 - dense_1_loss_13: 2.5059 - dense_1_loss_14: 2.5529 - dense_1_loss_15: 2.6814 - dense_1_loss_16: 2.6492 - dense_1_loss_17: 2.5576 - dense_1_loss_18: 2.6099 - dense_1_loss_19: 2.5500 - dense_1_loss_20: 2.6711 - dense_1_loss_21: 2.7087 - dense_1_loss_22: 2.5267 - dense_1_loss_23: 2.5798 - dense_1_loss_24: 2.5350 - dense_1_loss_25: 2.7784 - dense_1_loss_26: 2.3989 - dense_1_loss_27: 2.7530 - dense_1_loss_28: 2.6394 - dense_1_loss_29: 2.6639 - dense_1_loss_30: 0.0000e+00 - dense_1_acc_1: 0.0667 - dense_1_acc_2: 0.1833 - dense_1_acc_3: 0.2500 - dense_1_acc_4: 0.2167 - dense_1_acc_5: 0.2333 - dense_1_acc_6: 0.1500 - dense_1_acc_7: 0.2333 - dense_1_acc_8: 0.3000 - dense_1_acc_9: 0.3167 - dense_1_acc_10: 0.3000 - dense_1_acc_11: 0.2500 - dense_1_acc_12: 0.1667 - dense_1_acc_13: 0.3000 - dense_1_acc_14: 0.2667 - dense_1_acc_15: 0.2167 - dense_1_acc_16: 0.2500 - dense_1_acc_17: 0.3167 - dense_1_acc_18: 0.1667 - dense_1_acc_19: 0.3167 - dense_1_acc_20: 0.3333 - dense_1_acc_21: 0.2333 - dense_1_acc_22: 0.2167 - dense_1_acc_23: 0.2667 - dense_1_acc_24: 0.2667 - dense_1_acc_25: 0.2500 - dense_1_acc_26: 0.3500 - dense_1_acc_27: 0.2667 - dense_1_acc_28: 0.2833 - dense_1_acc_29: 0.2667 - dense_1_acc_30: 0.0000e+00     \n",
      "Epoch 16/100\n"
     ]
    },
    {
     "name": "stdout",
     "output_type": "stream",
     "text": [
      "60/60 [==============================] - 0s - loss: 77.9495 - dense_1_loss_1: 4.1622 - dense_1_loss_2: 3.7964 - dense_1_loss_3: 3.3265 - dense_1_loss_4: 3.1691 - dense_1_loss_5: 2.9072 - dense_1_loss_6: 2.8962 - dense_1_loss_7: 2.8554 - dense_1_loss_8: 2.5667 - dense_1_loss_9: 2.5134 - dense_1_loss_10: 2.4646 - dense_1_loss_11: 2.5943 - dense_1_loss_12: 2.6323 - dense_1_loss_13: 2.3803 - dense_1_loss_14: 2.3847 - dense_1_loss_15: 2.6211 - dense_1_loss_16: 2.6023 - dense_1_loss_17: 2.4288 - dense_1_loss_18: 2.4475 - dense_1_loss_19: 2.3859 - dense_1_loss_20: 2.5479 - dense_1_loss_21: 2.5529 - dense_1_loss_22: 2.4067 - dense_1_loss_23: 2.3901 - dense_1_loss_24: 2.4649 - dense_1_loss_25: 2.6661 - dense_1_loss_26: 2.1649 - dense_1_loss_27: 2.5539 - dense_1_loss_28: 2.4747 - dense_1_loss_29: 2.5923 - dense_1_loss_30: 0.0000e+00 - dense_1_acc_1: 0.0667 - dense_1_acc_2: 0.2000 - dense_1_acc_3: 0.2667 - dense_1_acc_4: 0.2167 - dense_1_acc_5: 0.2833 - dense_1_acc_6: 0.1667 - dense_1_acc_7: 0.3000 - dense_1_acc_8: 0.3833 - dense_1_acc_9: 0.3667 - dense_1_acc_10: 0.2833 - dense_1_acc_11: 0.2500 - dense_1_acc_12: 0.2500 - dense_1_acc_13: 0.3500 - dense_1_acc_14: 0.3500 - dense_1_acc_15: 0.2500 - dense_1_acc_16: 0.2833 - dense_1_acc_17: 0.3667 - dense_1_acc_18: 0.2667 - dense_1_acc_19: 0.3500 - dense_1_acc_20: 0.3167 - dense_1_acc_21: 0.3000 - dense_1_acc_22: 0.2500 - dense_1_acc_23: 0.3333 - dense_1_acc_24: 0.2333 - dense_1_acc_25: 0.2833 - dense_1_acc_26: 0.4833 - dense_1_acc_27: 0.3333 - dense_1_acc_28: 0.3167 - dense_1_acc_29: 0.2500 - dense_1_acc_30: 0.0000e+00     \n",
      "Epoch 17/100\n",
      "60/60 [==============================] - 0s - loss: 74.4309 - dense_1_loss_1: 4.1555 - dense_1_loss_2: 3.7574 - dense_1_loss_3: 3.2409 - dense_1_loss_4: 3.0649 - dense_1_loss_5: 2.7834 - dense_1_loss_6: 2.7418 - dense_1_loss_7: 2.7047 - dense_1_loss_8: 2.4409 - dense_1_loss_9: 2.3648 - dense_1_loss_10: 2.3693 - dense_1_loss_11: 2.4327 - dense_1_loss_12: 2.4619 - dense_1_loss_13: 2.2573 - dense_1_loss_14: 2.2824 - dense_1_loss_15: 2.5198 - dense_1_loss_16: 2.4717 - dense_1_loss_17: 2.2275 - dense_1_loss_18: 2.3214 - dense_1_loss_19: 2.3060 - dense_1_loss_20: 2.3798 - dense_1_loss_21: 2.4037 - dense_1_loss_22: 2.3073 - dense_1_loss_23: 2.3148 - dense_1_loss_24: 2.3130 - dense_1_loss_25: 2.5391 - dense_1_loss_26: 2.1125 - dense_1_loss_27: 2.3996 - dense_1_loss_28: 2.3368 - dense_1_loss_29: 2.4199 - dense_1_loss_30: 0.0000e+00 - dense_1_acc_1: 0.0667 - dense_1_acc_2: 0.2833 - dense_1_acc_3: 0.3000 - dense_1_acc_4: 0.2333 - dense_1_acc_5: 0.3167 - dense_1_acc_6: 0.2500 - dense_1_acc_7: 0.3500 - dense_1_acc_8: 0.3667 - dense_1_acc_9: 0.4333 - dense_1_acc_10: 0.3333 - dense_1_acc_11: 0.3500 - dense_1_acc_12: 0.3500 - dense_1_acc_13: 0.4167 - dense_1_acc_14: 0.4667 - dense_1_acc_15: 0.3000 - dense_1_acc_16: 0.2667 - dense_1_acc_17: 0.4333 - dense_1_acc_18: 0.3667 - dense_1_acc_19: 0.3167 - dense_1_acc_20: 0.3667 - dense_1_acc_21: 0.3500 - dense_1_acc_22: 0.3167 - dense_1_acc_23: 0.3500 - dense_1_acc_24: 0.3333 - dense_1_acc_25: 0.2167 - dense_1_acc_26: 0.4333 - dense_1_acc_27: 0.3333 - dense_1_acc_28: 0.3000 - dense_1_acc_29: 0.3000 - dense_1_acc_30: 0.0000e+00     \n",
      "Epoch 18/100\n",
      "60/60 [==============================] - 0s - loss: 70.8095 - dense_1_loss_1: 4.1483 - dense_1_loss_2: 3.7175 - dense_1_loss_3: 3.1554 - dense_1_loss_4: 2.9504 - dense_1_loss_5: 2.6595 - dense_1_loss_6: 2.6025 - dense_1_loss_7: 2.5646 - dense_1_loss_8: 2.3108 - dense_1_loss_9: 2.2240 - dense_1_loss_10: 2.2648 - dense_1_loss_11: 2.2983 - dense_1_loss_12: 2.2517 - dense_1_loss_13: 2.0698 - dense_1_loss_14: 2.1046 - dense_1_loss_15: 2.3819 - dense_1_loss_16: 2.2696 - dense_1_loss_17: 2.1432 - dense_1_loss_18: 2.1855 - dense_1_loss_19: 2.1642 - dense_1_loss_20: 2.1909 - dense_1_loss_21: 2.2887 - dense_1_loss_22: 2.1613 - dense_1_loss_23: 2.2460 - dense_1_loss_24: 2.2460 - dense_1_loss_25: 2.4596 - dense_1_loss_26: 1.9686 - dense_1_loss_27: 2.3132 - dense_1_loss_28: 2.2064 - dense_1_loss_29: 2.2620 - dense_1_loss_30: 0.0000e+00 - dense_1_acc_1: 0.0667 - dense_1_acc_2: 0.2833 - dense_1_acc_3: 0.3000 - dense_1_acc_4: 0.2333 - dense_1_acc_5: 0.3000 - dense_1_acc_6: 0.2833 - dense_1_acc_7: 0.3167 - dense_1_acc_8: 0.3833 - dense_1_acc_9: 0.5667 - dense_1_acc_10: 0.3333 - dense_1_acc_11: 0.4167 - dense_1_acc_12: 0.3000 - dense_1_acc_13: 0.4833 - dense_1_acc_14: 0.4500 - dense_1_acc_15: 0.3333 - dense_1_acc_16: 0.3833 - dense_1_acc_17: 0.4000 - dense_1_acc_18: 0.3833 - dense_1_acc_19: 0.3833 - dense_1_acc_20: 0.4333 - dense_1_acc_21: 0.3333 - dense_1_acc_22: 0.3500 - dense_1_acc_23: 0.3833 - dense_1_acc_24: 0.2667 - dense_1_acc_25: 0.2667 - dense_1_acc_26: 0.4500 - dense_1_acc_27: 0.3167 - dense_1_acc_28: 0.3667 - dense_1_acc_29: 0.3333 - dense_1_acc_30: 0.0000e+00     \n",
      "Epoch 19/100\n",
      "60/60 [==============================] - 0s - loss: 67.3676 - dense_1_loss_1: 4.1405 - dense_1_loss_2: 3.6761 - dense_1_loss_3: 3.0684 - dense_1_loss_4: 2.8445 - dense_1_loss_5: 2.5466 - dense_1_loss_6: 2.4778 - dense_1_loss_7: 2.4250 - dense_1_loss_8: 2.1689 - dense_1_loss_9: 2.1357 - dense_1_loss_10: 2.1824 - dense_1_loss_11: 2.1790 - dense_1_loss_12: 2.1410 - dense_1_loss_13: 1.9884 - dense_1_loss_14: 2.0236 - dense_1_loss_15: 2.2500 - dense_1_loss_16: 2.2141 - dense_1_loss_17: 1.9539 - dense_1_loss_18: 2.0320 - dense_1_loss_19: 1.9944 - dense_1_loss_20: 2.0759 - dense_1_loss_21: 2.1761 - dense_1_loss_22: 2.0678 - dense_1_loss_23: 2.1155 - dense_1_loss_24: 2.1107 - dense_1_loss_25: 2.2683 - dense_1_loss_26: 1.8419 - dense_1_loss_27: 2.1666 - dense_1_loss_28: 2.0269 - dense_1_loss_29: 2.0757 - dense_1_loss_30: 0.0000e+00 - dense_1_acc_1: 0.0667 - dense_1_acc_2: 0.2833 - dense_1_acc_3: 0.3333 - dense_1_acc_4: 0.3000 - dense_1_acc_5: 0.3500 - dense_1_acc_6: 0.3333 - dense_1_acc_7: 0.3833 - dense_1_acc_8: 0.4833 - dense_1_acc_9: 0.5667 - dense_1_acc_10: 0.4000 - dense_1_acc_11: 0.4500 - dense_1_acc_12: 0.3500 - dense_1_acc_13: 0.5500 - dense_1_acc_14: 0.5000 - dense_1_acc_15: 0.3000 - dense_1_acc_16: 0.3500 - dense_1_acc_17: 0.4667 - dense_1_acc_18: 0.4167 - dense_1_acc_19: 0.5167 - dense_1_acc_20: 0.4167 - dense_1_acc_21: 0.3500 - dense_1_acc_22: 0.3667 - dense_1_acc_23: 0.3833 - dense_1_acc_24: 0.3333 - dense_1_acc_25: 0.3000 - dense_1_acc_26: 0.5167 - dense_1_acc_27: 0.4167 - dense_1_acc_28: 0.4500 - dense_1_acc_29: 0.4000 - dense_1_acc_30: 0.0000e+00     \n",
      "Epoch 20/100\n",
      "60/60 [==============================] - 0s - loss: 64.0485 - dense_1_loss_1: 4.1313 - dense_1_loss_2: 3.6277 - dense_1_loss_3: 2.9725 - dense_1_loss_4: 2.7283 - dense_1_loss_5: 2.4315 - dense_1_loss_6: 2.3531 - dense_1_loss_7: 2.2826 - dense_1_loss_8: 2.0605 - dense_1_loss_9: 2.0181 - dense_1_loss_10: 2.0819 - dense_1_loss_11: 2.0488 - dense_1_loss_12: 1.9852 - dense_1_loss_13: 1.8595 - dense_1_loss_14: 1.9283 - dense_1_loss_15: 2.0961 - dense_1_loss_16: 2.1019 - dense_1_loss_17: 1.8330 - dense_1_loss_18: 1.9082 - dense_1_loss_19: 1.8845 - dense_1_loss_20: 1.9609 - dense_1_loss_21: 2.0492 - dense_1_loss_22: 1.9626 - dense_1_loss_23: 1.9816 - dense_1_loss_24: 1.9974 - dense_1_loss_25: 2.1400 - dense_1_loss_26: 1.7480 - dense_1_loss_27: 2.0496 - dense_1_loss_28: 1.8828 - dense_1_loss_29: 1.9431 - dense_1_loss_30: 0.0000e+00 - dense_1_acc_1: 0.0667 - dense_1_acc_2: 0.3000 - dense_1_acc_3: 0.3500 - dense_1_acc_4: 0.2833 - dense_1_acc_5: 0.3833 - dense_1_acc_6: 0.4000 - dense_1_acc_7: 0.4167 - dense_1_acc_8: 0.4667 - dense_1_acc_9: 0.5667 - dense_1_acc_10: 0.3833 - dense_1_acc_11: 0.5000 - dense_1_acc_12: 0.4333 - dense_1_acc_13: 0.5667 - dense_1_acc_14: 0.4500 - dense_1_acc_15: 0.4333 - dense_1_acc_16: 0.3667 - dense_1_acc_17: 0.5667 - dense_1_acc_18: 0.4167 - dense_1_acc_19: 0.6000 - dense_1_acc_20: 0.5667 - dense_1_acc_21: 0.3833 - dense_1_acc_22: 0.4500 - dense_1_acc_23: 0.4167 - dense_1_acc_24: 0.4000 - dense_1_acc_25: 0.3500 - dense_1_acc_26: 0.5500 - dense_1_acc_27: 0.4167 - dense_1_acc_28: 0.4667 - dense_1_acc_29: 0.4333 - dense_1_acc_30: 0.0000e+00     \n",
      "Epoch 21/100\n"
     ]
    },
    {
     "name": "stdout",
     "output_type": "stream",
     "text": [
      "60/60 [==============================] - 0s - loss: 60.6417 - dense_1_loss_1: 4.1228 - dense_1_loss_2: 3.5756 - dense_1_loss_3: 2.8773 - dense_1_loss_4: 2.6136 - dense_1_loss_5: 2.3240 - dense_1_loss_6: 2.2341 - dense_1_loss_7: 2.1423 - dense_1_loss_8: 1.9487 - dense_1_loss_9: 1.8771 - dense_1_loss_10: 1.9485 - dense_1_loss_11: 1.9439 - dense_1_loss_12: 1.8259 - dense_1_loss_13: 1.6677 - dense_1_loss_14: 1.7717 - dense_1_loss_15: 1.9237 - dense_1_loss_16: 1.9268 - dense_1_loss_17: 1.7277 - dense_1_loss_18: 1.8014 - dense_1_loss_19: 1.7412 - dense_1_loss_20: 1.8203 - dense_1_loss_21: 1.9143 - dense_1_loss_22: 1.8347 - dense_1_loss_23: 1.8413 - dense_1_loss_24: 1.9072 - dense_1_loss_25: 2.0754 - dense_1_loss_26: 1.6369 - dense_1_loss_27: 1.9270 - dense_1_loss_28: 1.8007 - dense_1_loss_29: 1.8901 - dense_1_loss_30: 0.0000e+00 - dense_1_acc_1: 0.0667 - dense_1_acc_2: 0.3167 - dense_1_acc_3: 0.3667 - dense_1_acc_4: 0.2667 - dense_1_acc_5: 0.3833 - dense_1_acc_6: 0.4000 - dense_1_acc_7: 0.3833 - dense_1_acc_8: 0.4833 - dense_1_acc_9: 0.6500 - dense_1_acc_10: 0.4833 - dense_1_acc_11: 0.5167 - dense_1_acc_12: 0.5333 - dense_1_acc_13: 0.6167 - dense_1_acc_14: 0.5167 - dense_1_acc_15: 0.4667 - dense_1_acc_16: 0.4667 - dense_1_acc_17: 0.6000 - dense_1_acc_18: 0.5167 - dense_1_acc_19: 0.6500 - dense_1_acc_20: 0.5500 - dense_1_acc_21: 0.3833 - dense_1_acc_22: 0.4500 - dense_1_acc_23: 0.5000 - dense_1_acc_24: 0.4333 - dense_1_acc_25: 0.3333 - dense_1_acc_26: 0.5833 - dense_1_acc_27: 0.5000 - dense_1_acc_28: 0.4833 - dense_1_acc_29: 0.4333 - dense_1_acc_30: 0.0000e+00     \n",
      "Epoch 22/100\n",
      "60/60 [==============================] - 0s - loss: 57.5417 - dense_1_loss_1: 4.1143 - dense_1_loss_2: 3.5199 - dense_1_loss_3: 2.7851 - dense_1_loss_4: 2.5034 - dense_1_loss_5: 2.2261 - dense_1_loss_6: 2.1258 - dense_1_loss_7: 1.9969 - dense_1_loss_8: 1.8580 - dense_1_loss_9: 1.7772 - dense_1_loss_10: 1.8381 - dense_1_loss_11: 1.8023 - dense_1_loss_12: 1.6944 - dense_1_loss_13: 1.5746 - dense_1_loss_14: 1.7042 - dense_1_loss_15: 1.7940 - dense_1_loss_16: 1.7958 - dense_1_loss_17: 1.6495 - dense_1_loss_18: 1.7003 - dense_1_loss_19: 1.6251 - dense_1_loss_20: 1.7084 - dense_1_loss_21: 1.8081 - dense_1_loss_22: 1.7273 - dense_1_loss_23: 1.6899 - dense_1_loss_24: 1.7480 - dense_1_loss_25: 1.9455 - dense_1_loss_26: 1.5711 - dense_1_loss_27: 1.7726 - dense_1_loss_28: 1.7101 - dense_1_loss_29: 1.7759 - dense_1_loss_30: 0.0000e+00 - dense_1_acc_1: 0.0667 - dense_1_acc_2: 0.3167 - dense_1_acc_3: 0.3833 - dense_1_acc_4: 0.2667 - dense_1_acc_5: 0.4167 - dense_1_acc_6: 0.4167 - dense_1_acc_7: 0.4167 - dense_1_acc_8: 0.5333 - dense_1_acc_9: 0.6500 - dense_1_acc_10: 0.4667 - dense_1_acc_11: 0.5167 - dense_1_acc_12: 0.6333 - dense_1_acc_13: 0.6667 - dense_1_acc_14: 0.5667 - dense_1_acc_15: 0.4833 - dense_1_acc_16: 0.5333 - dense_1_acc_17: 0.6667 - dense_1_acc_18: 0.5833 - dense_1_acc_19: 0.6667 - dense_1_acc_20: 0.6500 - dense_1_acc_21: 0.4667 - dense_1_acc_22: 0.5333 - dense_1_acc_23: 0.6333 - dense_1_acc_24: 0.5333 - dense_1_acc_25: 0.4833 - dense_1_acc_26: 0.6833 - dense_1_acc_27: 0.5833 - dense_1_acc_28: 0.5667 - dense_1_acc_29: 0.5167 - dense_1_acc_30: 0.0000e+00     \n",
      "Epoch 23/100\n",
      "60/60 [==============================] - 0s - loss: 54.4930 - dense_1_loss_1: 4.1055 - dense_1_loss_2: 3.4638 - dense_1_loss_3: 2.6924 - dense_1_loss_4: 2.3874 - dense_1_loss_5: 2.1192 - dense_1_loss_6: 2.0030 - dense_1_loss_7: 1.8634 - dense_1_loss_8: 1.7406 - dense_1_loss_9: 1.6676 - dense_1_loss_10: 1.7176 - dense_1_loss_11: 1.7120 - dense_1_loss_12: 1.5544 - dense_1_loss_13: 1.4835 - dense_1_loss_14: 1.6366 - dense_1_loss_15: 1.6646 - dense_1_loss_16: 1.6883 - dense_1_loss_17: 1.5126 - dense_1_loss_18: 1.5705 - dense_1_loss_19: 1.4834 - dense_1_loss_20: 1.6350 - dense_1_loss_21: 1.7022 - dense_1_loss_22: 1.5902 - dense_1_loss_23: 1.5687 - dense_1_loss_24: 1.6659 - dense_1_loss_25: 1.8407 - dense_1_loss_26: 1.4823 - dense_1_loss_27: 1.6658 - dense_1_loss_28: 1.6144 - dense_1_loss_29: 1.6614 - dense_1_loss_30: 0.0000e+00 - dense_1_acc_1: 0.0833 - dense_1_acc_2: 0.3333 - dense_1_acc_3: 0.4000 - dense_1_acc_4: 0.3333 - dense_1_acc_5: 0.4333 - dense_1_acc_6: 0.4667 - dense_1_acc_7: 0.4667 - dense_1_acc_8: 0.5333 - dense_1_acc_9: 0.6500 - dense_1_acc_10: 0.5833 - dense_1_acc_11: 0.5667 - dense_1_acc_12: 0.6000 - dense_1_acc_13: 0.6667 - dense_1_acc_14: 0.5000 - dense_1_acc_15: 0.4833 - dense_1_acc_16: 0.5333 - dense_1_acc_17: 0.6667 - dense_1_acc_18: 0.6333 - dense_1_acc_19: 0.7167 - dense_1_acc_20: 0.6167 - dense_1_acc_21: 0.5333 - dense_1_acc_22: 0.5667 - dense_1_acc_23: 0.6667 - dense_1_acc_24: 0.5667 - dense_1_acc_25: 0.5167 - dense_1_acc_26: 0.7000 - dense_1_acc_27: 0.5833 - dense_1_acc_28: 0.5667 - dense_1_acc_29: 0.6000 - dense_1_acc_30: 0.0000e+00     \n",
      "Epoch 24/100\n",
      "60/60 [==============================] - 0s - loss: 51.5852 - dense_1_loss_1: 4.0977 - dense_1_loss_2: 3.4085 - dense_1_loss_3: 2.5993 - dense_1_loss_4: 2.2713 - dense_1_loss_5: 2.0312 - dense_1_loss_6: 1.8803 - dense_1_loss_7: 1.7470 - dense_1_loss_8: 1.6449 - dense_1_loss_9: 1.5604 - dense_1_loss_10: 1.6204 - dense_1_loss_11: 1.5931 - dense_1_loss_12: 1.4525 - dense_1_loss_13: 1.3818 - dense_1_loss_14: 1.5404 - dense_1_loss_15: 1.5614 - dense_1_loss_16: 1.6244 - dense_1_loss_17: 1.4032 - dense_1_loss_18: 1.4366 - dense_1_loss_19: 1.3823 - dense_1_loss_20: 1.5156 - dense_1_loss_21: 1.5679 - dense_1_loss_22: 1.5300 - dense_1_loss_23: 1.4639 - dense_1_loss_24: 1.5503 - dense_1_loss_25: 1.7035 - dense_1_loss_26: 1.4282 - dense_1_loss_27: 1.5569 - dense_1_loss_28: 1.4788 - dense_1_loss_29: 1.5537 - dense_1_loss_30: 0.0000e+00 - dense_1_acc_1: 0.0667 - dense_1_acc_2: 0.3333 - dense_1_acc_3: 0.4000 - dense_1_acc_4: 0.3500 - dense_1_acc_5: 0.4333 - dense_1_acc_6: 0.4833 - dense_1_acc_7: 0.6000 - dense_1_acc_8: 0.5833 - dense_1_acc_9: 0.6833 - dense_1_acc_10: 0.6667 - dense_1_acc_11: 0.6000 - dense_1_acc_12: 0.6833 - dense_1_acc_13: 0.6833 - dense_1_acc_14: 0.5667 - dense_1_acc_15: 0.5667 - dense_1_acc_16: 0.5833 - dense_1_acc_17: 0.8000 - dense_1_acc_18: 0.7167 - dense_1_acc_19: 0.8000 - dense_1_acc_20: 0.6833 - dense_1_acc_21: 0.6333 - dense_1_acc_22: 0.6667 - dense_1_acc_23: 0.7333 - dense_1_acc_24: 0.7167 - dense_1_acc_25: 0.5833 - dense_1_acc_26: 0.6667 - dense_1_acc_27: 0.6000 - dense_1_acc_28: 0.6333 - dense_1_acc_29: 0.6667 - dense_1_acc_30: 0.0000e+00     \n",
      "Epoch 25/100\n",
      "60/60 [==============================] - 0s - loss: 48.7844 - dense_1_loss_1: 4.0886 - dense_1_loss_2: 3.3501 - dense_1_loss_3: 2.5015 - dense_1_loss_4: 2.1663 - dense_1_loss_5: 1.9389 - dense_1_loss_6: 1.7562 - dense_1_loss_7: 1.6207 - dense_1_loss_8: 1.5507 - dense_1_loss_9: 1.4632 - dense_1_loss_10: 1.5213 - dense_1_loss_11: 1.4565 - dense_1_loss_12: 1.3557 - dense_1_loss_13: 1.2553 - dense_1_loss_14: 1.4362 - dense_1_loss_15: 1.4698 - dense_1_loss_16: 1.4970 - dense_1_loss_17: 1.2817 - dense_1_loss_18: 1.3347 - dense_1_loss_19: 1.3365 - dense_1_loss_20: 1.3920 - dense_1_loss_21: 1.4466 - dense_1_loss_22: 1.4628 - dense_1_loss_23: 1.3643 - dense_1_loss_24: 1.4329 - dense_1_loss_25: 1.5949 - dense_1_loss_26: 1.3870 - dense_1_loss_27: 1.4581 - dense_1_loss_28: 1.3957 - dense_1_loss_29: 1.4692 - dense_1_loss_30: 0.0000e+00 - dense_1_acc_1: 0.0667 - dense_1_acc_2: 0.3500 - dense_1_acc_3: 0.4500 - dense_1_acc_4: 0.3500 - dense_1_acc_5: 0.4333 - dense_1_acc_6: 0.5167 - dense_1_acc_7: 0.5833 - dense_1_acc_8: 0.5833 - dense_1_acc_9: 0.6500 - dense_1_acc_10: 0.6500 - dense_1_acc_11: 0.5833 - dense_1_acc_12: 0.7167 - dense_1_acc_13: 0.7500 - dense_1_acc_14: 0.5667 - dense_1_acc_15: 0.6000 - dense_1_acc_16: 0.7000 - dense_1_acc_17: 0.8000 - dense_1_acc_18: 0.7000 - dense_1_acc_19: 0.8000 - dense_1_acc_20: 0.7000 - dense_1_acc_21: 0.6667 - dense_1_acc_22: 0.6833 - dense_1_acc_23: 0.7500 - dense_1_acc_24: 0.7000 - dense_1_acc_25: 0.5833 - dense_1_acc_26: 0.6667 - dense_1_acc_27: 0.6500 - dense_1_acc_28: 0.6167 - dense_1_acc_29: 0.7000 - dense_1_acc_30: 0.0000e+00     \n",
      "Epoch 26/100\n"
     ]
    },
    {
     "name": "stdout",
     "output_type": "stream",
     "text": [
      "60/60 [==============================] - 0s - loss: 46.0989 - dense_1_loss_1: 4.0800 - dense_1_loss_2: 3.2905 - dense_1_loss_3: 2.3954 - dense_1_loss_4: 2.0680 - dense_1_loss_5: 1.8477 - dense_1_loss_6: 1.6543 - dense_1_loss_7: 1.5179 - dense_1_loss_8: 1.4521 - dense_1_loss_9: 1.3932 - dense_1_loss_10: 1.4252 - dense_1_loss_11: 1.3726 - dense_1_loss_12: 1.2739 - dense_1_loss_13: 1.1474 - dense_1_loss_14: 1.3225 - dense_1_loss_15: 1.3535 - dense_1_loss_16: 1.3951 - dense_1_loss_17: 1.1915 - dense_1_loss_18: 1.2601 - dense_1_loss_19: 1.2425 - dense_1_loss_20: 1.2878 - dense_1_loss_21: 1.3420 - dense_1_loss_22: 1.3411 - dense_1_loss_23: 1.3114 - dense_1_loss_24: 1.3474 - dense_1_loss_25: 1.4724 - dense_1_loss_26: 1.2970 - dense_1_loss_27: 1.3519 - dense_1_loss_28: 1.3047 - dense_1_loss_29: 1.3599 - dense_1_loss_30: 0.0000e+00 - dense_1_acc_1: 0.0667 - dense_1_acc_2: 0.3500 - dense_1_acc_3: 0.5000 - dense_1_acc_4: 0.3667 - dense_1_acc_5: 0.4500 - dense_1_acc_6: 0.5333 - dense_1_acc_7: 0.6167 - dense_1_acc_8: 0.6333 - dense_1_acc_9: 0.6667 - dense_1_acc_10: 0.6333 - dense_1_acc_11: 0.6000 - dense_1_acc_12: 0.7667 - dense_1_acc_13: 0.7667 - dense_1_acc_14: 0.5833 - dense_1_acc_15: 0.6167 - dense_1_acc_16: 0.6833 - dense_1_acc_17: 0.8500 - dense_1_acc_18: 0.7333 - dense_1_acc_19: 0.7833 - dense_1_acc_20: 0.7500 - dense_1_acc_21: 0.7167 - dense_1_acc_22: 0.6833 - dense_1_acc_23: 0.7667 - dense_1_acc_24: 0.7500 - dense_1_acc_25: 0.6167 - dense_1_acc_26: 0.6500 - dense_1_acc_27: 0.6833 - dense_1_acc_28: 0.6667 - dense_1_acc_29: 0.7333 - dense_1_acc_30: 0.0000e+00     \n",
      "Epoch 27/100\n",
      "60/60 [==============================] - 0s - loss: 43.4682 - dense_1_loss_1: 4.0711 - dense_1_loss_2: 3.2326 - dense_1_loss_3: 2.3041 - dense_1_loss_4: 1.9553 - dense_1_loss_5: 1.7533 - dense_1_loss_6: 1.5439 - dense_1_loss_7: 1.4199 - dense_1_loss_8: 1.3511 - dense_1_loss_9: 1.2755 - dense_1_loss_10: 1.3223 - dense_1_loss_11: 1.2885 - dense_1_loss_12: 1.1836 - dense_1_loss_13: 1.0531 - dense_1_loss_14: 1.2322 - dense_1_loss_15: 1.2408 - dense_1_loss_16: 1.3083 - dense_1_loss_17: 1.1139 - dense_1_loss_18: 1.1521 - dense_1_loss_19: 1.1709 - dense_1_loss_20: 1.2243 - dense_1_loss_21: 1.2558 - dense_1_loss_22: 1.2260 - dense_1_loss_23: 1.2149 - dense_1_loss_24: 1.2512 - dense_1_loss_25: 1.3655 - dense_1_loss_26: 1.2124 - dense_1_loss_27: 1.2522 - dense_1_loss_28: 1.2140 - dense_1_loss_29: 1.2794 - dense_1_loss_30: 0.0000e+00 - dense_1_acc_1: 0.0667 - dense_1_acc_2: 0.3500 - dense_1_acc_3: 0.5000 - dense_1_acc_4: 0.3667 - dense_1_acc_5: 0.5000 - dense_1_acc_6: 0.5667 - dense_1_acc_7: 0.6667 - dense_1_acc_8: 0.7000 - dense_1_acc_9: 0.7333 - dense_1_acc_10: 0.6667 - dense_1_acc_11: 0.7333 - dense_1_acc_12: 0.7667 - dense_1_acc_13: 0.8833 - dense_1_acc_14: 0.6667 - dense_1_acc_15: 0.7500 - dense_1_acc_16: 0.7333 - dense_1_acc_17: 0.8500 - dense_1_acc_18: 0.8000 - dense_1_acc_19: 0.8500 - dense_1_acc_20: 0.8167 - dense_1_acc_21: 0.7667 - dense_1_acc_22: 0.7833 - dense_1_acc_23: 0.8500 - dense_1_acc_24: 0.8167 - dense_1_acc_25: 0.6500 - dense_1_acc_26: 0.7000 - dense_1_acc_27: 0.7167 - dense_1_acc_28: 0.8000 - dense_1_acc_29: 0.7500 - dense_1_acc_30: 0.0000e+00     \n",
      "Epoch 28/100\n",
      "60/60 [==============================] - 0s - loss: 41.0283 - dense_1_loss_1: 4.0628 - dense_1_loss_2: 3.1741 - dense_1_loss_3: 2.2061 - dense_1_loss_4: 1.8551 - dense_1_loss_5: 1.6696 - dense_1_loss_6: 1.4365 - dense_1_loss_7: 1.3197 - dense_1_loss_8: 1.2425 - dense_1_loss_9: 1.1797 - dense_1_loss_10: 1.2257 - dense_1_loss_11: 1.1863 - dense_1_loss_12: 1.0988 - dense_1_loss_13: 0.9812 - dense_1_loss_14: 1.1427 - dense_1_loss_15: 1.1437 - dense_1_loss_16: 1.2110 - dense_1_loss_17: 1.0347 - dense_1_loss_18: 1.0584 - dense_1_loss_19: 1.0580 - dense_1_loss_20: 1.1806 - dense_1_loss_21: 1.1818 - dense_1_loss_22: 1.1248 - dense_1_loss_23: 1.1190 - dense_1_loss_24: 1.1801 - dense_1_loss_25: 1.2985 - dense_1_loss_26: 1.1239 - dense_1_loss_27: 1.1707 - dense_1_loss_28: 1.1464 - dense_1_loss_29: 1.2161 - dense_1_loss_30: 0.0000e+00 - dense_1_acc_1: 0.0667 - dense_1_acc_2: 0.3333 - dense_1_acc_3: 0.5000 - dense_1_acc_4: 0.4500 - dense_1_acc_5: 0.5333 - dense_1_acc_6: 0.6000 - dense_1_acc_7: 0.7167 - dense_1_acc_8: 0.8000 - dense_1_acc_9: 0.7500 - dense_1_acc_10: 0.7333 - dense_1_acc_11: 0.7833 - dense_1_acc_12: 0.8333 - dense_1_acc_13: 0.9000 - dense_1_acc_14: 0.7333 - dense_1_acc_15: 0.7833 - dense_1_acc_16: 0.7833 - dense_1_acc_17: 0.8667 - dense_1_acc_18: 0.8667 - dense_1_acc_19: 0.8833 - dense_1_acc_20: 0.8167 - dense_1_acc_21: 0.7667 - dense_1_acc_22: 0.8000 - dense_1_acc_23: 0.8500 - dense_1_acc_24: 0.8167 - dense_1_acc_25: 0.6833 - dense_1_acc_26: 0.8000 - dense_1_acc_27: 0.7500 - dense_1_acc_28: 0.8167 - dense_1_acc_29: 0.8000 - dense_1_acc_30: 0.0000e+00     \n",
      "Epoch 29/100\n",
      "60/60 [==============================] - 0s - loss: 38.6607 - dense_1_loss_1: 4.0547 - dense_1_loss_2: 3.1172 - dense_1_loss_3: 2.1184 - dense_1_loss_4: 1.7628 - dense_1_loss_5: 1.5831 - dense_1_loss_6: 1.3435 - dense_1_loss_7: 1.2263 - dense_1_loss_8: 1.1257 - dense_1_loss_9: 1.1171 - dense_1_loss_10: 1.1355 - dense_1_loss_11: 1.0847 - dense_1_loss_12: 1.0071 - dense_1_loss_13: 0.9191 - dense_1_loss_14: 1.0439 - dense_1_loss_15: 1.0683 - dense_1_loss_16: 1.1119 - dense_1_loss_17: 0.9425 - dense_1_loss_18: 0.9832 - dense_1_loss_19: 0.9735 - dense_1_loss_20: 1.1036 - dense_1_loss_21: 1.0941 - dense_1_loss_22: 1.0925 - dense_1_loss_23: 1.0432 - dense_1_loss_24: 1.0926 - dense_1_loss_25: 1.1965 - dense_1_loss_26: 1.0177 - dense_1_loss_27: 1.0948 - dense_1_loss_28: 1.0692 - dense_1_loss_29: 1.1383 - dense_1_loss_30: 0.0000e+00 - dense_1_acc_1: 0.0667 - dense_1_acc_2: 0.3667 - dense_1_acc_3: 0.5333 - dense_1_acc_4: 0.5167 - dense_1_acc_5: 0.5167 - dense_1_acc_6: 0.6833 - dense_1_acc_7: 0.7667 - dense_1_acc_8: 0.8333 - dense_1_acc_9: 0.7667 - dense_1_acc_10: 0.7667 - dense_1_acc_11: 0.7500 - dense_1_acc_12: 0.8500 - dense_1_acc_13: 0.8667 - dense_1_acc_14: 0.7500 - dense_1_acc_15: 0.8000 - dense_1_acc_16: 0.8000 - dense_1_acc_17: 0.8833 - dense_1_acc_18: 0.8167 - dense_1_acc_19: 0.8667 - dense_1_acc_20: 0.8333 - dense_1_acc_21: 0.8667 - dense_1_acc_22: 0.8333 - dense_1_acc_23: 0.8333 - dense_1_acc_24: 0.8167 - dense_1_acc_25: 0.7333 - dense_1_acc_26: 0.8167 - dense_1_acc_27: 0.7500 - dense_1_acc_28: 0.7833 - dense_1_acc_29: 0.8167 - dense_1_acc_30: 0.0000e+00     \n",
      "Epoch 30/100\n",
      "60/60 [==============================] - 0s - loss: 36.3481 - dense_1_loss_1: 4.0470 - dense_1_loss_2: 3.0560 - dense_1_loss_3: 2.0394 - dense_1_loss_4: 1.6726 - dense_1_loss_5: 1.4881 - dense_1_loss_6: 1.2553 - dense_1_loss_7: 1.1404 - dense_1_loss_8: 1.0236 - dense_1_loss_9: 1.0158 - dense_1_loss_10: 1.0532 - dense_1_loss_11: 0.9921 - dense_1_loss_12: 0.9339 - dense_1_loss_13: 0.8486 - dense_1_loss_14: 0.9399 - dense_1_loss_15: 0.9884 - dense_1_loss_16: 1.0256 - dense_1_loss_17: 0.8693 - dense_1_loss_18: 0.9011 - dense_1_loss_19: 0.9162 - dense_1_loss_20: 1.0352 - dense_1_loss_21: 1.0015 - dense_1_loss_22: 0.9922 - dense_1_loss_23: 0.9695 - dense_1_loss_24: 1.0172 - dense_1_loss_25: 1.1045 - dense_1_loss_26: 0.9737 - dense_1_loss_27: 0.9917 - dense_1_loss_28: 0.9827 - dense_1_loss_29: 1.0736 - dense_1_loss_30: 0.0000e+00 - dense_1_acc_1: 0.0667 - dense_1_acc_2: 0.3667 - dense_1_acc_3: 0.5500 - dense_1_acc_4: 0.5167 - dense_1_acc_5: 0.5333 - dense_1_acc_6: 0.7500 - dense_1_acc_7: 0.8333 - dense_1_acc_8: 0.8667 - dense_1_acc_9: 0.7667 - dense_1_acc_10: 0.7500 - dense_1_acc_11: 0.8167 - dense_1_acc_12: 0.8500 - dense_1_acc_13: 0.8667 - dense_1_acc_14: 0.8667 - dense_1_acc_15: 0.8333 - dense_1_acc_16: 0.9167 - dense_1_acc_17: 0.9167 - dense_1_acc_18: 0.8167 - dense_1_acc_19: 0.9167 - dense_1_acc_20: 0.8500 - dense_1_acc_21: 0.8667 - dense_1_acc_22: 0.9000 - dense_1_acc_23: 0.8667 - dense_1_acc_24: 0.9167 - dense_1_acc_25: 0.7500 - dense_1_acc_26: 0.8500 - dense_1_acc_27: 0.8333 - dense_1_acc_28: 0.8833 - dense_1_acc_29: 0.8333 - dense_1_acc_30: 0.0000e+00     \n",
      "Epoch 31/100\n"
     ]
    },
    {
     "name": "stdout",
     "output_type": "stream",
     "text": [
      "60/60 [==============================] - 0s - loss: 34.2496 - dense_1_loss_1: 4.0384 - dense_1_loss_2: 3.0004 - dense_1_loss_3: 1.9626 - dense_1_loss_4: 1.5789 - dense_1_loss_5: 1.4012 - dense_1_loss_6: 1.1629 - dense_1_loss_7: 1.0671 - dense_1_loss_8: 0.9617 - dense_1_loss_9: 0.9256 - dense_1_loss_10: 0.9595 - dense_1_loss_11: 0.9371 - dense_1_loss_12: 0.8606 - dense_1_loss_13: 0.7775 - dense_1_loss_14: 0.8787 - dense_1_loss_15: 0.9134 - dense_1_loss_16: 0.9644 - dense_1_loss_17: 0.7972 - dense_1_loss_18: 0.8118 - dense_1_loss_19: 0.8605 - dense_1_loss_20: 0.9663 - dense_1_loss_21: 0.9320 - dense_1_loss_22: 0.9033 - dense_1_loss_23: 0.8962 - dense_1_loss_24: 0.9309 - dense_1_loss_25: 1.0225 - dense_1_loss_26: 0.9412 - dense_1_loss_27: 0.9266 - dense_1_loss_28: 0.9024 - dense_1_loss_29: 0.9687 - dense_1_loss_30: 0.0000e+00 - dense_1_acc_1: 0.0667 - dense_1_acc_2: 0.3667 - dense_1_acc_3: 0.5667 - dense_1_acc_4: 0.5333 - dense_1_acc_5: 0.5667 - dense_1_acc_6: 0.7667 - dense_1_acc_7: 0.8667 - dense_1_acc_8: 0.8667 - dense_1_acc_9: 0.8667 - dense_1_acc_10: 0.8167 - dense_1_acc_11: 0.8833 - dense_1_acc_12: 0.9500 - dense_1_acc_13: 0.8833 - dense_1_acc_14: 0.9333 - dense_1_acc_15: 0.9333 - dense_1_acc_16: 0.9500 - dense_1_acc_17: 0.9167 - dense_1_acc_18: 0.9000 - dense_1_acc_19: 0.9000 - dense_1_acc_20: 0.9000 - dense_1_acc_21: 0.9167 - dense_1_acc_22: 0.9333 - dense_1_acc_23: 0.9333 - dense_1_acc_24: 0.9333 - dense_1_acc_25: 0.8167 - dense_1_acc_26: 0.8833 - dense_1_acc_27: 0.8500 - dense_1_acc_28: 0.9500 - dense_1_acc_29: 0.8667 - dense_1_acc_30: 0.0000e+00     \n",
      "Epoch 32/100\n",
      "60/60 [==============================] - 0s - loss: 32.2253 - dense_1_loss_1: 4.0302 - dense_1_loss_2: 2.9433 - dense_1_loss_3: 1.8889 - dense_1_loss_4: 1.4997 - dense_1_loss_5: 1.3210 - dense_1_loss_6: 1.1045 - dense_1_loss_7: 0.9927 - dense_1_loss_8: 0.8816 - dense_1_loss_9: 0.8601 - dense_1_loss_10: 0.8563 - dense_1_loss_11: 0.8602 - dense_1_loss_12: 0.7863 - dense_1_loss_13: 0.7190 - dense_1_loss_14: 0.7894 - dense_1_loss_15: 0.8274 - dense_1_loss_16: 0.8780 - dense_1_loss_17: 0.7436 - dense_1_loss_18: 0.7442 - dense_1_loss_19: 0.7785 - dense_1_loss_20: 0.8962 - dense_1_loss_21: 0.8780 - dense_1_loss_22: 0.8292 - dense_1_loss_23: 0.8381 - dense_1_loss_24: 0.8751 - dense_1_loss_25: 0.9298 - dense_1_loss_26: 0.8394 - dense_1_loss_27: 0.8506 - dense_1_loss_28: 0.8609 - dense_1_loss_29: 0.9231 - dense_1_loss_30: 0.0000e+00 - dense_1_acc_1: 0.0667 - dense_1_acc_2: 0.3667 - dense_1_acc_3: 0.5833 - dense_1_acc_4: 0.5500 - dense_1_acc_5: 0.6000 - dense_1_acc_6: 0.7667 - dense_1_acc_7: 0.8667 - dense_1_acc_8: 0.9333 - dense_1_acc_9: 0.8333 - dense_1_acc_10: 0.9000 - dense_1_acc_11: 0.8667 - dense_1_acc_12: 0.9500 - dense_1_acc_13: 0.8833 - dense_1_acc_14: 0.9833 - dense_1_acc_15: 0.9667 - dense_1_acc_16: 0.9333 - dense_1_acc_17: 0.9333 - dense_1_acc_18: 0.9500 - dense_1_acc_19: 0.9667 - dense_1_acc_20: 0.9000 - dense_1_acc_21: 0.9167 - dense_1_acc_22: 0.9333 - dense_1_acc_23: 0.9333 - dense_1_acc_24: 0.9500 - dense_1_acc_25: 0.8333 - dense_1_acc_26: 0.9167 - dense_1_acc_27: 0.9500 - dense_1_acc_28: 0.9500 - dense_1_acc_29: 0.8833 - dense_1_acc_30: 0.0000e+00     \n",
      "Epoch 33/100\n",
      "60/60 [==============================] - 0s - loss: 30.3238 - dense_1_loss_1: 4.0227 - dense_1_loss_2: 2.8859 - dense_1_loss_3: 1.8172 - dense_1_loss_4: 1.4194 - dense_1_loss_5: 1.2376 - dense_1_loss_6: 1.0134 - dense_1_loss_7: 0.9052 - dense_1_loss_8: 0.8248 - dense_1_loss_9: 0.7968 - dense_1_loss_10: 0.7889 - dense_1_loss_11: 0.7726 - dense_1_loss_12: 0.7213 - dense_1_loss_13: 0.6811 - dense_1_loss_14: 0.7293 - dense_1_loss_15: 0.7732 - dense_1_loss_16: 0.8062 - dense_1_loss_17: 0.6743 - dense_1_loss_18: 0.6960 - dense_1_loss_19: 0.7185 - dense_1_loss_20: 0.8312 - dense_1_loss_21: 0.8082 - dense_1_loss_22: 0.7828 - dense_1_loss_23: 0.7617 - dense_1_loss_24: 0.8125 - dense_1_loss_25: 0.8419 - dense_1_loss_26: 0.7797 - dense_1_loss_27: 0.7949 - dense_1_loss_28: 0.7892 - dense_1_loss_29: 0.8374 - dense_1_loss_30: 0.0000e+00 - dense_1_acc_1: 0.0667 - dense_1_acc_2: 0.3833 - dense_1_acc_3: 0.5833 - dense_1_acc_4: 0.5833 - dense_1_acc_5: 0.7000 - dense_1_acc_6: 0.8500 - dense_1_acc_7: 0.9333 - dense_1_acc_8: 0.9333 - dense_1_acc_9: 0.8500 - dense_1_acc_10: 0.9167 - dense_1_acc_11: 0.9833 - dense_1_acc_12: 0.9667 - dense_1_acc_13: 0.8833 - dense_1_acc_14: 0.9833 - dense_1_acc_15: 0.9833 - dense_1_acc_16: 0.9667 - dense_1_acc_17: 0.9333 - dense_1_acc_18: 0.9500 - dense_1_acc_19: 0.9833 - dense_1_acc_20: 0.9333 - dense_1_acc_21: 0.9333 - dense_1_acc_22: 1.0000 - dense_1_acc_23: 0.9500 - dense_1_acc_24: 0.9333 - dense_1_acc_25: 0.8500 - dense_1_acc_26: 0.9500 - dense_1_acc_27: 0.9667 - dense_1_acc_28: 0.9667 - dense_1_acc_29: 0.9167 - dense_1_acc_30: 0.0000e+00     \n",
      "Epoch 34/100\n",
      "60/60 [==============================] - 0s - loss: 28.5072 - dense_1_loss_1: 4.0154 - dense_1_loss_2: 2.8345 - dense_1_loss_3: 1.7500 - dense_1_loss_4: 1.3338 - dense_1_loss_5: 1.1515 - dense_1_loss_6: 0.9248 - dense_1_loss_7: 0.8340 - dense_1_loss_8: 0.7507 - dense_1_loss_9: 0.7349 - dense_1_loss_10: 0.7093 - dense_1_loss_11: 0.7188 - dense_1_loss_12: 0.6331 - dense_1_loss_13: 0.6205 - dense_1_loss_14: 0.6873 - dense_1_loss_15: 0.7124 - dense_1_loss_16: 0.7327 - dense_1_loss_17: 0.6155 - dense_1_loss_18: 0.6455 - dense_1_loss_19: 0.6749 - dense_1_loss_20: 0.7516 - dense_1_loss_21: 0.7422 - dense_1_loss_22: 0.7158 - dense_1_loss_23: 0.7222 - dense_1_loss_24: 0.7400 - dense_1_loss_25: 0.7842 - dense_1_loss_26: 0.7211 - dense_1_loss_27: 0.7361 - dense_1_loss_28: 0.7387 - dense_1_loss_29: 0.7758 - dense_1_loss_30: 0.0000e+00 - dense_1_acc_1: 0.0667 - dense_1_acc_2: 0.3833 - dense_1_acc_3: 0.6167 - dense_1_acc_4: 0.6167 - dense_1_acc_5: 0.7500 - dense_1_acc_6: 0.9000 - dense_1_acc_7: 0.9333 - dense_1_acc_8: 0.9667 - dense_1_acc_9: 0.8667 - dense_1_acc_10: 0.9333 - dense_1_acc_11: 1.0000 - dense_1_acc_12: 0.9833 - dense_1_acc_13: 0.9500 - dense_1_acc_14: 0.9833 - dense_1_acc_15: 0.9667 - dense_1_acc_16: 0.9833 - dense_1_acc_17: 0.9500 - dense_1_acc_18: 0.9500 - dense_1_acc_19: 0.9333 - dense_1_acc_20: 0.9667 - dense_1_acc_21: 0.9500 - dense_1_acc_22: 1.0000 - dense_1_acc_23: 0.9500 - dense_1_acc_24: 0.9500 - dense_1_acc_25: 0.8833 - dense_1_acc_26: 0.9667 - dense_1_acc_27: 0.9833 - dense_1_acc_28: 0.9667 - dense_1_acc_29: 0.9167 - dense_1_acc_30: 0.0000e+00     \n",
      "Epoch 35/100\n",
      "60/60 [==============================] - 0s - loss: 26.8292 - dense_1_loss_1: 4.0081 - dense_1_loss_2: 2.7792 - dense_1_loss_3: 1.6808 - dense_1_loss_4: 1.2545 - dense_1_loss_5: 1.0742 - dense_1_loss_6: 0.8525 - dense_1_loss_7: 0.7577 - dense_1_loss_8: 0.6960 - dense_1_loss_9: 0.6802 - dense_1_loss_10: 0.6582 - dense_1_loss_11: 0.6402 - dense_1_loss_12: 0.5870 - dense_1_loss_13: 0.5700 - dense_1_loss_14: 0.6215 - dense_1_loss_15: 0.6596 - dense_1_loss_16: 0.6756 - dense_1_loss_17: 0.5728 - dense_1_loss_18: 0.5763 - dense_1_loss_19: 0.6303 - dense_1_loss_20: 0.6986 - dense_1_loss_21: 0.6879 - dense_1_loss_22: 0.6619 - dense_1_loss_23: 0.6591 - dense_1_loss_24: 0.6879 - dense_1_loss_25: 0.7234 - dense_1_loss_26: 0.6722 - dense_1_loss_27: 0.6594 - dense_1_loss_28: 0.6831 - dense_1_loss_29: 0.7209 - dense_1_loss_30: 0.0000e+00 - dense_1_acc_1: 0.0667 - dense_1_acc_2: 0.3833 - dense_1_acc_3: 0.6333 - dense_1_acc_4: 0.6333 - dense_1_acc_5: 0.7833 - dense_1_acc_6: 0.9000 - dense_1_acc_7: 0.9667 - dense_1_acc_8: 0.9333 - dense_1_acc_9: 0.8833 - dense_1_acc_10: 0.9500 - dense_1_acc_11: 1.0000 - dense_1_acc_12: 1.0000 - dense_1_acc_13: 0.9667 - dense_1_acc_14: 1.0000 - dense_1_acc_15: 0.9833 - dense_1_acc_16: 1.0000 - dense_1_acc_17: 0.9667 - dense_1_acc_18: 0.9833 - dense_1_acc_19: 0.9500 - dense_1_acc_20: 0.9667 - dense_1_acc_21: 0.9500 - dense_1_acc_22: 0.9833 - dense_1_acc_23: 0.9500 - dense_1_acc_24: 0.9500 - dense_1_acc_25: 0.9000 - dense_1_acc_26: 0.9833 - dense_1_acc_27: 0.9667 - dense_1_acc_28: 0.9833 - dense_1_acc_29: 0.9333 - dense_1_acc_30: 0.0000e+00     \n",
      "Epoch 36/100\n"
     ]
    },
    {
     "name": "stdout",
     "output_type": "stream",
     "text": [
      "60/60 [==============================] - 0s - loss: 25.2286 - dense_1_loss_1: 4.0014 - dense_1_loss_2: 2.7265 - dense_1_loss_3: 1.6173 - dense_1_loss_4: 1.1824 - dense_1_loss_5: 1.0045 - dense_1_loss_6: 0.7803 - dense_1_loss_7: 0.7009 - dense_1_loss_8: 0.6365 - dense_1_loss_9: 0.6278 - dense_1_loss_10: 0.5898 - dense_1_loss_11: 0.5912 - dense_1_loss_12: 0.5380 - dense_1_loss_13: 0.5277 - dense_1_loss_14: 0.5540 - dense_1_loss_15: 0.6051 - dense_1_loss_16: 0.6247 - dense_1_loss_17: 0.5264 - dense_1_loss_18: 0.5166 - dense_1_loss_19: 0.5655 - dense_1_loss_20: 0.6419 - dense_1_loss_21: 0.6428 - dense_1_loss_22: 0.6059 - dense_1_loss_23: 0.6130 - dense_1_loss_24: 0.6207 - dense_1_loss_25: 0.6800 - dense_1_loss_26: 0.6048 - dense_1_loss_27: 0.5977 - dense_1_loss_28: 0.6241 - dense_1_loss_29: 0.6811 - dense_1_loss_30: 0.0000e+00 - dense_1_acc_1: 0.0667 - dense_1_acc_2: 0.4167 - dense_1_acc_3: 0.6333 - dense_1_acc_4: 0.6500 - dense_1_acc_5: 0.7833 - dense_1_acc_6: 0.9000 - dense_1_acc_7: 0.9833 - dense_1_acc_8: 0.9667 - dense_1_acc_9: 0.9333 - dense_1_acc_10: 0.9667 - dense_1_acc_11: 1.0000 - dense_1_acc_12: 1.0000 - dense_1_acc_13: 0.9833 - dense_1_acc_14: 1.0000 - dense_1_acc_15: 0.9833 - dense_1_acc_16: 1.0000 - dense_1_acc_17: 0.9667 - dense_1_acc_18: 1.0000 - dense_1_acc_19: 0.9833 - dense_1_acc_20: 0.9667 - dense_1_acc_21: 0.9500 - dense_1_acc_22: 0.9833 - dense_1_acc_23: 0.9500 - dense_1_acc_24: 0.9500 - dense_1_acc_25: 0.9000 - dense_1_acc_26: 0.9833 - dense_1_acc_27: 1.0000 - dense_1_acc_28: 0.9833 - dense_1_acc_29: 0.9333 - dense_1_acc_30: 0.0000e+00     \n",
      "Epoch 37/100\n",
      "60/60 [==============================] - 0s - loss: 23.7662 - dense_1_loss_1: 3.9945 - dense_1_loss_2: 2.6722 - dense_1_loss_3: 1.5584 - dense_1_loss_4: 1.1140 - dense_1_loss_5: 0.9333 - dense_1_loss_6: 0.7107 - dense_1_loss_7: 0.6455 - dense_1_loss_8: 0.5882 - dense_1_loss_9: 0.5803 - dense_1_loss_10: 0.5272 - dense_1_loss_11: 0.5388 - dense_1_loss_12: 0.4938 - dense_1_loss_13: 0.4850 - dense_1_loss_14: 0.4989 - dense_1_loss_15: 0.5590 - dense_1_loss_16: 0.5668 - dense_1_loss_17: 0.4813 - dense_1_loss_18: 0.4816 - dense_1_loss_19: 0.5288 - dense_1_loss_20: 0.5753 - dense_1_loss_21: 0.6024 - dense_1_loss_22: 0.5521 - dense_1_loss_23: 0.5798 - dense_1_loss_24: 0.5731 - dense_1_loss_25: 0.6221 - dense_1_loss_26: 0.5700 - dense_1_loss_27: 0.5591 - dense_1_loss_28: 0.5592 - dense_1_loss_29: 0.6148 - dense_1_loss_30: 0.0000e+00 - dense_1_acc_1: 0.0667 - dense_1_acc_2: 0.4167 - dense_1_acc_3: 0.6333 - dense_1_acc_4: 0.6667 - dense_1_acc_5: 0.7833 - dense_1_acc_6: 0.9333 - dense_1_acc_7: 0.9667 - dense_1_acc_8: 0.9833 - dense_1_acc_9: 0.9500 - dense_1_acc_10: 1.0000 - dense_1_acc_11: 1.0000 - dense_1_acc_12: 1.0000 - dense_1_acc_13: 1.0000 - dense_1_acc_14: 1.0000 - dense_1_acc_15: 1.0000 - dense_1_acc_16: 1.0000 - dense_1_acc_17: 1.0000 - dense_1_acc_18: 1.0000 - dense_1_acc_19: 0.9833 - dense_1_acc_20: 0.9833 - dense_1_acc_21: 0.9833 - dense_1_acc_22: 1.0000 - dense_1_acc_23: 0.9500 - dense_1_acc_24: 0.9500 - dense_1_acc_25: 0.9167 - dense_1_acc_26: 0.9833 - dense_1_acc_27: 1.0000 - dense_1_acc_28: 0.9833 - dense_1_acc_29: 0.9500 - dense_1_acc_30: 0.0000e+00     \n",
      "Epoch 38/100\n",
      "60/60 [==============================] - 0s - loss: 22.3459 - dense_1_loss_1: 3.9879 - dense_1_loss_2: 2.6188 - dense_1_loss_3: 1.5040 - dense_1_loss_4: 1.0433 - dense_1_loss_5: 0.8700 - dense_1_loss_6: 0.6500 - dense_1_loss_7: 0.5989 - dense_1_loss_8: 0.5460 - dense_1_loss_9: 0.5211 - dense_1_loss_10: 0.4865 - dense_1_loss_11: 0.4862 - dense_1_loss_12: 0.4528 - dense_1_loss_13: 0.4389 - dense_1_loss_14: 0.4726 - dense_1_loss_15: 0.5182 - dense_1_loss_16: 0.5234 - dense_1_loss_17: 0.4337 - dense_1_loss_18: 0.4308 - dense_1_loss_19: 0.4803 - dense_1_loss_20: 0.5271 - dense_1_loss_21: 0.5460 - dense_1_loss_22: 0.5029 - dense_1_loss_23: 0.5206 - dense_1_loss_24: 0.5233 - dense_1_loss_25: 0.5588 - dense_1_loss_26: 0.5106 - dense_1_loss_27: 0.4973 - dense_1_loss_28: 0.5379 - dense_1_loss_29: 0.5580 - dense_1_loss_30: 0.0000e+00 - dense_1_acc_1: 0.0667 - dense_1_acc_2: 0.4167 - dense_1_acc_3: 0.6333 - dense_1_acc_4: 0.6833 - dense_1_acc_5: 0.8167 - dense_1_acc_6: 0.9500 - dense_1_acc_7: 0.9667 - dense_1_acc_8: 0.9667 - dense_1_acc_9: 0.9833 - dense_1_acc_10: 1.0000 - dense_1_acc_11: 1.0000 - dense_1_acc_12: 1.0000 - dense_1_acc_13: 1.0000 - dense_1_acc_14: 1.0000 - dense_1_acc_15: 1.0000 - dense_1_acc_16: 1.0000 - dense_1_acc_17: 1.0000 - dense_1_acc_18: 1.0000 - dense_1_acc_19: 0.9833 - dense_1_acc_20: 0.9833 - dense_1_acc_21: 0.9833 - dense_1_acc_22: 1.0000 - dense_1_acc_23: 0.9500 - dense_1_acc_24: 0.9500 - dense_1_acc_25: 0.9667 - dense_1_acc_26: 0.9833 - dense_1_acc_27: 1.0000 - dense_1_acc_28: 0.9833 - dense_1_acc_29: 0.9500 - dense_1_acc_30: 0.0000e+00     \n",
      "Epoch 39/100\n",
      "60/60 [==============================] - 0s - loss: 21.0376 - dense_1_loss_1: 3.9817 - dense_1_loss_2: 2.5649 - dense_1_loss_3: 1.4507 - dense_1_loss_4: 0.9799 - dense_1_loss_5: 0.8094 - dense_1_loss_6: 0.5980 - dense_1_loss_7: 0.5531 - dense_1_loss_8: 0.4930 - dense_1_loss_9: 0.4815 - dense_1_loss_10: 0.4323 - dense_1_loss_11: 0.4441 - dense_1_loss_12: 0.4084 - dense_1_loss_13: 0.3980 - dense_1_loss_14: 0.4310 - dense_1_loss_15: 0.4715 - dense_1_loss_16: 0.4663 - dense_1_loss_17: 0.3978 - dense_1_loss_18: 0.3922 - dense_1_loss_19: 0.4378 - dense_1_loss_20: 0.4921 - dense_1_loss_21: 0.4945 - dense_1_loss_22: 0.4570 - dense_1_loss_23: 0.4874 - dense_1_loss_24: 0.4680 - dense_1_loss_25: 0.5105 - dense_1_loss_26: 0.4779 - dense_1_loss_27: 0.4543 - dense_1_loss_28: 0.4943 - dense_1_loss_29: 0.5101 - dense_1_loss_30: 0.0000e+00 - dense_1_acc_1: 0.0667 - dense_1_acc_2: 0.4333 - dense_1_acc_3: 0.6500 - dense_1_acc_4: 0.6833 - dense_1_acc_5: 0.8667 - dense_1_acc_6: 0.9500 - dense_1_acc_7: 0.9833 - dense_1_acc_8: 0.9833 - dense_1_acc_9: 0.9667 - dense_1_acc_10: 1.0000 - dense_1_acc_11: 1.0000 - dense_1_acc_12: 1.0000 - dense_1_acc_13: 1.0000 - dense_1_acc_14: 1.0000 - dense_1_acc_15: 1.0000 - dense_1_acc_16: 1.0000 - dense_1_acc_17: 1.0000 - dense_1_acc_18: 1.0000 - dense_1_acc_19: 1.0000 - dense_1_acc_20: 0.9833 - dense_1_acc_21: 0.9833 - dense_1_acc_22: 1.0000 - dense_1_acc_23: 0.9667 - dense_1_acc_24: 0.9500 - dense_1_acc_25: 0.9500 - dense_1_acc_26: 0.9833 - dense_1_acc_27: 1.0000 - dense_1_acc_28: 0.9833 - dense_1_acc_29: 0.9500 - dense_1_acc_30: 0.0000e+00     \n",
      "Epoch 40/100\n",
      "60/60 [==============================] - 0s - loss: 19.8664 - dense_1_loss_1: 3.9755 - dense_1_loss_2: 2.5143 - dense_1_loss_3: 1.3980 - dense_1_loss_4: 0.9137 - dense_1_loss_5: 0.7458 - dense_1_loss_6: 0.5445 - dense_1_loss_7: 0.5037 - dense_1_loss_8: 0.4521 - dense_1_loss_9: 0.4373 - dense_1_loss_10: 0.3866 - dense_1_loss_11: 0.4105 - dense_1_loss_12: 0.3702 - dense_1_loss_13: 0.3682 - dense_1_loss_14: 0.3907 - dense_1_loss_15: 0.4307 - dense_1_loss_16: 0.4239 - dense_1_loss_17: 0.3702 - dense_1_loss_18: 0.3583 - dense_1_loss_19: 0.3980 - dense_1_loss_20: 0.4559 - dense_1_loss_21: 0.4602 - dense_1_loss_22: 0.4209 - dense_1_loss_23: 0.4593 - dense_1_loss_24: 0.4271 - dense_1_loss_25: 0.4791 - dense_1_loss_26: 0.4404 - dense_1_loss_27: 0.4247 - dense_1_loss_28: 0.4299 - dense_1_loss_29: 0.4769 - dense_1_loss_30: 0.0000e+00 - dense_1_acc_1: 0.0667 - dense_1_acc_2: 0.4500 - dense_1_acc_3: 0.6667 - dense_1_acc_4: 0.6833 - dense_1_acc_5: 0.8667 - dense_1_acc_6: 0.9667 - dense_1_acc_7: 0.9833 - dense_1_acc_8: 0.9833 - dense_1_acc_9: 0.9833 - dense_1_acc_10: 1.0000 - dense_1_acc_11: 1.0000 - dense_1_acc_12: 1.0000 - dense_1_acc_13: 1.0000 - dense_1_acc_14: 1.0000 - dense_1_acc_15: 1.0000 - dense_1_acc_16: 1.0000 - dense_1_acc_17: 1.0000 - dense_1_acc_18: 1.0000 - dense_1_acc_19: 1.0000 - dense_1_acc_20: 0.9833 - dense_1_acc_21: 0.9833 - dense_1_acc_22: 1.0000 - dense_1_acc_23: 0.9667 - dense_1_acc_24: 0.9667 - dense_1_acc_25: 0.9500 - dense_1_acc_26: 0.9833 - dense_1_acc_27: 1.0000 - dense_1_acc_28: 0.9833 - dense_1_acc_29: 0.9500 - dense_1_acc_30: 0.0000e+00     \n",
      "Epoch 41/100\n"
     ]
    },
    {
     "name": "stdout",
     "output_type": "stream",
     "text": [
      "60/60 [==============================] - 0s - loss: 18.7639 - dense_1_loss_1: 3.9696 - dense_1_loss_2: 2.4625 - dense_1_loss_3: 1.3484 - dense_1_loss_4: 0.8578 - dense_1_loss_5: 0.6956 - dense_1_loss_6: 0.5031 - dense_1_loss_7: 0.4733 - dense_1_loss_8: 0.4182 - dense_1_loss_9: 0.3941 - dense_1_loss_10: 0.3537 - dense_1_loss_11: 0.3797 - dense_1_loss_12: 0.3385 - dense_1_loss_13: 0.3369 - dense_1_loss_14: 0.3642 - dense_1_loss_15: 0.3949 - dense_1_loss_16: 0.3879 - dense_1_loss_17: 0.3396 - dense_1_loss_18: 0.3250 - dense_1_loss_19: 0.3603 - dense_1_loss_20: 0.4128 - dense_1_loss_21: 0.4156 - dense_1_loss_22: 0.3917 - dense_1_loss_23: 0.4126 - dense_1_loss_24: 0.3899 - dense_1_loss_25: 0.4281 - dense_1_loss_26: 0.3973 - dense_1_loss_27: 0.3748 - dense_1_loss_28: 0.4110 - dense_1_loss_29: 0.4270 - dense_1_loss_30: 0.0000e+00 - dense_1_acc_1: 0.0667 - dense_1_acc_2: 0.4667 - dense_1_acc_3: 0.6667 - dense_1_acc_4: 0.7167 - dense_1_acc_5: 0.8667 - dense_1_acc_6: 0.9667 - dense_1_acc_7: 0.9833 - dense_1_acc_8: 0.9833 - dense_1_acc_9: 0.9833 - dense_1_acc_10: 1.0000 - dense_1_acc_11: 1.0000 - dense_1_acc_12: 1.0000 - dense_1_acc_13: 1.0000 - dense_1_acc_14: 1.0000 - dense_1_acc_15: 1.0000 - dense_1_acc_16: 1.0000 - dense_1_acc_17: 1.0000 - dense_1_acc_18: 1.0000 - dense_1_acc_19: 1.0000 - dense_1_acc_20: 0.9833 - dense_1_acc_21: 1.0000 - dense_1_acc_22: 1.0000 - dense_1_acc_23: 0.9833 - dense_1_acc_24: 0.9667 - dense_1_acc_25: 0.9833 - dense_1_acc_26: 0.9833 - dense_1_acc_27: 1.0000 - dense_1_acc_28: 0.9833 - dense_1_acc_29: 0.9500 - dense_1_acc_30: 0.0000e+00     \n",
      "Epoch 42/100\n",
      "60/60 [==============================] - 0s - loss: 17.7341 - dense_1_loss_1: 3.9633 - dense_1_loss_2: 2.4160 - dense_1_loss_3: 1.3015 - dense_1_loss_4: 0.8033 - dense_1_loss_5: 0.6448 - dense_1_loss_6: 0.4629 - dense_1_loss_7: 0.4444 - dense_1_loss_8: 0.3806 - dense_1_loss_9: 0.3658 - dense_1_loss_10: 0.3190 - dense_1_loss_11: 0.3453 - dense_1_loss_12: 0.3063 - dense_1_loss_13: 0.3047 - dense_1_loss_14: 0.3338 - dense_1_loss_15: 0.3611 - dense_1_loss_16: 0.3504 - dense_1_loss_17: 0.3078 - dense_1_loss_18: 0.2963 - dense_1_loss_19: 0.3346 - dense_1_loss_20: 0.3662 - dense_1_loss_21: 0.3825 - dense_1_loss_22: 0.3557 - dense_1_loss_23: 0.3843 - dense_1_loss_24: 0.3483 - dense_1_loss_25: 0.3923 - dense_1_loss_26: 0.3622 - dense_1_loss_27: 0.3405 - dense_1_loss_28: 0.3728 - dense_1_loss_29: 0.3876 - dense_1_loss_30: 0.0000e+00 - dense_1_acc_1: 0.0667 - dense_1_acc_2: 0.5000 - dense_1_acc_3: 0.6667 - dense_1_acc_4: 0.7333 - dense_1_acc_5: 0.9000 - dense_1_acc_6: 0.9833 - dense_1_acc_7: 0.9833 - dense_1_acc_8: 0.9833 - dense_1_acc_9: 0.9833 - dense_1_acc_10: 1.0000 - dense_1_acc_11: 1.0000 - dense_1_acc_12: 1.0000 - dense_1_acc_13: 1.0000 - dense_1_acc_14: 1.0000 - dense_1_acc_15: 1.0000 - dense_1_acc_16: 1.0000 - dense_1_acc_17: 1.0000 - dense_1_acc_18: 1.0000 - dense_1_acc_19: 1.0000 - dense_1_acc_20: 1.0000 - dense_1_acc_21: 1.0000 - dense_1_acc_22: 1.0000 - dense_1_acc_23: 1.0000 - dense_1_acc_24: 1.0000 - dense_1_acc_25: 0.9833 - dense_1_acc_26: 0.9833 - dense_1_acc_27: 1.0000 - dense_1_acc_28: 0.9833 - dense_1_acc_29: 0.9500 - dense_1_acc_30: 0.0000e+00     \n",
      "Epoch 43/100\n",
      "60/60 [==============================] - 0s - loss: 16.8073 - dense_1_loss_1: 3.9582 - dense_1_loss_2: 2.3662 - dense_1_loss_3: 1.2574 - dense_1_loss_4: 0.7505 - dense_1_loss_5: 0.5998 - dense_1_loss_6: 0.4267 - dense_1_loss_7: 0.4095 - dense_1_loss_8: 0.3468 - dense_1_loss_9: 0.3305 - dense_1_loss_10: 0.2906 - dense_1_loss_11: 0.3094 - dense_1_loss_12: 0.2820 - dense_1_loss_13: 0.2853 - dense_1_loss_14: 0.2997 - dense_1_loss_15: 0.3341 - dense_1_loss_16: 0.3188 - dense_1_loss_17: 0.2825 - dense_1_loss_18: 0.2704 - dense_1_loss_19: 0.3027 - dense_1_loss_20: 0.3395 - dense_1_loss_21: 0.3518 - dense_1_loss_22: 0.3219 - dense_1_loss_23: 0.3416 - dense_1_loss_24: 0.3197 - dense_1_loss_25: 0.3570 - dense_1_loss_26: 0.3359 - dense_1_loss_27: 0.3083 - dense_1_loss_28: 0.3455 - dense_1_loss_29: 0.3650 - dense_1_loss_30: 0.0000e+00 - dense_1_acc_1: 0.0667 - dense_1_acc_2: 0.5167 - dense_1_acc_3: 0.6667 - dense_1_acc_4: 0.8167 - dense_1_acc_5: 0.9333 - dense_1_acc_6: 0.9833 - dense_1_acc_7: 0.9833 - dense_1_acc_8: 0.9833 - dense_1_acc_9: 0.9833 - dense_1_acc_10: 1.0000 - dense_1_acc_11: 1.0000 - dense_1_acc_12: 1.0000 - dense_1_acc_13: 1.0000 - dense_1_acc_14: 1.0000 - dense_1_acc_15: 1.0000 - dense_1_acc_16: 1.0000 - dense_1_acc_17: 1.0000 - dense_1_acc_18: 1.0000 - dense_1_acc_19: 1.0000 - dense_1_acc_20: 1.0000 - dense_1_acc_21: 1.0000 - dense_1_acc_22: 1.0000 - dense_1_acc_23: 1.0000 - dense_1_acc_24: 1.0000 - dense_1_acc_25: 1.0000 - dense_1_acc_26: 0.9833 - dense_1_acc_27: 1.0000 - dense_1_acc_28: 0.9833 - dense_1_acc_29: 0.9667 - dense_1_acc_30: 0.0000e+00     \n",
      "Epoch 44/100\n",
      "60/60 [==============================] - 0s - loss: 15.9469 - dense_1_loss_1: 3.9527 - dense_1_loss_2: 2.3203 - dense_1_loss_3: 1.2146 - dense_1_loss_4: 0.6998 - dense_1_loss_5: 0.5550 - dense_1_loss_6: 0.3934 - dense_1_loss_7: 0.3802 - dense_1_loss_8: 0.3190 - dense_1_loss_9: 0.3012 - dense_1_loss_10: 0.2631 - dense_1_loss_11: 0.2814 - dense_1_loss_12: 0.2566 - dense_1_loss_13: 0.2581 - dense_1_loss_14: 0.2747 - dense_1_loss_15: 0.3048 - dense_1_loss_16: 0.2935 - dense_1_loss_17: 0.2584 - dense_1_loss_18: 0.2458 - dense_1_loss_19: 0.2768 - dense_1_loss_20: 0.3123 - dense_1_loss_21: 0.3276 - dense_1_loss_22: 0.2966 - dense_1_loss_23: 0.3096 - dense_1_loss_24: 0.2947 - dense_1_loss_25: 0.3309 - dense_1_loss_26: 0.3071 - dense_1_loss_27: 0.2795 - dense_1_loss_28: 0.3057 - dense_1_loss_29: 0.3334 - dense_1_loss_30: 0.0000e+00 - dense_1_acc_1: 0.0667 - dense_1_acc_2: 0.5167 - dense_1_acc_3: 0.6833 - dense_1_acc_4: 0.9000 - dense_1_acc_5: 0.9667 - dense_1_acc_6: 0.9833 - dense_1_acc_7: 0.9833 - dense_1_acc_8: 0.9833 - dense_1_acc_9: 0.9833 - dense_1_acc_10: 1.0000 - dense_1_acc_11: 1.0000 - dense_1_acc_12: 1.0000 - dense_1_acc_13: 1.0000 - dense_1_acc_14: 1.0000 - dense_1_acc_15: 1.0000 - dense_1_acc_16: 1.0000 - dense_1_acc_17: 1.0000 - dense_1_acc_18: 1.0000 - dense_1_acc_19: 1.0000 - dense_1_acc_20: 1.0000 - dense_1_acc_21: 1.0000 - dense_1_acc_22: 1.0000 - dense_1_acc_23: 1.0000 - dense_1_acc_24: 1.0000 - dense_1_acc_25: 1.0000 - dense_1_acc_26: 0.9833 - dense_1_acc_27: 1.0000 - dense_1_acc_28: 0.9833 - dense_1_acc_29: 0.9667 - dense_1_acc_30: 0.0000e+00     \n",
      "Epoch 45/100\n",
      "60/60 [==============================] - 0s - loss: 15.1556 - dense_1_loss_1: 3.9481 - dense_1_loss_2: 2.2758 - dense_1_loss_3: 1.1720 - dense_1_loss_4: 0.6552 - dense_1_loss_5: 0.5116 - dense_1_loss_6: 0.3618 - dense_1_loss_7: 0.3509 - dense_1_loss_8: 0.2924 - dense_1_loss_9: 0.2797 - dense_1_loss_10: 0.2355 - dense_1_loss_11: 0.2603 - dense_1_loss_12: 0.2301 - dense_1_loss_13: 0.2321 - dense_1_loss_14: 0.2553 - dense_1_loss_15: 0.2770 - dense_1_loss_16: 0.2667 - dense_1_loss_17: 0.2367 - dense_1_loss_18: 0.2274 - dense_1_loss_19: 0.2549 - dense_1_loss_20: 0.2830 - dense_1_loss_21: 0.2980 - dense_1_loss_22: 0.2771 - dense_1_loss_23: 0.2907 - dense_1_loss_24: 0.2673 - dense_1_loss_25: 0.2962 - dense_1_loss_26: 0.2841 - dense_1_loss_27: 0.2566 - dense_1_loss_28: 0.2774 - dense_1_loss_29: 0.3015 - dense_1_loss_30: 0.0000e+00 - dense_1_acc_1: 0.0667 - dense_1_acc_2: 0.5167 - dense_1_acc_3: 0.7000 - dense_1_acc_4: 0.9000 - dense_1_acc_5: 0.9667 - dense_1_acc_6: 0.9833 - dense_1_acc_7: 0.9833 - dense_1_acc_8: 0.9833 - dense_1_acc_9: 0.9833 - dense_1_acc_10: 1.0000 - dense_1_acc_11: 1.0000 - dense_1_acc_12: 1.0000 - dense_1_acc_13: 1.0000 - dense_1_acc_14: 1.0000 - dense_1_acc_15: 1.0000 - dense_1_acc_16: 1.0000 - dense_1_acc_17: 1.0000 - dense_1_acc_18: 1.0000 - dense_1_acc_19: 1.0000 - dense_1_acc_20: 1.0000 - dense_1_acc_21: 1.0000 - dense_1_acc_22: 1.0000 - dense_1_acc_23: 1.0000 - dense_1_acc_24: 1.0000 - dense_1_acc_25: 1.0000 - dense_1_acc_26: 0.9833 - dense_1_acc_27: 1.0000 - dense_1_acc_28: 1.0000 - dense_1_acc_29: 0.9667 - dense_1_acc_30: 0.0000e+00     \n",
      "Epoch 46/100\n"
     ]
    },
    {
     "name": "stdout",
     "output_type": "stream",
     "text": [
      "60/60 [==============================] - 0s - loss: 14.4300 - dense_1_loss_1: 3.9425 - dense_1_loss_2: 2.2311 - dense_1_loss_3: 1.1335 - dense_1_loss_4: 0.6133 - dense_1_loss_5: 0.4764 - dense_1_loss_6: 0.3353 - dense_1_loss_7: 0.3280 - dense_1_loss_8: 0.2719 - dense_1_loss_9: 0.2566 - dense_1_loss_10: 0.2186 - dense_1_loss_11: 0.2343 - dense_1_loss_12: 0.2136 - dense_1_loss_13: 0.2128 - dense_1_loss_14: 0.2310 - dense_1_loss_15: 0.2522 - dense_1_loss_16: 0.2480 - dense_1_loss_17: 0.2132 - dense_1_loss_18: 0.2086 - dense_1_loss_19: 0.2308 - dense_1_loss_20: 0.2580 - dense_1_loss_21: 0.2697 - dense_1_loss_22: 0.2538 - dense_1_loss_23: 0.2543 - dense_1_loss_24: 0.2446 - dense_1_loss_25: 0.2661 - dense_1_loss_26: 0.2502 - dense_1_loss_27: 0.2366 - dense_1_loss_28: 0.2637 - dense_1_loss_29: 0.2812 - dense_1_loss_30: 0.0000e+00 - dense_1_acc_1: 0.0667 - dense_1_acc_2: 0.5167 - dense_1_acc_3: 0.7333 - dense_1_acc_4: 0.9000 - dense_1_acc_5: 0.9667 - dense_1_acc_6: 0.9833 - dense_1_acc_7: 0.9833 - dense_1_acc_8: 0.9833 - dense_1_acc_9: 0.9833 - dense_1_acc_10: 1.0000 - dense_1_acc_11: 1.0000 - dense_1_acc_12: 1.0000 - dense_1_acc_13: 1.0000 - dense_1_acc_14: 1.0000 - dense_1_acc_15: 1.0000 - dense_1_acc_16: 1.0000 - dense_1_acc_17: 1.0000 - dense_1_acc_18: 1.0000 - dense_1_acc_19: 1.0000 - dense_1_acc_20: 1.0000 - dense_1_acc_21: 1.0000 - dense_1_acc_22: 1.0000 - dense_1_acc_23: 1.0000 - dense_1_acc_24: 1.0000 - dense_1_acc_25: 1.0000 - dense_1_acc_26: 1.0000 - dense_1_acc_27: 1.0000 - dense_1_acc_28: 0.9833 - dense_1_acc_29: 0.9667 - dense_1_acc_30: 0.0000e+00     \n",
      "Epoch 47/100\n",
      "60/60 [==============================] - 0s - loss: 13.7883 - dense_1_loss_1: 3.9378 - dense_1_loss_2: 2.1890 - dense_1_loss_3: 1.0965 - dense_1_loss_4: 0.5723 - dense_1_loss_5: 0.4470 - dense_1_loss_6: 0.3102 - dense_1_loss_7: 0.3059 - dense_1_loss_8: 0.2540 - dense_1_loss_9: 0.2341 - dense_1_loss_10: 0.2028 - dense_1_loss_11: 0.2138 - dense_1_loss_12: 0.1944 - dense_1_loss_13: 0.1963 - dense_1_loss_14: 0.2120 - dense_1_loss_15: 0.2301 - dense_1_loss_16: 0.2290 - dense_1_loss_17: 0.1979 - dense_1_loss_18: 0.1909 - dense_1_loss_19: 0.2109 - dense_1_loss_20: 0.2408 - dense_1_loss_21: 0.2473 - dense_1_loss_22: 0.2327 - dense_1_loss_23: 0.2335 - dense_1_loss_24: 0.2216 - dense_1_loss_25: 0.2514 - dense_1_loss_26: 0.2298 - dense_1_loss_27: 0.2136 - dense_1_loss_28: 0.2299 - dense_1_loss_29: 0.2627 - dense_1_loss_30: 0.0000e+00 - dense_1_acc_1: 0.0667 - dense_1_acc_2: 0.5167 - dense_1_acc_3: 0.7333 - dense_1_acc_4: 0.9000 - dense_1_acc_5: 0.9667 - dense_1_acc_6: 0.9833 - dense_1_acc_7: 0.9833 - dense_1_acc_8: 0.9833 - dense_1_acc_9: 0.9833 - dense_1_acc_10: 1.0000 - dense_1_acc_11: 1.0000 - dense_1_acc_12: 1.0000 - dense_1_acc_13: 1.0000 - dense_1_acc_14: 1.0000 - dense_1_acc_15: 1.0000 - dense_1_acc_16: 1.0000 - dense_1_acc_17: 1.0000 - dense_1_acc_18: 1.0000 - dense_1_acc_19: 1.0000 - dense_1_acc_20: 1.0000 - dense_1_acc_21: 1.0000 - dense_1_acc_22: 1.0000 - dense_1_acc_23: 1.0000 - dense_1_acc_24: 1.0000 - dense_1_acc_25: 1.0000 - dense_1_acc_26: 1.0000 - dense_1_acc_27: 1.0000 - dense_1_acc_28: 1.0000 - dense_1_acc_29: 0.9667 - dense_1_acc_30: 0.0000e+00     \n",
      "Epoch 48/100\n",
      "60/60 [==============================] - 0s - loss: 13.1811 - dense_1_loss_1: 3.9328 - dense_1_loss_2: 2.1474 - dense_1_loss_3: 1.0637 - dense_1_loss_4: 0.5335 - dense_1_loss_5: 0.4158 - dense_1_loss_6: 0.2858 - dense_1_loss_7: 0.2838 - dense_1_loss_8: 0.2308 - dense_1_loss_9: 0.2201 - dense_1_loss_10: 0.1810 - dense_1_loss_11: 0.2007 - dense_1_loss_12: 0.1747 - dense_1_loss_13: 0.1791 - dense_1_loss_14: 0.1949 - dense_1_loss_15: 0.2111 - dense_1_loss_16: 0.2036 - dense_1_loss_17: 0.1840 - dense_1_loss_18: 0.1740 - dense_1_loss_19: 0.1989 - dense_1_loss_20: 0.2160 - dense_1_loss_21: 0.2236 - dense_1_loss_22: 0.2134 - dense_1_loss_23: 0.2241 - dense_1_loss_24: 0.2015 - dense_1_loss_25: 0.2270 - dense_1_loss_26: 0.2180 - dense_1_loss_27: 0.1918 - dense_1_loss_28: 0.2145 - dense_1_loss_29: 0.2354 - dense_1_loss_30: 0.0000e+00 - dense_1_acc_1: 0.0667 - dense_1_acc_2: 0.5167 - dense_1_acc_3: 0.7500 - dense_1_acc_4: 0.9167 - dense_1_acc_5: 0.9667 - dense_1_acc_6: 1.0000 - dense_1_acc_7: 0.9833 - dense_1_acc_8: 0.9833 - dense_1_acc_9: 0.9833 - dense_1_acc_10: 1.0000 - dense_1_acc_11: 1.0000 - dense_1_acc_12: 1.0000 - dense_1_acc_13: 1.0000 - dense_1_acc_14: 1.0000 - dense_1_acc_15: 1.0000 - dense_1_acc_16: 1.0000 - dense_1_acc_17: 1.0000 - dense_1_acc_18: 1.0000 - dense_1_acc_19: 1.0000 - dense_1_acc_20: 1.0000 - dense_1_acc_21: 1.0000 - dense_1_acc_22: 1.0000 - dense_1_acc_23: 1.0000 - dense_1_acc_24: 1.0000 - dense_1_acc_25: 1.0000 - dense_1_acc_26: 1.0000 - dense_1_acc_27: 1.0000 - dense_1_acc_28: 1.0000 - dense_1_acc_29: 0.9833 - dense_1_acc_30: 0.0000e+00     \n",
      "Epoch 49/100\n",
      "60/60 [==============================] - 0s - loss: 12.6405 - dense_1_loss_1: 3.9284 - dense_1_loss_2: 2.1081 - dense_1_loss_3: 1.0286 - dense_1_loss_4: 0.5023 - dense_1_loss_5: 0.3887 - dense_1_loss_6: 0.2687 - dense_1_loss_7: 0.2632 - dense_1_loss_8: 0.2165 - dense_1_loss_9: 0.2036 - dense_1_loss_10: 0.1690 - dense_1_loss_11: 0.1815 - dense_1_loss_12: 0.1617 - dense_1_loss_13: 0.1651 - dense_1_loss_14: 0.1774 - dense_1_loss_15: 0.1988 - dense_1_loss_16: 0.1895 - dense_1_loss_17: 0.1711 - dense_1_loss_18: 0.1585 - dense_1_loss_19: 0.1782 - dense_1_loss_20: 0.2056 - dense_1_loss_21: 0.2074 - dense_1_loss_22: 0.1943 - dense_1_loss_23: 0.1955 - dense_1_loss_24: 0.1845 - dense_1_loss_25: 0.2068 - dense_1_loss_26: 0.1923 - dense_1_loss_27: 0.1760 - dense_1_loss_28: 0.2020 - dense_1_loss_29: 0.2174 - dense_1_loss_30: 0.0000e+00 - dense_1_acc_1: 0.0667 - dense_1_acc_2: 0.5167 - dense_1_acc_3: 0.7667 - dense_1_acc_4: 0.9167 - dense_1_acc_5: 0.9667 - dense_1_acc_6: 1.0000 - dense_1_acc_7: 0.9833 - dense_1_acc_8: 0.9833 - dense_1_acc_9: 0.9833 - dense_1_acc_10: 1.0000 - dense_1_acc_11: 1.0000 - dense_1_acc_12: 1.0000 - dense_1_acc_13: 1.0000 - dense_1_acc_14: 1.0000 - dense_1_acc_15: 1.0000 - dense_1_acc_16: 1.0000 - dense_1_acc_17: 1.0000 - dense_1_acc_18: 1.0000 - dense_1_acc_19: 1.0000 - dense_1_acc_20: 1.0000 - dense_1_acc_21: 1.0000 - dense_1_acc_22: 1.0000 - dense_1_acc_23: 1.0000 - dense_1_acc_24: 1.0000 - dense_1_acc_25: 1.0000 - dense_1_acc_26: 1.0000 - dense_1_acc_27: 1.0000 - dense_1_acc_28: 1.0000 - dense_1_acc_29: 0.9833 - dense_1_acc_30: 0.0000e+00     \n",
      "Epoch 50/100\n",
      "60/60 [==============================] - 0s - loss: 12.1470 - dense_1_loss_1: 3.9236 - dense_1_loss_2: 2.0693 - dense_1_loss_3: 0.9967 - dense_1_loss_4: 0.4688 - dense_1_loss_5: 0.3648 - dense_1_loss_6: 0.2446 - dense_1_loss_7: 0.2435 - dense_1_loss_8: 0.1989 - dense_1_loss_9: 0.1882 - dense_1_loss_10: 0.1572 - dense_1_loss_11: 0.1645 - dense_1_loss_12: 0.1499 - dense_1_loss_13: 0.1535 - dense_1_loss_14: 0.1614 - dense_1_loss_15: 0.1793 - dense_1_loss_16: 0.1738 - dense_1_loss_17: 0.1560 - dense_1_loss_18: 0.1525 - dense_1_loss_19: 0.1651 - dense_1_loss_20: 0.1814 - dense_1_loss_21: 0.1907 - dense_1_loss_22: 0.1820 - dense_1_loss_23: 0.1859 - dense_1_loss_24: 0.1730 - dense_1_loss_25: 0.1844 - dense_1_loss_26: 0.1798 - dense_1_loss_27: 0.1693 - dense_1_loss_28: 0.1872 - dense_1_loss_29: 0.2017 - dense_1_loss_30: 0.0000e+00 - dense_1_acc_1: 0.0667 - dense_1_acc_2: 0.5167 - dense_1_acc_3: 0.7667 - dense_1_acc_4: 0.9333 - dense_1_acc_5: 0.9667 - dense_1_acc_6: 1.0000 - dense_1_acc_7: 0.9833 - dense_1_acc_8: 1.0000 - dense_1_acc_9: 0.9833 - dense_1_acc_10: 1.0000 - dense_1_acc_11: 1.0000 - dense_1_acc_12: 1.0000 - dense_1_acc_13: 1.0000 - dense_1_acc_14: 1.0000 - dense_1_acc_15: 1.0000 - dense_1_acc_16: 1.0000 - dense_1_acc_17: 1.0000 - dense_1_acc_18: 1.0000 - dense_1_acc_19: 1.0000 - dense_1_acc_20: 1.0000 - dense_1_acc_21: 1.0000 - dense_1_acc_22: 1.0000 - dense_1_acc_23: 1.0000 - dense_1_acc_24: 1.0000 - dense_1_acc_25: 1.0000 - dense_1_acc_26: 1.0000 - dense_1_acc_27: 1.0000 - dense_1_acc_28: 1.0000 - dense_1_acc_29: 0.9833 - dense_1_acc_30: 0.0000e+00     \n",
      "Epoch 51/100\n"
     ]
    },
    {
     "name": "stdout",
     "output_type": "stream",
     "text": [
      "60/60 [==============================] - 0s - loss: 11.6822 - dense_1_loss_1: 3.9189 - dense_1_loss_2: 2.0317 - dense_1_loss_3: 0.9672 - dense_1_loss_4: 0.4392 - dense_1_loss_5: 0.3405 - dense_1_loss_6: 0.2297 - dense_1_loss_7: 0.2287 - dense_1_loss_8: 0.1865 - dense_1_loss_9: 0.1735 - dense_1_loss_10: 0.1448 - dense_1_loss_11: 0.1560 - dense_1_loss_12: 0.1364 - dense_1_loss_13: 0.1405 - dense_1_loss_14: 0.1510 - dense_1_loss_15: 0.1692 - dense_1_loss_16: 0.1585 - dense_1_loss_17: 0.1436 - dense_1_loss_18: 0.1366 - dense_1_loss_19: 0.1537 - dense_1_loss_20: 0.1704 - dense_1_loss_21: 0.1748 - dense_1_loss_22: 0.1671 - dense_1_loss_23: 0.1677 - dense_1_loss_24: 0.1559 - dense_1_loss_25: 0.1722 - dense_1_loss_26: 0.1632 - dense_1_loss_27: 0.1518 - dense_1_loss_28: 0.1655 - dense_1_loss_29: 0.1873 - dense_1_loss_30: 0.0000e+00 - dense_1_acc_1: 0.0667 - dense_1_acc_2: 0.5167 - dense_1_acc_3: 0.7833 - dense_1_acc_4: 0.9333 - dense_1_acc_5: 0.9667 - dense_1_acc_6: 1.0000 - dense_1_acc_7: 0.9833 - dense_1_acc_8: 0.9833 - dense_1_acc_9: 0.9833 - dense_1_acc_10: 1.0000 - dense_1_acc_11: 1.0000 - dense_1_acc_12: 1.0000 - dense_1_acc_13: 1.0000 - dense_1_acc_14: 1.0000 - dense_1_acc_15: 1.0000 - dense_1_acc_16: 1.0000 - dense_1_acc_17: 1.0000 - dense_1_acc_18: 1.0000 - dense_1_acc_19: 1.0000 - dense_1_acc_20: 1.0000 - dense_1_acc_21: 1.0000 - dense_1_acc_22: 1.0000 - dense_1_acc_23: 1.0000 - dense_1_acc_24: 1.0000 - dense_1_acc_25: 1.0000 - dense_1_acc_26: 1.0000 - dense_1_acc_27: 1.0000 - dense_1_acc_28: 1.0000 - dense_1_acc_29: 1.0000 - dense_1_acc_30: 0.0000e+00     \n",
      "Epoch 52/100\n",
      "60/60 [==============================] - 0s - loss: 11.2721 - dense_1_loss_1: 3.9145 - dense_1_loss_2: 1.9971 - dense_1_loss_3: 0.9384 - dense_1_loss_4: 0.4142 - dense_1_loss_5: 0.3214 - dense_1_loss_6: 0.2147 - dense_1_loss_7: 0.2155 - dense_1_loss_8: 0.1741 - dense_1_loss_9: 0.1602 - dense_1_loss_10: 0.1347 - dense_1_loss_11: 0.1438 - dense_1_loss_12: 0.1273 - dense_1_loss_13: 0.1304 - dense_1_loss_14: 0.1394 - dense_1_loss_15: 0.1570 - dense_1_loss_16: 0.1491 - dense_1_loss_17: 0.1337 - dense_1_loss_18: 0.1260 - dense_1_loss_19: 0.1392 - dense_1_loss_20: 0.1587 - dense_1_loss_21: 0.1620 - dense_1_loss_22: 0.1547 - dense_1_loss_23: 0.1532 - dense_1_loss_24: 0.1438 - dense_1_loss_25: 0.1589 - dense_1_loss_26: 0.1516 - dense_1_loss_27: 0.1372 - dense_1_loss_28: 0.1536 - dense_1_loss_29: 0.1676 - dense_1_loss_30: 0.0000e+00 - dense_1_acc_1: 0.0667 - dense_1_acc_2: 0.5167 - dense_1_acc_3: 0.8000 - dense_1_acc_4: 0.9500 - dense_1_acc_5: 0.9667 - dense_1_acc_6: 1.0000 - dense_1_acc_7: 0.9833 - dense_1_acc_8: 1.0000 - dense_1_acc_9: 0.9833 - dense_1_acc_10: 1.0000 - dense_1_acc_11: 1.0000 - dense_1_acc_12: 1.0000 - dense_1_acc_13: 1.0000 - dense_1_acc_14: 1.0000 - dense_1_acc_15: 1.0000 - dense_1_acc_16: 1.0000 - dense_1_acc_17: 1.0000 - dense_1_acc_18: 1.0000 - dense_1_acc_19: 1.0000 - dense_1_acc_20: 1.0000 - dense_1_acc_21: 1.0000 - dense_1_acc_22: 1.0000 - dense_1_acc_23: 1.0000 - dense_1_acc_24: 1.0000 - dense_1_acc_25: 1.0000 - dense_1_acc_26: 1.0000 - dense_1_acc_27: 1.0000 - dense_1_acc_28: 1.0000 - dense_1_acc_29: 1.0000 - dense_1_acc_30: 0.0000e+00     \n",
      "Epoch 53/100\n",
      "60/60 [==============================] - 0s - loss: 10.9149 - dense_1_loss_1: 3.9098 - dense_1_loss_2: 1.9627 - dense_1_loss_3: 0.9111 - dense_1_loss_4: 0.3888 - dense_1_loss_5: 0.3035 - dense_1_loss_6: 0.2004 - dense_1_loss_7: 0.2015 - dense_1_loss_8: 0.1611 - dense_1_loss_9: 0.1509 - dense_1_loss_10: 0.1261 - dense_1_loss_11: 0.1320 - dense_1_loss_12: 0.1187 - dense_1_loss_13: 0.1212 - dense_1_loss_14: 0.1294 - dense_1_loss_15: 0.1422 - dense_1_loss_16: 0.1392 - dense_1_loss_17: 0.1235 - dense_1_loss_18: 0.1199 - dense_1_loss_19: 0.1315 - dense_1_loss_20: 0.1414 - dense_1_loss_21: 0.1499 - dense_1_loss_22: 0.1428 - dense_1_loss_23: 0.1469 - dense_1_loss_24: 0.1363 - dense_1_loss_25: 0.1431 - dense_1_loss_26: 0.1415 - dense_1_loss_27: 0.1308 - dense_1_loss_28: 0.1486 - dense_1_loss_29: 0.1598 - dense_1_loss_30: 0.0000e+00 - dense_1_acc_1: 0.0667 - dense_1_acc_2: 0.5167 - dense_1_acc_3: 0.8167 - dense_1_acc_4: 0.9667 - dense_1_acc_5: 0.9833 - dense_1_acc_6: 1.0000 - dense_1_acc_7: 0.9833 - dense_1_acc_8: 1.0000 - dense_1_acc_9: 0.9833 - dense_1_acc_10: 1.0000 - dense_1_acc_11: 1.0000 - dense_1_acc_12: 1.0000 - dense_1_acc_13: 1.0000 - dense_1_acc_14: 1.0000 - dense_1_acc_15: 1.0000 - dense_1_acc_16: 1.0000 - dense_1_acc_17: 1.0000 - dense_1_acc_18: 1.0000 - dense_1_acc_19: 1.0000 - dense_1_acc_20: 1.0000 - dense_1_acc_21: 1.0000 - dense_1_acc_22: 1.0000 - dense_1_acc_23: 1.0000 - dense_1_acc_24: 1.0000 - dense_1_acc_25: 1.0000 - dense_1_acc_26: 1.0000 - dense_1_acc_27: 1.0000 - dense_1_acc_28: 1.0000 - dense_1_acc_29: 1.0000 - dense_1_acc_30: 0.0000e+00     \n",
      "Epoch 54/100\n",
      "60/60 [==============================] - 0s - loss: 10.5588 - dense_1_loss_1: 3.9055 - dense_1_loss_2: 1.9308 - dense_1_loss_3: 0.8851 - dense_1_loss_4: 0.3656 - dense_1_loss_5: 0.2851 - dense_1_loss_6: 0.1895 - dense_1_loss_7: 0.1878 - dense_1_loss_8: 0.1517 - dense_1_loss_9: 0.1391 - dense_1_loss_10: 0.1181 - dense_1_loss_11: 0.1233 - dense_1_loss_12: 0.1103 - dense_1_loss_13: 0.1129 - dense_1_loss_14: 0.1201 - dense_1_loss_15: 0.1339 - dense_1_loss_16: 0.1296 - dense_1_loss_17: 0.1147 - dense_1_loss_18: 0.1086 - dense_1_loss_19: 0.1201 - dense_1_loss_20: 0.1359 - dense_1_loss_21: 0.1375 - dense_1_loss_22: 0.1311 - dense_1_loss_23: 0.1314 - dense_1_loss_24: 0.1244 - dense_1_loss_25: 0.1350 - dense_1_loss_26: 0.1277 - dense_1_loss_27: 0.1219 - dense_1_loss_28: 0.1346 - dense_1_loss_29: 0.1473 - dense_1_loss_30: 0.0000e+00 - dense_1_acc_1: 0.0667 - dense_1_acc_2: 0.5167 - dense_1_acc_3: 0.8167 - dense_1_acc_4: 0.9667 - dense_1_acc_5: 0.9833 - dense_1_acc_6: 1.0000 - dense_1_acc_7: 0.9833 - dense_1_acc_8: 1.0000 - dense_1_acc_9: 1.0000 - dense_1_acc_10: 1.0000 - dense_1_acc_11: 1.0000 - dense_1_acc_12: 1.0000 - dense_1_acc_13: 1.0000 - dense_1_acc_14: 1.0000 - dense_1_acc_15: 1.0000 - dense_1_acc_16: 1.0000 - dense_1_acc_17: 1.0000 - dense_1_acc_18: 1.0000 - dense_1_acc_19: 1.0000 - dense_1_acc_20: 1.0000 - dense_1_acc_21: 1.0000 - dense_1_acc_22: 1.0000 - dense_1_acc_23: 1.0000 - dense_1_acc_24: 1.0000 - dense_1_acc_25: 1.0000 - dense_1_acc_26: 1.0000 - dense_1_acc_27: 1.0000 - dense_1_acc_28: 1.0000 - dense_1_acc_29: 1.0000 - dense_1_acc_30: 0.0000e+00     \n",
      "Epoch 55/100\n",
      "60/60 [==============================] - 0s - loss: 10.2567 - dense_1_loss_1: 3.9010 - dense_1_loss_2: 1.8980 - dense_1_loss_3: 0.8614 - dense_1_loss_4: 0.3447 - dense_1_loss_5: 0.2693 - dense_1_loss_6: 0.1785 - dense_1_loss_7: 0.1779 - dense_1_loss_8: 0.1424 - dense_1_loss_9: 0.1324 - dense_1_loss_10: 0.1094 - dense_1_loss_11: 0.1172 - dense_1_loss_12: 0.1017 - dense_1_loss_13: 0.1053 - dense_1_loss_14: 0.1139 - dense_1_loss_15: 0.1244 - dense_1_loss_16: 0.1191 - dense_1_loss_17: 0.1076 - dense_1_loss_18: 0.1020 - dense_1_loss_19: 0.1137 - dense_1_loss_20: 0.1258 - dense_1_loss_21: 0.1275 - dense_1_loss_22: 0.1222 - dense_1_loss_23: 0.1257 - dense_1_loss_24: 0.1158 - dense_1_loss_25: 0.1276 - dense_1_loss_26: 0.1193 - dense_1_loss_27: 0.1141 - dense_1_loss_28: 0.1219 - dense_1_loss_29: 0.1370 - dense_1_loss_30: 0.0000e+00 - dense_1_acc_1: 0.0667 - dense_1_acc_2: 0.5167 - dense_1_acc_3: 0.8167 - dense_1_acc_4: 0.9667 - dense_1_acc_5: 0.9833 - dense_1_acc_6: 1.0000 - dense_1_acc_7: 0.9833 - dense_1_acc_8: 1.0000 - dense_1_acc_9: 1.0000 - dense_1_acc_10: 1.0000 - dense_1_acc_11: 1.0000 - dense_1_acc_12: 1.0000 - dense_1_acc_13: 1.0000 - dense_1_acc_14: 1.0000 - dense_1_acc_15: 1.0000 - dense_1_acc_16: 1.0000 - dense_1_acc_17: 1.0000 - dense_1_acc_18: 1.0000 - dense_1_acc_19: 1.0000 - dense_1_acc_20: 1.0000 - dense_1_acc_21: 1.0000 - dense_1_acc_22: 1.0000 - dense_1_acc_23: 1.0000 - dense_1_acc_24: 1.0000 - dense_1_acc_25: 1.0000 - dense_1_acc_26: 1.0000 - dense_1_acc_27: 1.0000 - dense_1_acc_28: 1.0000 - dense_1_acc_29: 1.0000 - dense_1_acc_30: 0.0000e+00     \n",
      "Epoch 56/100\n"
     ]
    },
    {
     "name": "stdout",
     "output_type": "stream",
     "text": [
      "60/60 [==============================] - 0s - loss: 9.9639 - dense_1_loss_1: 3.8969 - dense_1_loss_2: 1.8682 - dense_1_loss_3: 0.8368 - dense_1_loss_4: 0.3241 - dense_1_loss_5: 0.2526 - dense_1_loss_6: 0.1680 - dense_1_loss_7: 0.1643 - dense_1_loss_8: 0.1324 - dense_1_loss_9: 0.1244 - dense_1_loss_10: 0.1020 - dense_1_loss_11: 0.1098 - dense_1_loss_12: 0.0949 - dense_1_loss_13: 0.0974 - dense_1_loss_14: 0.1067 - dense_1_loss_15: 0.1147 - dense_1_loss_16: 0.1098 - dense_1_loss_17: 0.1003 - dense_1_loss_18: 0.0984 - dense_1_loss_19: 0.1063 - dense_1_loss_20: 0.1141 - dense_1_loss_21: 0.1190 - dense_1_loss_22: 0.1143 - dense_1_loss_23: 0.1182 - dense_1_loss_24: 0.1084 - dense_1_loss_25: 0.1143 - dense_1_loss_26: 0.1121 - dense_1_loss_27: 0.1067 - dense_1_loss_28: 0.1186 - dense_1_loss_29: 0.1304 - dense_1_loss_30: 0.0000e+00 - dense_1_acc_1: 0.0667 - dense_1_acc_2: 0.5167 - dense_1_acc_3: 0.8333 - dense_1_acc_4: 0.9667 - dense_1_acc_5: 0.9833 - dense_1_acc_6: 1.0000 - dense_1_acc_7: 0.9833 - dense_1_acc_8: 1.0000 - dense_1_acc_9: 1.0000 - dense_1_acc_10: 1.0000 - dense_1_acc_11: 1.0000 - dense_1_acc_12: 1.0000 - dense_1_acc_13: 1.0000 - dense_1_acc_14: 1.0000 - dense_1_acc_15: 1.0000 - dense_1_acc_16: 1.0000 - dense_1_acc_17: 1.0000 - dense_1_acc_18: 1.0000 - dense_1_acc_19: 1.0000 - dense_1_acc_20: 1.0000 - dense_1_acc_21: 1.0000 - dense_1_acc_22: 1.0000 - dense_1_acc_23: 1.0000 - dense_1_acc_24: 1.0000 - dense_1_acc_25: 1.0000 - dense_1_acc_26: 1.0000 - dense_1_acc_27: 1.0000 - dense_1_acc_28: 1.0000 - dense_1_acc_29: 1.0000 - dense_1_acc_30: 0.0000e+00     \n",
      "Epoch 57/100\n",
      "60/60 [==============================] - 0s - loss: 9.7025 - dense_1_loss_1: 3.8926 - dense_1_loss_2: 1.8383 - dense_1_loss_3: 0.8143 - dense_1_loss_4: 0.3068 - dense_1_loss_5: 0.2403 - dense_1_loss_6: 0.1604 - dense_1_loss_7: 0.1560 - dense_1_loss_8: 0.1266 - dense_1_loss_9: 0.1150 - dense_1_loss_10: 0.0968 - dense_1_loss_11: 0.1029 - dense_1_loss_12: 0.0895 - dense_1_loss_13: 0.0916 - dense_1_loss_14: 0.1001 - dense_1_loss_15: 0.1089 - dense_1_loss_16: 0.1043 - dense_1_loss_17: 0.0936 - dense_1_loss_18: 0.0912 - dense_1_loss_19: 0.0971 - dense_1_loss_20: 0.1107 - dense_1_loss_21: 0.1110 - dense_1_loss_22: 0.1077 - dense_1_loss_23: 0.1054 - dense_1_loss_24: 0.1005 - dense_1_loss_25: 0.1102 - dense_1_loss_26: 0.1048 - dense_1_loss_27: 0.0977 - dense_1_loss_28: 0.1072 - dense_1_loss_29: 0.1208 - dense_1_loss_30: 0.0000e+00 - dense_1_acc_1: 0.0667 - dense_1_acc_2: 0.5167 - dense_1_acc_3: 0.8333 - dense_1_acc_4: 0.9667 - dense_1_acc_5: 0.9833 - dense_1_acc_6: 1.0000 - dense_1_acc_7: 0.9833 - dense_1_acc_8: 1.0000 - dense_1_acc_9: 1.0000 - dense_1_acc_10: 1.0000 - dense_1_acc_11: 1.0000 - dense_1_acc_12: 1.0000 - dense_1_acc_13: 1.0000 - dense_1_acc_14: 1.0000 - dense_1_acc_15: 1.0000 - dense_1_acc_16: 1.0000 - dense_1_acc_17: 1.0000 - dense_1_acc_18: 1.0000 - dense_1_acc_19: 1.0000 - dense_1_acc_20: 1.0000 - dense_1_acc_21: 1.0000 - dense_1_acc_22: 1.0000 - dense_1_acc_23: 1.0000 - dense_1_acc_24: 1.0000 - dense_1_acc_25: 1.0000 - dense_1_acc_26: 1.0000 - dense_1_acc_27: 1.0000 - dense_1_acc_28: 1.0000 - dense_1_acc_29: 1.0000 - dense_1_acc_30: 0.0000e+00      \n",
      "Epoch 58/100\n",
      "60/60 [==============================] - 0s - loss: 9.4639 - dense_1_loss_1: 3.8883 - dense_1_loss_2: 1.8098 - dense_1_loss_3: 0.7940 - dense_1_loss_4: 0.2899 - dense_1_loss_5: 0.2283 - dense_1_loss_6: 0.1514 - dense_1_loss_7: 0.1468 - dense_1_loss_8: 0.1201 - dense_1_loss_9: 0.1077 - dense_1_loss_10: 0.0914 - dense_1_loss_11: 0.0968 - dense_1_loss_12: 0.0841 - dense_1_loss_13: 0.0863 - dense_1_loss_14: 0.0937 - dense_1_loss_15: 0.1020 - dense_1_loss_16: 0.0977 - dense_1_loss_17: 0.0876 - dense_1_loss_18: 0.0859 - dense_1_loss_19: 0.0916 - dense_1_loss_20: 0.1021 - dense_1_loss_21: 0.1044 - dense_1_loss_22: 0.1010 - dense_1_loss_23: 0.1014 - dense_1_loss_24: 0.0937 - dense_1_loss_25: 0.1058 - dense_1_loss_26: 0.0982 - dense_1_loss_27: 0.0938 - dense_1_loss_28: 0.0973 - dense_1_loss_29: 0.1130 - dense_1_loss_30: 0.0000e+00 - dense_1_acc_1: 0.0667 - dense_1_acc_2: 0.5167 - dense_1_acc_3: 0.8500 - dense_1_acc_4: 0.9667 - dense_1_acc_5: 0.9833 - dense_1_acc_6: 1.0000 - dense_1_acc_7: 0.9833 - dense_1_acc_8: 1.0000 - dense_1_acc_9: 1.0000 - dense_1_acc_10: 1.0000 - dense_1_acc_11: 1.0000 - dense_1_acc_12: 1.0000 - dense_1_acc_13: 1.0000 - dense_1_acc_14: 1.0000 - dense_1_acc_15: 1.0000 - dense_1_acc_16: 1.0000 - dense_1_acc_17: 1.0000 - dense_1_acc_18: 1.0000 - dense_1_acc_19: 1.0000 - dense_1_acc_20: 1.0000 - dense_1_acc_21: 1.0000 - dense_1_acc_22: 1.0000 - dense_1_acc_23: 1.0000 - dense_1_acc_24: 1.0000 - dense_1_acc_25: 1.0000 - dense_1_acc_26: 1.0000 - dense_1_acc_27: 1.0000 - dense_1_acc_28: 1.0000 - dense_1_acc_29: 1.0000 - dense_1_acc_30: 0.0000e+00     \n",
      "Epoch 59/100\n",
      "60/60 [==============================] - 0s - loss: 9.2369 - dense_1_loss_1: 3.8844 - dense_1_loss_2: 1.7832 - dense_1_loss_3: 0.7712 - dense_1_loss_4: 0.2752 - dense_1_loss_5: 0.2162 - dense_1_loss_6: 0.1427 - dense_1_loss_7: 0.1373 - dense_1_loss_8: 0.1120 - dense_1_loss_9: 0.1034 - dense_1_loss_10: 0.0856 - dense_1_loss_11: 0.0907 - dense_1_loss_12: 0.0798 - dense_1_loss_13: 0.0810 - dense_1_loss_14: 0.0880 - dense_1_loss_15: 0.0952 - dense_1_loss_16: 0.0908 - dense_1_loss_17: 0.0831 - dense_1_loss_18: 0.0816 - dense_1_loss_19: 0.0878 - dense_1_loss_20: 0.0928 - dense_1_loss_21: 0.0979 - dense_1_loss_22: 0.0938 - dense_1_loss_23: 0.0979 - dense_1_loss_24: 0.0895 - dense_1_loss_25: 0.0938 - dense_1_loss_26: 0.0910 - dense_1_loss_27: 0.0886 - dense_1_loss_28: 0.0992 - dense_1_loss_29: 0.1032 - dense_1_loss_30: 0.0000e+00 - dense_1_acc_1: 0.0667 - dense_1_acc_2: 0.5167 - dense_1_acc_3: 0.8500 - dense_1_acc_4: 0.9667 - dense_1_acc_5: 0.9833 - dense_1_acc_6: 1.0000 - dense_1_acc_7: 0.9833 - dense_1_acc_8: 1.0000 - dense_1_acc_9: 1.0000 - dense_1_acc_10: 1.0000 - dense_1_acc_11: 1.0000 - dense_1_acc_12: 1.0000 - dense_1_acc_13: 1.0000 - dense_1_acc_14: 1.0000 - dense_1_acc_15: 1.0000 - dense_1_acc_16: 1.0000 - dense_1_acc_17: 1.0000 - dense_1_acc_18: 1.0000 - dense_1_acc_19: 1.0000 - dense_1_acc_20: 1.0000 - dense_1_acc_21: 1.0000 - dense_1_acc_22: 1.0000 - dense_1_acc_23: 1.0000 - dense_1_acc_24: 1.0000 - dense_1_acc_25: 1.0000 - dense_1_acc_26: 1.0000 - dense_1_acc_27: 1.0000 - dense_1_acc_28: 1.0000 - dense_1_acc_29: 1.0000 - dense_1_acc_30: 0.0000e+00     \n",
      "Epoch 60/100\n",
      "60/60 [==============================] - 0s - loss: 9.0276 - dense_1_loss_1: 3.8802 - dense_1_loss_2: 1.7573 - dense_1_loss_3: 0.7529 - dense_1_loss_4: 0.2616 - dense_1_loss_5: 0.2047 - dense_1_loss_6: 0.1373 - dense_1_loss_7: 0.1288 - dense_1_loss_8: 0.1061 - dense_1_loss_9: 0.0969 - dense_1_loss_10: 0.0816 - dense_1_loss_11: 0.0853 - dense_1_loss_12: 0.0755 - dense_1_loss_13: 0.0764 - dense_1_loss_14: 0.0829 - dense_1_loss_15: 0.0913 - dense_1_loss_16: 0.0856 - dense_1_loss_17: 0.0787 - dense_1_loss_18: 0.0749 - dense_1_loss_19: 0.0821 - dense_1_loss_20: 0.0902 - dense_1_loss_21: 0.0920 - dense_1_loss_22: 0.0879 - dense_1_loss_23: 0.0882 - dense_1_loss_24: 0.0832 - dense_1_loss_25: 0.0892 - dense_1_loss_26: 0.0842 - dense_1_loss_27: 0.0833 - dense_1_loss_28: 0.0922 - dense_1_loss_29: 0.0970 - dense_1_loss_30: 0.0000e+00 - dense_1_acc_1: 0.0667 - dense_1_acc_2: 0.5333 - dense_1_acc_3: 0.8500 - dense_1_acc_4: 0.9667 - dense_1_acc_5: 0.9833 - dense_1_acc_6: 1.0000 - dense_1_acc_7: 0.9833 - dense_1_acc_8: 1.0000 - dense_1_acc_9: 1.0000 - dense_1_acc_10: 1.0000 - dense_1_acc_11: 1.0000 - dense_1_acc_12: 1.0000 - dense_1_acc_13: 1.0000 - dense_1_acc_14: 1.0000 - dense_1_acc_15: 1.0000 - dense_1_acc_16: 1.0000 - dense_1_acc_17: 1.0000 - dense_1_acc_18: 1.0000 - dense_1_acc_19: 1.0000 - dense_1_acc_20: 1.0000 - dense_1_acc_21: 1.0000 - dense_1_acc_22: 1.0000 - dense_1_acc_23: 1.0000 - dense_1_acc_24: 1.0000 - dense_1_acc_25: 1.0000 - dense_1_acc_26: 1.0000 - dense_1_acc_27: 1.0000 - dense_1_acc_28: 1.0000 - dense_1_acc_29: 1.0000 - dense_1_acc_30: 0.0000e+00     \n",
      "Epoch 61/100\n"
     ]
    },
    {
     "name": "stdout",
     "output_type": "stream",
     "text": [
      "60/60 [==============================] - 0s - loss: 8.8411 - dense_1_loss_1: 3.8759 - dense_1_loss_2: 1.7327 - dense_1_loss_3: 0.7336 - dense_1_loss_4: 0.2485 - dense_1_loss_5: 0.1960 - dense_1_loss_6: 0.1300 - dense_1_loss_7: 0.1228 - dense_1_loss_8: 0.1019 - dense_1_loss_9: 0.0922 - dense_1_loss_10: 0.0772 - dense_1_loss_11: 0.0808 - dense_1_loss_12: 0.0715 - dense_1_loss_13: 0.0721 - dense_1_loss_14: 0.0787 - dense_1_loss_15: 0.0856 - dense_1_loss_16: 0.0818 - dense_1_loss_17: 0.0741 - dense_1_loss_18: 0.0716 - dense_1_loss_19: 0.0765 - dense_1_loss_20: 0.0864 - dense_1_loss_21: 0.0858 - dense_1_loss_22: 0.0841 - dense_1_loss_23: 0.0824 - dense_1_loss_24: 0.0789 - dense_1_loss_25: 0.0860 - dense_1_loss_26: 0.0796 - dense_1_loss_27: 0.0784 - dense_1_loss_28: 0.0835 - dense_1_loss_29: 0.0923 - dense_1_loss_30: 0.0000e+00 - dense_1_acc_1: 0.0667 - dense_1_acc_2: 0.5500 - dense_1_acc_3: 0.8500 - dense_1_acc_4: 0.9667 - dense_1_acc_5: 0.9833 - dense_1_acc_6: 1.0000 - dense_1_acc_7: 0.9833 - dense_1_acc_8: 1.0000 - dense_1_acc_9: 1.0000 - dense_1_acc_10: 1.0000 - dense_1_acc_11: 1.0000 - dense_1_acc_12: 1.0000 - dense_1_acc_13: 1.0000 - dense_1_acc_14: 1.0000 - dense_1_acc_15: 1.0000 - dense_1_acc_16: 1.0000 - dense_1_acc_17: 1.0000 - dense_1_acc_18: 1.0000 - dense_1_acc_19: 1.0000 - dense_1_acc_20: 1.0000 - dense_1_acc_21: 1.0000 - dense_1_acc_22: 1.0000 - dense_1_acc_23: 1.0000 - dense_1_acc_24: 1.0000 - dense_1_acc_25: 1.0000 - dense_1_acc_26: 1.0000 - dense_1_acc_27: 1.0000 - dense_1_acc_28: 1.0000 - dense_1_acc_29: 1.0000 - dense_1_acc_30: 0.0000e+00     \n",
      "Epoch 62/100\n",
      "60/60 [==============================] - 0s - loss: 8.6668 - dense_1_loss_1: 3.8719 - dense_1_loss_2: 1.7078 - dense_1_loss_3: 0.7160 - dense_1_loss_4: 0.2374 - dense_1_loss_5: 0.1865 - dense_1_loss_6: 0.1235 - dense_1_loss_7: 0.1157 - dense_1_loss_8: 0.0957 - dense_1_loss_9: 0.0874 - dense_1_loss_10: 0.0730 - dense_1_loss_11: 0.0777 - dense_1_loss_12: 0.0677 - dense_1_loss_13: 0.0680 - dense_1_loss_14: 0.0742 - dense_1_loss_15: 0.0812 - dense_1_loss_16: 0.0766 - dense_1_loss_17: 0.0702 - dense_1_loss_18: 0.0692 - dense_1_loss_19: 0.0741 - dense_1_loss_20: 0.0783 - dense_1_loss_21: 0.0809 - dense_1_loss_22: 0.0793 - dense_1_loss_23: 0.0812 - dense_1_loss_24: 0.0742 - dense_1_loss_25: 0.0805 - dense_1_loss_26: 0.0756 - dense_1_loss_27: 0.0746 - dense_1_loss_28: 0.0808 - dense_1_loss_29: 0.0873 - dense_1_loss_30: 0.0000e+00 - dense_1_acc_1: 0.0667 - dense_1_acc_2: 0.5500 - dense_1_acc_3: 0.8500 - dense_1_acc_4: 0.9667 - dense_1_acc_5: 0.9833 - dense_1_acc_6: 1.0000 - dense_1_acc_7: 0.9833 - dense_1_acc_8: 1.0000 - dense_1_acc_9: 1.0000 - dense_1_acc_10: 1.0000 - dense_1_acc_11: 1.0000 - dense_1_acc_12: 1.0000 - dense_1_acc_13: 1.0000 - dense_1_acc_14: 1.0000 - dense_1_acc_15: 1.0000 - dense_1_acc_16: 1.0000 - dense_1_acc_17: 1.0000 - dense_1_acc_18: 1.0000 - dense_1_acc_19: 1.0000 - dense_1_acc_20: 1.0000 - dense_1_acc_21: 1.0000 - dense_1_acc_22: 1.0000 - dense_1_acc_23: 1.0000 - dense_1_acc_24: 1.0000 - dense_1_acc_25: 1.0000 - dense_1_acc_26: 1.0000 - dense_1_acc_27: 1.0000 - dense_1_acc_28: 1.0000 - dense_1_acc_29: 1.0000 - dense_1_acc_30: 0.0000e+00     \n",
      "Epoch 63/100\n",
      "60/60 [==============================] - 0s - loss: 8.5033 - dense_1_loss_1: 3.8681 - dense_1_loss_2: 1.6848 - dense_1_loss_3: 0.6978 - dense_1_loss_4: 0.2267 - dense_1_loss_5: 0.1787 - dense_1_loss_6: 0.1184 - dense_1_loss_7: 0.1090 - dense_1_loss_8: 0.0914 - dense_1_loss_9: 0.0824 - dense_1_loss_10: 0.0694 - dense_1_loss_11: 0.0734 - dense_1_loss_12: 0.0646 - dense_1_loss_13: 0.0643 - dense_1_loss_14: 0.0703 - dense_1_loss_15: 0.0770 - dense_1_loss_16: 0.0722 - dense_1_loss_17: 0.0668 - dense_1_loss_18: 0.0654 - dense_1_loss_19: 0.0697 - dense_1_loss_20: 0.0742 - dense_1_loss_21: 0.0768 - dense_1_loss_22: 0.0745 - dense_1_loss_23: 0.0761 - dense_1_loss_24: 0.0704 - dense_1_loss_25: 0.0757 - dense_1_loss_26: 0.0715 - dense_1_loss_27: 0.0704 - dense_1_loss_28: 0.0798 - dense_1_loss_29: 0.0835 - dense_1_loss_30: 0.0000e+00 - dense_1_acc_1: 0.0667 - dense_1_acc_2: 0.5500 - dense_1_acc_3: 0.8500 - dense_1_acc_4: 0.9833 - dense_1_acc_5: 0.9833 - dense_1_acc_6: 1.0000 - dense_1_acc_7: 0.9833 - dense_1_acc_8: 1.0000 - dense_1_acc_9: 1.0000 - dense_1_acc_10: 1.0000 - dense_1_acc_11: 1.0000 - dense_1_acc_12: 1.0000 - dense_1_acc_13: 1.0000 - dense_1_acc_14: 1.0000 - dense_1_acc_15: 1.0000 - dense_1_acc_16: 1.0000 - dense_1_acc_17: 1.0000 - dense_1_acc_18: 1.0000 - dense_1_acc_19: 1.0000 - dense_1_acc_20: 1.0000 - dense_1_acc_21: 1.0000 - dense_1_acc_22: 1.0000 - dense_1_acc_23: 1.0000 - dense_1_acc_24: 1.0000 - dense_1_acc_25: 1.0000 - dense_1_acc_26: 1.0000 - dense_1_acc_27: 1.0000 - dense_1_acc_28: 1.0000 - dense_1_acc_29: 1.0000 - dense_1_acc_30: 0.0000e+00     \n",
      "Epoch 64/100\n",
      "60/60 [==============================] - 0s - loss: 8.3468 - dense_1_loss_1: 3.8641 - dense_1_loss_2: 1.6623 - dense_1_loss_3: 0.6796 - dense_1_loss_4: 0.2169 - dense_1_loss_5: 0.1709 - dense_1_loss_6: 0.1133 - dense_1_loss_7: 0.1029 - dense_1_loss_8: 0.0877 - dense_1_loss_9: 0.0776 - dense_1_loss_10: 0.0664 - dense_1_loss_11: 0.0702 - dense_1_loss_12: 0.0612 - dense_1_loss_13: 0.0611 - dense_1_loss_14: 0.0672 - dense_1_loss_15: 0.0738 - dense_1_loss_16: 0.0689 - dense_1_loss_17: 0.0636 - dense_1_loss_18: 0.0615 - dense_1_loss_19: 0.0653 - dense_1_loss_20: 0.0728 - dense_1_loss_21: 0.0728 - dense_1_loss_22: 0.0705 - dense_1_loss_23: 0.0707 - dense_1_loss_24: 0.0665 - dense_1_loss_25: 0.0738 - dense_1_loss_26: 0.0678 - dense_1_loss_27: 0.0664 - dense_1_loss_28: 0.0728 - dense_1_loss_29: 0.0781 - dense_1_loss_30: 0.0000e+00 - dense_1_acc_1: 0.0667 - dense_1_acc_2: 0.5500 - dense_1_acc_3: 0.8500 - dense_1_acc_4: 0.9833 - dense_1_acc_5: 0.9833 - dense_1_acc_6: 1.0000 - dense_1_acc_7: 0.9833 - dense_1_acc_8: 1.0000 - dense_1_acc_9: 1.0000 - dense_1_acc_10: 1.0000 - dense_1_acc_11: 1.0000 - dense_1_acc_12: 1.0000 - dense_1_acc_13: 1.0000 - dense_1_acc_14: 1.0000 - dense_1_acc_15: 1.0000 - dense_1_acc_16: 1.0000 - dense_1_acc_17: 1.0000 - dense_1_acc_18: 1.0000 - dense_1_acc_19: 1.0000 - dense_1_acc_20: 1.0000 - dense_1_acc_21: 1.0000 - dense_1_acc_22: 1.0000 - dense_1_acc_23: 1.0000 - dense_1_acc_24: 1.0000 - dense_1_acc_25: 1.0000 - dense_1_acc_26: 1.0000 - dense_1_acc_27: 1.0000 - dense_1_acc_28: 1.0000 - dense_1_acc_29: 1.0000 - dense_1_acc_30: 0.0000e+00     \n",
      "Epoch 65/100\n",
      "60/60 [==============================] - 0s - loss: 8.2072 - dense_1_loss_1: 3.8605 - dense_1_loss_2: 1.6401 - dense_1_loss_3: 0.6644 - dense_1_loss_4: 0.2081 - dense_1_loss_5: 0.1634 - dense_1_loss_6: 0.1088 - dense_1_loss_7: 0.0976 - dense_1_loss_8: 0.0833 - dense_1_loss_9: 0.0749 - dense_1_loss_10: 0.0634 - dense_1_loss_11: 0.0670 - dense_1_loss_12: 0.0587 - dense_1_loss_13: 0.0581 - dense_1_loss_14: 0.0641 - dense_1_loss_15: 0.0698 - dense_1_loss_16: 0.0656 - dense_1_loss_17: 0.0606 - dense_1_loss_18: 0.0588 - dense_1_loss_19: 0.0625 - dense_1_loss_20: 0.0684 - dense_1_loss_21: 0.0696 - dense_1_loss_22: 0.0668 - dense_1_loss_23: 0.0685 - dense_1_loss_24: 0.0629 - dense_1_loss_25: 0.0702 - dense_1_loss_26: 0.0642 - dense_1_loss_27: 0.0644 - dense_1_loss_28: 0.0676 - dense_1_loss_29: 0.0749 - dense_1_loss_30: 0.0000e+00 - dense_1_acc_1: 0.0667 - dense_1_acc_2: 0.5667 - dense_1_acc_3: 0.8667 - dense_1_acc_4: 0.9833 - dense_1_acc_5: 0.9833 - dense_1_acc_6: 1.0000 - dense_1_acc_7: 1.0000 - dense_1_acc_8: 1.0000 - dense_1_acc_9: 1.0000 - dense_1_acc_10: 1.0000 - dense_1_acc_11: 1.0000 - dense_1_acc_12: 1.0000 - dense_1_acc_13: 1.0000 - dense_1_acc_14: 1.0000 - dense_1_acc_15: 1.0000 - dense_1_acc_16: 1.0000 - dense_1_acc_17: 1.0000 - dense_1_acc_18: 1.0000 - dense_1_acc_19: 1.0000 - dense_1_acc_20: 1.0000 - dense_1_acc_21: 1.0000 - dense_1_acc_22: 1.0000 - dense_1_acc_23: 1.0000 - dense_1_acc_24: 1.0000 - dense_1_acc_25: 1.0000 - dense_1_acc_26: 1.0000 - dense_1_acc_27: 1.0000 - dense_1_acc_28: 1.0000 - dense_1_acc_29: 1.0000 - dense_1_acc_30: 0.0000e+00     \n",
      "Epoch 66/100\n"
     ]
    },
    {
     "name": "stdout",
     "output_type": "stream",
     "text": [
      "60/60 [==============================] - 0s - loss: 8.0723 - dense_1_loss_1: 3.8568 - dense_1_loss_2: 1.6195 - dense_1_loss_3: 0.6489 - dense_1_loss_4: 0.1991 - dense_1_loss_5: 0.1562 - dense_1_loss_6: 0.1047 - dense_1_loss_7: 0.0921 - dense_1_loss_8: 0.0787 - dense_1_loss_9: 0.0723 - dense_1_loss_10: 0.0603 - dense_1_loss_11: 0.0638 - dense_1_loss_12: 0.0562 - dense_1_loss_13: 0.0552 - dense_1_loss_14: 0.0610 - dense_1_loss_15: 0.0657 - dense_1_loss_16: 0.0628 - dense_1_loss_17: 0.0578 - dense_1_loss_18: 0.0568 - dense_1_loss_19: 0.0596 - dense_1_loss_20: 0.0645 - dense_1_loss_21: 0.0659 - dense_1_loss_22: 0.0632 - dense_1_loss_23: 0.0655 - dense_1_loss_24: 0.0611 - dense_1_loss_25: 0.0647 - dense_1_loss_26: 0.0611 - dense_1_loss_27: 0.0611 - dense_1_loss_28: 0.0673 - dense_1_loss_29: 0.0705 - dense_1_loss_30: 0.0000e+00 - dense_1_acc_1: 0.0667 - dense_1_acc_2: 0.5667 - dense_1_acc_3: 0.8667 - dense_1_acc_4: 0.9833 - dense_1_acc_5: 0.9833 - dense_1_acc_6: 1.0000 - dense_1_acc_7: 1.0000 - dense_1_acc_8: 1.0000 - dense_1_acc_9: 1.0000 - dense_1_acc_10: 1.0000 - dense_1_acc_11: 1.0000 - dense_1_acc_12: 1.0000 - dense_1_acc_13: 1.0000 - dense_1_acc_14: 1.0000 - dense_1_acc_15: 1.0000 - dense_1_acc_16: 1.0000 - dense_1_acc_17: 1.0000 - dense_1_acc_18: 1.0000 - dense_1_acc_19: 1.0000 - dense_1_acc_20: 1.0000 - dense_1_acc_21: 1.0000 - dense_1_acc_22: 1.0000 - dense_1_acc_23: 1.0000 - dense_1_acc_24: 1.0000 - dense_1_acc_25: 1.0000 - dense_1_acc_26: 1.0000 - dense_1_acc_27: 1.0000 - dense_1_acc_28: 1.0000 - dense_1_acc_29: 1.0000 - dense_1_acc_30: 0.0000e+00     \n",
      "Epoch 67/100\n",
      "60/60 [==============================] - 0s - loss: 7.9504 - dense_1_loss_1: 3.8528 - dense_1_loss_2: 1.5988 - dense_1_loss_3: 0.6348 - dense_1_loss_4: 0.1916 - dense_1_loss_5: 0.1506 - dense_1_loss_6: 0.1009 - dense_1_loss_7: 0.0882 - dense_1_loss_8: 0.0755 - dense_1_loss_9: 0.0694 - dense_1_loss_10: 0.0578 - dense_1_loss_11: 0.0610 - dense_1_loss_12: 0.0538 - dense_1_loss_13: 0.0528 - dense_1_loss_14: 0.0581 - dense_1_loss_15: 0.0628 - dense_1_loss_16: 0.0602 - dense_1_loss_17: 0.0552 - dense_1_loss_18: 0.0541 - dense_1_loss_19: 0.0569 - dense_1_loss_20: 0.0615 - dense_1_loss_21: 0.0626 - dense_1_loss_22: 0.0604 - dense_1_loss_23: 0.0624 - dense_1_loss_24: 0.0580 - dense_1_loss_25: 0.0614 - dense_1_loss_26: 0.0582 - dense_1_loss_27: 0.0586 - dense_1_loss_28: 0.0648 - dense_1_loss_29: 0.0669 - dense_1_loss_30: 0.0000e+00 - dense_1_acc_1: 0.0667 - dense_1_acc_2: 0.5667 - dense_1_acc_3: 0.8667 - dense_1_acc_4: 0.9833 - dense_1_acc_5: 0.9833 - dense_1_acc_6: 1.0000 - dense_1_acc_7: 1.0000 - dense_1_acc_8: 1.0000 - dense_1_acc_9: 1.0000 - dense_1_acc_10: 1.0000 - dense_1_acc_11: 1.0000 - dense_1_acc_12: 1.0000 - dense_1_acc_13: 1.0000 - dense_1_acc_14: 1.0000 - dense_1_acc_15: 1.0000 - dense_1_acc_16: 1.0000 - dense_1_acc_17: 1.0000 - dense_1_acc_18: 1.0000 - dense_1_acc_19: 1.0000 - dense_1_acc_20: 1.0000 - dense_1_acc_21: 1.0000 - dense_1_acc_22: 1.0000 - dense_1_acc_23: 1.0000 - dense_1_acc_24: 1.0000 - dense_1_acc_25: 1.0000 - dense_1_acc_26: 1.0000 - dense_1_acc_27: 1.0000 - dense_1_acc_28: 1.0000 - dense_1_acc_29: 1.0000 - dense_1_acc_30: 0.0000e+00     \n",
      "Epoch 68/100\n",
      "60/60 [==============================] - 0s - loss: 7.8340 - dense_1_loss_1: 3.8492 - dense_1_loss_2: 1.5790 - dense_1_loss_3: 0.6201 - dense_1_loss_4: 0.1842 - dense_1_loss_5: 0.1445 - dense_1_loss_6: 0.0975 - dense_1_loss_7: 0.0836 - dense_1_loss_8: 0.0730 - dense_1_loss_9: 0.0656 - dense_1_loss_10: 0.0556 - dense_1_loss_11: 0.0588 - dense_1_loss_12: 0.0516 - dense_1_loss_13: 0.0505 - dense_1_loss_14: 0.0559 - dense_1_loss_15: 0.0606 - dense_1_loss_16: 0.0580 - dense_1_loss_17: 0.0529 - dense_1_loss_18: 0.0513 - dense_1_loss_19: 0.0544 - dense_1_loss_20: 0.0601 - dense_1_loss_21: 0.0599 - dense_1_loss_22: 0.0584 - dense_1_loss_23: 0.0587 - dense_1_loss_24: 0.0552 - dense_1_loss_25: 0.0596 - dense_1_loss_26: 0.0555 - dense_1_loss_27: 0.0557 - dense_1_loss_28: 0.0608 - dense_1_loss_29: 0.0640 - dense_1_loss_30: 0.0000e+00 - dense_1_acc_1: 0.0667 - dense_1_acc_2: 0.5667 - dense_1_acc_3: 0.8667 - dense_1_acc_4: 0.9833 - dense_1_acc_5: 0.9833 - dense_1_acc_6: 1.0000 - dense_1_acc_7: 1.0000 - dense_1_acc_8: 1.0000 - dense_1_acc_9: 1.0000 - dense_1_acc_10: 1.0000 - dense_1_acc_11: 1.0000 - dense_1_acc_12: 1.0000 - dense_1_acc_13: 1.0000 - dense_1_acc_14: 1.0000 - dense_1_acc_15: 1.0000 - dense_1_acc_16: 1.0000 - dense_1_acc_17: 1.0000 - dense_1_acc_18: 1.0000 - dense_1_acc_19: 1.0000 - dense_1_acc_20: 1.0000 - dense_1_acc_21: 1.0000 - dense_1_acc_22: 1.0000 - dense_1_acc_23: 1.0000 - dense_1_acc_24: 1.0000 - dense_1_acc_25: 1.0000 - dense_1_acc_26: 1.0000 - dense_1_acc_27: 1.0000 - dense_1_acc_28: 1.0000 - dense_1_acc_29: 1.0000 - dense_1_acc_30: 0.0000e+00     \n",
      "Epoch 69/100\n",
      "60/60 [==============================] - 0s - loss: 7.7223 - dense_1_loss_1: 3.8456 - dense_1_loss_2: 1.5602 - dense_1_loss_3: 0.6059 - dense_1_loss_4: 0.1772 - dense_1_loss_5: 0.1387 - dense_1_loss_6: 0.0932 - dense_1_loss_7: 0.0792 - dense_1_loss_8: 0.0700 - dense_1_loss_9: 0.0626 - dense_1_loss_10: 0.0531 - dense_1_loss_11: 0.0566 - dense_1_loss_12: 0.0494 - dense_1_loss_13: 0.0486 - dense_1_loss_14: 0.0533 - dense_1_loss_15: 0.0584 - dense_1_loss_16: 0.0553 - dense_1_loss_17: 0.0506 - dense_1_loss_18: 0.0492 - dense_1_loss_19: 0.0520 - dense_1_loss_20: 0.0572 - dense_1_loss_21: 0.0572 - dense_1_loss_22: 0.0559 - dense_1_loss_23: 0.0566 - dense_1_loss_24: 0.0526 - dense_1_loss_25: 0.0573 - dense_1_loss_26: 0.0532 - dense_1_loss_27: 0.0539 - dense_1_loss_28: 0.0575 - dense_1_loss_29: 0.0620 - dense_1_loss_30: 0.0000e+00 - dense_1_acc_1: 0.0667 - dense_1_acc_2: 0.5667 - dense_1_acc_3: 0.8667 - dense_1_acc_4: 0.9833 - dense_1_acc_5: 0.9833 - dense_1_acc_6: 1.0000 - dense_1_acc_7: 1.0000 - dense_1_acc_8: 1.0000 - dense_1_acc_9: 1.0000 - dense_1_acc_10: 1.0000 - dense_1_acc_11: 1.0000 - dense_1_acc_12: 1.0000 - dense_1_acc_13: 1.0000 - dense_1_acc_14: 1.0000 - dense_1_acc_15: 1.0000 - dense_1_acc_16: 1.0000 - dense_1_acc_17: 1.0000 - dense_1_acc_18: 1.0000 - dense_1_acc_19: 1.0000 - dense_1_acc_20: 1.0000 - dense_1_acc_21: 1.0000 - dense_1_acc_22: 1.0000 - dense_1_acc_23: 1.0000 - dense_1_acc_24: 1.0000 - dense_1_acc_25: 1.0000 - dense_1_acc_26: 1.0000 - dense_1_acc_27: 1.0000 - dense_1_acc_28: 1.0000 - dense_1_acc_29: 1.0000 - dense_1_acc_30: 0.0000e+00     \n",
      "Epoch 70/100\n",
      "60/60 [==============================] - 0s - loss: 7.6188 - dense_1_loss_1: 3.8421 - dense_1_loss_2: 1.5408 - dense_1_loss_3: 0.5920 - dense_1_loss_4: 0.1710 - dense_1_loss_5: 0.1333 - dense_1_loss_6: 0.0895 - dense_1_loss_7: 0.0754 - dense_1_loss_8: 0.0668 - dense_1_loss_9: 0.0605 - dense_1_loss_10: 0.0509 - dense_1_loss_11: 0.0545 - dense_1_loss_12: 0.0476 - dense_1_loss_13: 0.0464 - dense_1_loss_14: 0.0510 - dense_1_loss_15: 0.0557 - dense_1_loss_16: 0.0527 - dense_1_loss_17: 0.0487 - dense_1_loss_18: 0.0479 - dense_1_loss_19: 0.0504 - dense_1_loss_20: 0.0537 - dense_1_loss_21: 0.0547 - dense_1_loss_22: 0.0537 - dense_1_loss_23: 0.0554 - dense_1_loss_24: 0.0504 - dense_1_loss_25: 0.0544 - dense_1_loss_26: 0.0514 - dense_1_loss_27: 0.0522 - dense_1_loss_28: 0.0563 - dense_1_loss_29: 0.0594 - dense_1_loss_30: 0.0000e+00 - dense_1_acc_1: 0.0667 - dense_1_acc_2: 0.5667 - dense_1_acc_3: 0.8667 - dense_1_acc_4: 1.0000 - dense_1_acc_5: 0.9833 - dense_1_acc_6: 1.0000 - dense_1_acc_7: 1.0000 - dense_1_acc_8: 1.0000 - dense_1_acc_9: 1.0000 - dense_1_acc_10: 1.0000 - dense_1_acc_11: 1.0000 - dense_1_acc_12: 1.0000 - dense_1_acc_13: 1.0000 - dense_1_acc_14: 1.0000 - dense_1_acc_15: 1.0000 - dense_1_acc_16: 1.0000 - dense_1_acc_17: 1.0000 - dense_1_acc_18: 1.0000 - dense_1_acc_19: 1.0000 - dense_1_acc_20: 1.0000 - dense_1_acc_21: 1.0000 - dense_1_acc_22: 1.0000 - dense_1_acc_23: 1.0000 - dense_1_acc_24: 1.0000 - dense_1_acc_25: 1.0000 - dense_1_acc_26: 1.0000 - dense_1_acc_27: 1.0000 - dense_1_acc_28: 1.0000 - dense_1_acc_29: 1.0000 - dense_1_acc_30: 0.0000e+00     \n",
      "Epoch 71/100\n"
     ]
    },
    {
     "name": "stdout",
     "output_type": "stream",
     "text": [
      "60/60 [==============================] - 0s - loss: 7.5215 - dense_1_loss_1: 3.8385 - dense_1_loss_2: 1.5236 - dense_1_loss_3: 0.5792 - dense_1_loss_4: 0.1646 - dense_1_loss_5: 0.1283 - dense_1_loss_6: 0.0869 - dense_1_loss_7: 0.0719 - dense_1_loss_8: 0.0642 - dense_1_loss_9: 0.0582 - dense_1_loss_10: 0.0492 - dense_1_loss_11: 0.0522 - dense_1_loss_12: 0.0458 - dense_1_loss_13: 0.0445 - dense_1_loss_14: 0.0491 - dense_1_loss_15: 0.0534 - dense_1_loss_16: 0.0506 - dense_1_loss_17: 0.0467 - dense_1_loss_18: 0.0461 - dense_1_loss_19: 0.0482 - dense_1_loss_20: 0.0515 - dense_1_loss_21: 0.0525 - dense_1_loss_22: 0.0513 - dense_1_loss_23: 0.0529 - dense_1_loss_24: 0.0483 - dense_1_loss_25: 0.0520 - dense_1_loss_26: 0.0492 - dense_1_loss_27: 0.0501 - dense_1_loss_28: 0.0551 - dense_1_loss_29: 0.0572 - dense_1_loss_30: 0.0000e+00 - dense_1_acc_1: 0.0667 - dense_1_acc_2: 0.5833 - dense_1_acc_3: 0.8667 - dense_1_acc_4: 1.0000 - dense_1_acc_5: 0.9833 - dense_1_acc_6: 1.0000 - dense_1_acc_7: 1.0000 - dense_1_acc_8: 1.0000 - dense_1_acc_9: 1.0000 - dense_1_acc_10: 1.0000 - dense_1_acc_11: 1.0000 - dense_1_acc_12: 1.0000 - dense_1_acc_13: 1.0000 - dense_1_acc_14: 1.0000 - dense_1_acc_15: 1.0000 - dense_1_acc_16: 1.0000 - dense_1_acc_17: 1.0000 - dense_1_acc_18: 1.0000 - dense_1_acc_19: 1.0000 - dense_1_acc_20: 1.0000 - dense_1_acc_21: 1.0000 - dense_1_acc_22: 1.0000 - dense_1_acc_23: 1.0000 - dense_1_acc_24: 1.0000 - dense_1_acc_25: 1.0000 - dense_1_acc_26: 1.0000 - dense_1_acc_27: 1.0000 - dense_1_acc_28: 1.0000 - dense_1_acc_29: 1.0000 - dense_1_acc_30: 0.0000e+00     \n",
      "Epoch 72/100\n",
      "60/60 [==============================] - 0s - loss: 7.4276 - dense_1_loss_1: 3.8351 - dense_1_loss_2: 1.5055 - dense_1_loss_3: 0.5663 - dense_1_loss_4: 0.1595 - dense_1_loss_5: 0.1235 - dense_1_loss_6: 0.0842 - dense_1_loss_7: 0.0689 - dense_1_loss_8: 0.0623 - dense_1_loss_9: 0.0558 - dense_1_loss_10: 0.0474 - dense_1_loss_11: 0.0502 - dense_1_loss_12: 0.0441 - dense_1_loss_13: 0.0429 - dense_1_loss_14: 0.0474 - dense_1_loss_15: 0.0516 - dense_1_loss_16: 0.0491 - dense_1_loss_17: 0.0450 - dense_1_loss_18: 0.0440 - dense_1_loss_19: 0.0462 - dense_1_loss_20: 0.0505 - dense_1_loss_21: 0.0504 - dense_1_loss_22: 0.0495 - dense_1_loss_23: 0.0501 - dense_1_loss_24: 0.0463 - dense_1_loss_25: 0.0510 - dense_1_loss_26: 0.0469 - dense_1_loss_27: 0.0478 - dense_1_loss_28: 0.0512 - dense_1_loss_29: 0.0551 - dense_1_loss_30: 0.0000e+00 - dense_1_acc_1: 0.0667 - dense_1_acc_2: 0.5833 - dense_1_acc_3: 0.8667 - dense_1_acc_4: 1.0000 - dense_1_acc_5: 0.9833 - dense_1_acc_6: 1.0000 - dense_1_acc_7: 1.0000 - dense_1_acc_8: 1.0000 - dense_1_acc_9: 1.0000 - dense_1_acc_10: 1.0000 - dense_1_acc_11: 1.0000 - dense_1_acc_12: 1.0000 - dense_1_acc_13: 1.0000 - dense_1_acc_14: 1.0000 - dense_1_acc_15: 1.0000 - dense_1_acc_16: 1.0000 - dense_1_acc_17: 1.0000 - dense_1_acc_18: 1.0000 - dense_1_acc_19: 1.0000 - dense_1_acc_20: 1.0000 - dense_1_acc_21: 1.0000 - dense_1_acc_22: 1.0000 - dense_1_acc_23: 1.0000 - dense_1_acc_24: 1.0000 - dense_1_acc_25: 1.0000 - dense_1_acc_26: 1.0000 - dense_1_acc_27: 1.0000 - dense_1_acc_28: 1.0000 - dense_1_acc_29: 1.0000 - dense_1_acc_30: 0.0000e+00     \n",
      "Epoch 73/100\n",
      "60/60 [==============================] - 0s - loss: 7.3423 - dense_1_loss_1: 3.8314 - dense_1_loss_2: 1.4888 - dense_1_loss_3: 0.5547 - dense_1_loss_4: 0.1544 - dense_1_loss_5: 0.1196 - dense_1_loss_6: 0.0815 - dense_1_loss_7: 0.0664 - dense_1_loss_8: 0.0603 - dense_1_loss_9: 0.0539 - dense_1_loss_10: 0.0457 - dense_1_loss_11: 0.0485 - dense_1_loss_12: 0.0425 - dense_1_loss_13: 0.0414 - dense_1_loss_14: 0.0458 - dense_1_loss_15: 0.0497 - dense_1_loss_16: 0.0475 - dense_1_loss_17: 0.0435 - dense_1_loss_18: 0.0424 - dense_1_loss_19: 0.0445 - dense_1_loss_20: 0.0489 - dense_1_loss_21: 0.0485 - dense_1_loss_22: 0.0475 - dense_1_loss_23: 0.0481 - dense_1_loss_24: 0.0444 - dense_1_loss_25: 0.0493 - dense_1_loss_26: 0.0453 - dense_1_loss_27: 0.0459 - dense_1_loss_28: 0.0490 - dense_1_loss_29: 0.0530 - dense_1_loss_30: 0.0000e+00 - dense_1_acc_1: 0.0667 - dense_1_acc_2: 0.5833 - dense_1_acc_3: 0.8667 - dense_1_acc_4: 1.0000 - dense_1_acc_5: 0.9833 - dense_1_acc_6: 1.0000 - dense_1_acc_7: 1.0000 - dense_1_acc_8: 1.0000 - dense_1_acc_9: 1.0000 - dense_1_acc_10: 1.0000 - dense_1_acc_11: 1.0000 - dense_1_acc_12: 1.0000 - dense_1_acc_13: 1.0000 - dense_1_acc_14: 1.0000 - dense_1_acc_15: 1.0000 - dense_1_acc_16: 1.0000 - dense_1_acc_17: 1.0000 - dense_1_acc_18: 1.0000 - dense_1_acc_19: 1.0000 - dense_1_acc_20: 1.0000 - dense_1_acc_21: 1.0000 - dense_1_acc_22: 1.0000 - dense_1_acc_23: 1.0000 - dense_1_acc_24: 1.0000 - dense_1_acc_25: 1.0000 - dense_1_acc_26: 1.0000 - dense_1_acc_27: 1.0000 - dense_1_acc_28: 1.0000 - dense_1_acc_29: 1.0000 - dense_1_acc_30: 0.0000e+00     \n",
      "Epoch 74/100\n",
      "60/60 [==============================] - 0s - loss: 7.2561 - dense_1_loss_1: 3.8278 - dense_1_loss_2: 1.4728 - dense_1_loss_3: 0.5423 - dense_1_loss_4: 0.1488 - dense_1_loss_5: 0.1149 - dense_1_loss_6: 0.0786 - dense_1_loss_7: 0.0629 - dense_1_loss_8: 0.0578 - dense_1_loss_9: 0.0519 - dense_1_loss_10: 0.0439 - dense_1_loss_11: 0.0470 - dense_1_loss_12: 0.0410 - dense_1_loss_13: 0.0399 - dense_1_loss_14: 0.0440 - dense_1_loss_15: 0.0475 - dense_1_loss_16: 0.0458 - dense_1_loss_17: 0.0420 - dense_1_loss_18: 0.0414 - dense_1_loss_19: 0.0429 - dense_1_loss_20: 0.0464 - dense_1_loss_21: 0.0466 - dense_1_loss_22: 0.0456 - dense_1_loss_23: 0.0470 - dense_1_loss_24: 0.0428 - dense_1_loss_25: 0.0467 - dense_1_loss_26: 0.0437 - dense_1_loss_27: 0.0447 - dense_1_loss_28: 0.0485 - dense_1_loss_29: 0.0510 - dense_1_loss_30: 0.0000e+00 - dense_1_acc_1: 0.0667 - dense_1_acc_2: 0.5833 - dense_1_acc_3: 0.8667 - dense_1_acc_4: 1.0000 - dense_1_acc_5: 0.9833 - dense_1_acc_6: 1.0000 - dense_1_acc_7: 1.0000 - dense_1_acc_8: 1.0000 - dense_1_acc_9: 1.0000 - dense_1_acc_10: 1.0000 - dense_1_acc_11: 1.0000 - dense_1_acc_12: 1.0000 - dense_1_acc_13: 1.0000 - dense_1_acc_14: 1.0000 - dense_1_acc_15: 1.0000 - dense_1_acc_16: 1.0000 - dense_1_acc_17: 1.0000 - dense_1_acc_18: 1.0000 - dense_1_acc_19: 1.0000 - dense_1_acc_20: 1.0000 - dense_1_acc_21: 1.0000 - dense_1_acc_22: 1.0000 - dense_1_acc_23: 1.0000 - dense_1_acc_24: 1.0000 - dense_1_acc_25: 1.0000 - dense_1_acc_26: 1.0000 - dense_1_acc_27: 1.0000 - dense_1_acc_28: 1.0000 - dense_1_acc_29: 1.0000 - dense_1_acc_30: 0.0000e+00     \n",
      "Epoch 75/100\n",
      "60/60 [==============================] - 0s - loss: 7.1788 - dense_1_loss_1: 3.8247 - dense_1_loss_2: 1.4567 - dense_1_loss_3: 0.5305 - dense_1_loss_4: 0.1443 - dense_1_loss_5: 0.1109 - dense_1_loss_6: 0.0761 - dense_1_loss_7: 0.0606 - dense_1_loss_8: 0.0560 - dense_1_loss_9: 0.0500 - dense_1_loss_10: 0.0425 - dense_1_loss_11: 0.0453 - dense_1_loss_12: 0.0397 - dense_1_loss_13: 0.0385 - dense_1_loss_14: 0.0423 - dense_1_loss_15: 0.0460 - dense_1_loss_16: 0.0441 - dense_1_loss_17: 0.0406 - dense_1_loss_18: 0.0400 - dense_1_loss_19: 0.0416 - dense_1_loss_20: 0.0448 - dense_1_loss_21: 0.0449 - dense_1_loss_22: 0.0442 - dense_1_loss_23: 0.0454 - dense_1_loss_24: 0.0417 - dense_1_loss_25: 0.0448 - dense_1_loss_26: 0.0423 - dense_1_loss_27: 0.0434 - dense_1_loss_28: 0.0475 - dense_1_loss_29: 0.0492 - dense_1_loss_30: 0.0000e+00 - dense_1_acc_1: 0.0667 - dense_1_acc_2: 0.5833 - dense_1_acc_3: 0.8667 - dense_1_acc_4: 1.0000 - dense_1_acc_5: 0.9833 - dense_1_acc_6: 1.0000 - dense_1_acc_7: 1.0000 - dense_1_acc_8: 1.0000 - dense_1_acc_9: 1.0000 - dense_1_acc_10: 1.0000 - dense_1_acc_11: 1.0000 - dense_1_acc_12: 1.0000 - dense_1_acc_13: 1.0000 - dense_1_acc_14: 1.0000 - dense_1_acc_15: 1.0000 - dense_1_acc_16: 1.0000 - dense_1_acc_17: 1.0000 - dense_1_acc_18: 1.0000 - dense_1_acc_19: 1.0000 - dense_1_acc_20: 1.0000 - dense_1_acc_21: 1.0000 - dense_1_acc_22: 1.0000 - dense_1_acc_23: 1.0000 - dense_1_acc_24: 1.0000 - dense_1_acc_25: 1.0000 - dense_1_acc_26: 1.0000 - dense_1_acc_27: 1.0000 - dense_1_acc_28: 1.0000 - dense_1_acc_29: 1.0000 - dense_1_acc_30: 0.0000e+00     \n",
      "Epoch 76/100\n"
     ]
    },
    {
     "name": "stdout",
     "output_type": "stream",
     "text": [
      "60/60 [==============================] - 0s - loss: 7.1024 - dense_1_loss_1: 3.8212 - dense_1_loss_2: 1.4410 - dense_1_loss_3: 0.5188 - dense_1_loss_4: 0.1403 - dense_1_loss_5: 0.1073 - dense_1_loss_6: 0.0738 - dense_1_loss_7: 0.0584 - dense_1_loss_8: 0.0544 - dense_1_loss_9: 0.0481 - dense_1_loss_10: 0.0413 - dense_1_loss_11: 0.0438 - dense_1_loss_12: 0.0385 - dense_1_loss_13: 0.0373 - dense_1_loss_14: 0.0410 - dense_1_loss_15: 0.0448 - dense_1_loss_16: 0.0428 - dense_1_loss_17: 0.0392 - dense_1_loss_18: 0.0383 - dense_1_loss_19: 0.0401 - dense_1_loss_20: 0.0437 - dense_1_loss_21: 0.0435 - dense_1_loss_22: 0.0427 - dense_1_loss_23: 0.0436 - dense_1_loss_24: 0.0400 - dense_1_loss_25: 0.0438 - dense_1_loss_26: 0.0406 - dense_1_loss_27: 0.0420 - dense_1_loss_28: 0.0447 - dense_1_loss_29: 0.0476 - dense_1_loss_30: 0.0000e+00 - dense_1_acc_1: 0.0667 - dense_1_acc_2: 0.5833 - dense_1_acc_3: 0.8667 - dense_1_acc_4: 1.0000 - dense_1_acc_5: 0.9833 - dense_1_acc_6: 1.0000 - dense_1_acc_7: 1.0000 - dense_1_acc_8: 1.0000 - dense_1_acc_9: 1.0000 - dense_1_acc_10: 1.0000 - dense_1_acc_11: 1.0000 - dense_1_acc_12: 1.0000 - dense_1_acc_13: 1.0000 - dense_1_acc_14: 1.0000 - dense_1_acc_15: 1.0000 - dense_1_acc_16: 1.0000 - dense_1_acc_17: 1.0000 - dense_1_acc_18: 1.0000 - dense_1_acc_19: 1.0000 - dense_1_acc_20: 1.0000 - dense_1_acc_21: 1.0000 - dense_1_acc_22: 1.0000 - dense_1_acc_23: 1.0000 - dense_1_acc_24: 1.0000 - dense_1_acc_25: 1.0000 - dense_1_acc_26: 1.0000 - dense_1_acc_27: 1.0000 - dense_1_acc_28: 1.0000 - dense_1_acc_29: 1.0000 - dense_1_acc_30: 0.0000e+00     \n",
      "Epoch 77/100\n",
      "60/60 [==============================] - 0s - loss: 7.0329 - dense_1_loss_1: 3.8180 - dense_1_loss_2: 1.4263 - dense_1_loss_3: 0.5082 - dense_1_loss_4: 0.1364 - dense_1_loss_5: 0.1043 - dense_1_loss_6: 0.0719 - dense_1_loss_7: 0.0565 - dense_1_loss_8: 0.0530 - dense_1_loss_9: 0.0466 - dense_1_loss_10: 0.0401 - dense_1_loss_11: 0.0424 - dense_1_loss_12: 0.0373 - dense_1_loss_13: 0.0361 - dense_1_loss_14: 0.0397 - dense_1_loss_15: 0.0435 - dense_1_loss_16: 0.0414 - dense_1_loss_17: 0.0379 - dense_1_loss_18: 0.0371 - dense_1_loss_19: 0.0387 - dense_1_loss_20: 0.0426 - dense_1_loss_21: 0.0420 - dense_1_loss_22: 0.0414 - dense_1_loss_23: 0.0418 - dense_1_loss_24: 0.0387 - dense_1_loss_25: 0.0423 - dense_1_loss_26: 0.0393 - dense_1_loss_27: 0.0403 - dense_1_loss_28: 0.0435 - dense_1_loss_29: 0.0457 - dense_1_loss_30: 0.0000e+00 - dense_1_acc_1: 0.0667 - dense_1_acc_2: 0.6167 - dense_1_acc_3: 0.8667 - dense_1_acc_4: 1.0000 - dense_1_acc_5: 0.9833 - dense_1_acc_6: 1.0000 - dense_1_acc_7: 1.0000 - dense_1_acc_8: 1.0000 - dense_1_acc_9: 1.0000 - dense_1_acc_10: 1.0000 - dense_1_acc_11: 1.0000 - dense_1_acc_12: 1.0000 - dense_1_acc_13: 1.0000 - dense_1_acc_14: 1.0000 - dense_1_acc_15: 1.0000 - dense_1_acc_16: 1.0000 - dense_1_acc_17: 1.0000 - dense_1_acc_18: 1.0000 - dense_1_acc_19: 1.0000 - dense_1_acc_20: 1.0000 - dense_1_acc_21: 1.0000 - dense_1_acc_22: 1.0000 - dense_1_acc_23: 1.0000 - dense_1_acc_24: 1.0000 - dense_1_acc_25: 1.0000 - dense_1_acc_26: 1.0000 - dense_1_acc_27: 1.0000 - dense_1_acc_28: 1.0000 - dense_1_acc_29: 1.0000 - dense_1_acc_30: 0.0000e+00     \n",
      "Epoch 78/100\n",
      "60/60 [==============================] - 0s - loss: 6.9638 - dense_1_loss_1: 3.8143 - dense_1_loss_2: 1.4117 - dense_1_loss_3: 0.4981 - dense_1_loss_4: 0.1326 - dense_1_loss_5: 0.1008 - dense_1_loss_6: 0.0699 - dense_1_loss_7: 0.0543 - dense_1_loss_8: 0.0511 - dense_1_loss_9: 0.0453 - dense_1_loss_10: 0.0387 - dense_1_loss_11: 0.0411 - dense_1_loss_12: 0.0361 - dense_1_loss_13: 0.0349 - dense_1_loss_14: 0.0384 - dense_1_loss_15: 0.0419 - dense_1_loss_16: 0.0399 - dense_1_loss_17: 0.0368 - dense_1_loss_18: 0.0360 - dense_1_loss_19: 0.0375 - dense_1_loss_20: 0.0409 - dense_1_loss_21: 0.0406 - dense_1_loss_22: 0.0399 - dense_1_loss_23: 0.0407 - dense_1_loss_24: 0.0375 - dense_1_loss_25: 0.0406 - dense_1_loss_26: 0.0380 - dense_1_loss_27: 0.0390 - dense_1_loss_28: 0.0428 - dense_1_loss_29: 0.0442 - dense_1_loss_30: 0.0000e+00 - dense_1_acc_1: 0.0667 - dense_1_acc_2: 0.6167 - dense_1_acc_3: 0.8667 - dense_1_acc_4: 1.0000 - dense_1_acc_5: 1.0000 - dense_1_acc_6: 1.0000 - dense_1_acc_7: 1.0000 - dense_1_acc_8: 1.0000 - dense_1_acc_9: 1.0000 - dense_1_acc_10: 1.0000 - dense_1_acc_11: 1.0000 - dense_1_acc_12: 1.0000 - dense_1_acc_13: 1.0000 - dense_1_acc_14: 1.0000 - dense_1_acc_15: 1.0000 - dense_1_acc_16: 1.0000 - dense_1_acc_17: 1.0000 - dense_1_acc_18: 1.0000 - dense_1_acc_19: 1.0000 - dense_1_acc_20: 1.0000 - dense_1_acc_21: 1.0000 - dense_1_acc_22: 1.0000 - dense_1_acc_23: 1.0000 - dense_1_acc_24: 1.0000 - dense_1_acc_25: 1.0000 - dense_1_acc_26: 1.0000 - dense_1_acc_27: 1.0000 - dense_1_acc_28: 1.0000 - dense_1_acc_29: 1.0000 - dense_1_acc_30: 0.0000e+00     \n",
      "Epoch 79/100\n",
      "60/60 [==============================] - 0s - loss: 6.8954 - dense_1_loss_1: 3.8113 - dense_1_loss_2: 1.3973 - dense_1_loss_3: 0.4861 - dense_1_loss_4: 0.1284 - dense_1_loss_5: 0.0971 - dense_1_loss_6: 0.0679 - dense_1_loss_7: 0.0522 - dense_1_loss_8: 0.0494 - dense_1_loss_9: 0.0439 - dense_1_loss_10: 0.0376 - dense_1_loss_11: 0.0399 - dense_1_loss_12: 0.0351 - dense_1_loss_13: 0.0337 - dense_1_loss_14: 0.0373 - dense_1_loss_15: 0.0404 - dense_1_loss_16: 0.0387 - dense_1_loss_17: 0.0357 - dense_1_loss_18: 0.0350 - dense_1_loss_19: 0.0363 - dense_1_loss_20: 0.0394 - dense_1_loss_21: 0.0393 - dense_1_loss_22: 0.0387 - dense_1_loss_23: 0.0396 - dense_1_loss_24: 0.0365 - dense_1_loss_25: 0.0391 - dense_1_loss_26: 0.0369 - dense_1_loss_27: 0.0379 - dense_1_loss_28: 0.0418 - dense_1_loss_29: 0.0430 - dense_1_loss_30: 0.0000e+00 - dense_1_acc_1: 0.0667 - dense_1_acc_2: 0.6167 - dense_1_acc_3: 0.8833 - dense_1_acc_4: 1.0000 - dense_1_acc_5: 1.0000 - dense_1_acc_6: 1.0000 - dense_1_acc_7: 1.0000 - dense_1_acc_8: 1.0000 - dense_1_acc_9: 1.0000 - dense_1_acc_10: 1.0000 - dense_1_acc_11: 1.0000 - dense_1_acc_12: 1.0000 - dense_1_acc_13: 1.0000 - dense_1_acc_14: 1.0000 - dense_1_acc_15: 1.0000 - dense_1_acc_16: 1.0000 - dense_1_acc_17: 1.0000 - dense_1_acc_18: 1.0000 - dense_1_acc_19: 1.0000 - dense_1_acc_20: 1.0000 - dense_1_acc_21: 1.0000 - dense_1_acc_22: 1.0000 - dense_1_acc_23: 1.0000 - dense_1_acc_24: 1.0000 - dense_1_acc_25: 1.0000 - dense_1_acc_26: 1.0000 - dense_1_acc_27: 1.0000 - dense_1_acc_28: 1.0000 - dense_1_acc_29: 1.0000 - dense_1_acc_30: 0.0000e+00     \n",
      "Epoch 80/100\n",
      "60/60 [==============================] - 0s - loss: 6.8336 - dense_1_loss_1: 3.8079 - dense_1_loss_2: 1.3831 - dense_1_loss_3: 0.4770 - dense_1_loss_4: 0.1254 - dense_1_loss_5: 0.0946 - dense_1_loss_6: 0.0660 - dense_1_loss_7: 0.0508 - dense_1_loss_8: 0.0480 - dense_1_loss_9: 0.0427 - dense_1_loss_10: 0.0365 - dense_1_loss_11: 0.0387 - dense_1_loss_12: 0.0340 - dense_1_loss_13: 0.0327 - dense_1_loss_14: 0.0362 - dense_1_loss_15: 0.0392 - dense_1_loss_16: 0.0376 - dense_1_loss_17: 0.0346 - dense_1_loss_18: 0.0339 - dense_1_loss_19: 0.0353 - dense_1_loss_20: 0.0382 - dense_1_loss_21: 0.0381 - dense_1_loss_22: 0.0375 - dense_1_loss_23: 0.0385 - dense_1_loss_24: 0.0353 - dense_1_loss_25: 0.0382 - dense_1_loss_26: 0.0357 - dense_1_loss_27: 0.0367 - dense_1_loss_28: 0.0396 - dense_1_loss_29: 0.0417 - dense_1_loss_30: 0.0000e+00 - dense_1_acc_1: 0.0667 - dense_1_acc_2: 0.6167 - dense_1_acc_3: 0.8833 - dense_1_acc_4: 1.0000 - dense_1_acc_5: 1.0000 - dense_1_acc_6: 1.0000 - dense_1_acc_7: 1.0000 - dense_1_acc_8: 1.0000 - dense_1_acc_9: 1.0000 - dense_1_acc_10: 1.0000 - dense_1_acc_11: 1.0000 - dense_1_acc_12: 1.0000 - dense_1_acc_13: 1.0000 - dense_1_acc_14: 1.0000 - dense_1_acc_15: 1.0000 - dense_1_acc_16: 1.0000 - dense_1_acc_17: 1.0000 - dense_1_acc_18: 1.0000 - dense_1_acc_19: 1.0000 - dense_1_acc_20: 1.0000 - dense_1_acc_21: 1.0000 - dense_1_acc_22: 1.0000 - dense_1_acc_23: 1.0000 - dense_1_acc_24: 1.0000 - dense_1_acc_25: 1.0000 - dense_1_acc_26: 1.0000 - dense_1_acc_27: 1.0000 - dense_1_acc_28: 1.0000 - dense_1_acc_29: 1.0000 - dense_1_acc_30: 0.0000e+00     \n",
      "Epoch 81/100\n"
     ]
    },
    {
     "name": "stdout",
     "output_type": "stream",
     "text": [
      "60/60 [==============================] - 0s - loss: 6.7726 - dense_1_loss_1: 3.8047 - dense_1_loss_2: 1.3694 - dense_1_loss_3: 0.4666 - dense_1_loss_4: 0.1220 - dense_1_loss_5: 0.0916 - dense_1_loss_6: 0.0642 - dense_1_loss_7: 0.0490 - dense_1_loss_8: 0.0467 - dense_1_loss_9: 0.0411 - dense_1_loss_10: 0.0355 - dense_1_loss_11: 0.0377 - dense_1_loss_12: 0.0331 - dense_1_loss_13: 0.0317 - dense_1_loss_14: 0.0352 - dense_1_loss_15: 0.0380 - dense_1_loss_16: 0.0366 - dense_1_loss_17: 0.0336 - dense_1_loss_18: 0.0329 - dense_1_loss_19: 0.0342 - dense_1_loss_20: 0.0373 - dense_1_loss_21: 0.0370 - dense_1_loss_22: 0.0365 - dense_1_loss_23: 0.0372 - dense_1_loss_24: 0.0342 - dense_1_loss_25: 0.0372 - dense_1_loss_26: 0.0346 - dense_1_loss_27: 0.0358 - dense_1_loss_28: 0.0386 - dense_1_loss_29: 0.0405 - dense_1_loss_30: 0.0000e+00 - dense_1_acc_1: 0.0667 - dense_1_acc_2: 0.6167 - dense_1_acc_3: 0.9000 - dense_1_acc_4: 1.0000 - dense_1_acc_5: 1.0000 - dense_1_acc_6: 1.0000 - dense_1_acc_7: 1.0000 - dense_1_acc_8: 1.0000 - dense_1_acc_9: 1.0000 - dense_1_acc_10: 1.0000 - dense_1_acc_11: 1.0000 - dense_1_acc_12: 1.0000 - dense_1_acc_13: 1.0000 - dense_1_acc_14: 1.0000 - dense_1_acc_15: 1.0000 - dense_1_acc_16: 1.0000 - dense_1_acc_17: 1.0000 - dense_1_acc_18: 1.0000 - dense_1_acc_19: 1.0000 - dense_1_acc_20: 1.0000 - dense_1_acc_21: 1.0000 - dense_1_acc_22: 1.0000 - dense_1_acc_23: 1.0000 - dense_1_acc_24: 1.0000 - dense_1_acc_25: 1.0000 - dense_1_acc_26: 1.0000 - dense_1_acc_27: 1.0000 - dense_1_acc_28: 1.0000 - dense_1_acc_29: 1.0000 - dense_1_acc_30: 0.0000e+00     \n",
      "Epoch 82/100\n",
      "60/60 [==============================] - 0s - loss: 6.7165 - dense_1_loss_1: 3.8014 - dense_1_loss_2: 1.3567 - dense_1_loss_3: 0.4577 - dense_1_loss_4: 0.1191 - dense_1_loss_5: 0.0893 - dense_1_loss_6: 0.0627 - dense_1_loss_7: 0.0477 - dense_1_loss_8: 0.0455 - dense_1_loss_9: 0.0398 - dense_1_loss_10: 0.0346 - dense_1_loss_11: 0.0365 - dense_1_loss_12: 0.0322 - dense_1_loss_13: 0.0308 - dense_1_loss_14: 0.0342 - dense_1_loss_15: 0.0369 - dense_1_loss_16: 0.0357 - dense_1_loss_17: 0.0326 - dense_1_loss_18: 0.0319 - dense_1_loss_19: 0.0331 - dense_1_loss_20: 0.0364 - dense_1_loss_21: 0.0359 - dense_1_loss_22: 0.0354 - dense_1_loss_23: 0.0359 - dense_1_loss_24: 0.0332 - dense_1_loss_25: 0.0362 - dense_1_loss_26: 0.0335 - dense_1_loss_27: 0.0347 - dense_1_loss_28: 0.0375 - dense_1_loss_29: 0.0393 - dense_1_loss_30: 0.0000e+00 - dense_1_acc_1: 0.0667 - dense_1_acc_2: 0.6167 - dense_1_acc_3: 0.9000 - dense_1_acc_4: 1.0000 - dense_1_acc_5: 1.0000 - dense_1_acc_6: 1.0000 - dense_1_acc_7: 1.0000 - dense_1_acc_8: 1.0000 - dense_1_acc_9: 1.0000 - dense_1_acc_10: 1.0000 - dense_1_acc_11: 1.0000 - dense_1_acc_12: 1.0000 - dense_1_acc_13: 1.0000 - dense_1_acc_14: 1.0000 - dense_1_acc_15: 1.0000 - dense_1_acc_16: 1.0000 - dense_1_acc_17: 1.0000 - dense_1_acc_18: 1.0000 - dense_1_acc_19: 1.0000 - dense_1_acc_20: 1.0000 - dense_1_acc_21: 1.0000 - dense_1_acc_22: 1.0000 - dense_1_acc_23: 1.0000 - dense_1_acc_24: 1.0000 - dense_1_acc_25: 1.0000 - dense_1_acc_26: 1.0000 - dense_1_acc_27: 1.0000 - dense_1_acc_28: 1.0000 - dense_1_acc_29: 1.0000 - dense_1_acc_30: 0.0000e+00     \n",
      "Epoch 83/100\n",
      "60/60 [==============================] - 0s - loss: 6.6582 - dense_1_loss_1: 3.7984 - dense_1_loss_2: 1.3429 - dense_1_loss_3: 0.4481 - dense_1_loss_4: 0.1155 - dense_1_loss_5: 0.0865 - dense_1_loss_6: 0.0609 - dense_1_loss_7: 0.0461 - dense_1_loss_8: 0.0439 - dense_1_loss_9: 0.0387 - dense_1_loss_10: 0.0336 - dense_1_loss_11: 0.0355 - dense_1_loss_12: 0.0313 - dense_1_loss_13: 0.0300 - dense_1_loss_14: 0.0332 - dense_1_loss_15: 0.0357 - dense_1_loss_16: 0.0348 - dense_1_loss_17: 0.0317 - dense_1_loss_18: 0.0310 - dense_1_loss_19: 0.0322 - dense_1_loss_20: 0.0353 - dense_1_loss_21: 0.0348 - dense_1_loss_22: 0.0344 - dense_1_loss_23: 0.0349 - dense_1_loss_24: 0.0324 - dense_1_loss_25: 0.0350 - dense_1_loss_26: 0.0326 - dense_1_loss_27: 0.0338 - dense_1_loss_28: 0.0367 - dense_1_loss_29: 0.0382 - dense_1_loss_30: 0.0000e+00 - dense_1_acc_1: 0.0667 - dense_1_acc_2: 0.6167 - dense_1_acc_3: 0.9167 - dense_1_acc_4: 1.0000 - dense_1_acc_5: 1.0000 - dense_1_acc_6: 1.0000 - dense_1_acc_7: 1.0000 - dense_1_acc_8: 1.0000 - dense_1_acc_9: 1.0000 - dense_1_acc_10: 1.0000 - dense_1_acc_11: 1.0000 - dense_1_acc_12: 1.0000 - dense_1_acc_13: 1.0000 - dense_1_acc_14: 1.0000 - dense_1_acc_15: 1.0000 - dense_1_acc_16: 1.0000 - dense_1_acc_17: 1.0000 - dense_1_acc_18: 1.0000 - dense_1_acc_19: 1.0000 - dense_1_acc_20: 1.0000 - dense_1_acc_21: 1.0000 - dense_1_acc_22: 1.0000 - dense_1_acc_23: 1.0000 - dense_1_acc_24: 1.0000 - dense_1_acc_25: 1.0000 - dense_1_acc_26: 1.0000 - dense_1_acc_27: 1.0000 - dense_1_acc_28: 1.0000 - dense_1_acc_29: 1.0000 - dense_1_acc_30: 0.0000e+00     \n",
      "Epoch 84/100\n",
      "60/60 [==============================] - 0s - loss: 6.6048 - dense_1_loss_1: 3.7952 - dense_1_loss_2: 1.3298 - dense_1_loss_3: 0.4394 - dense_1_loss_4: 0.1127 - dense_1_loss_5: 0.0842 - dense_1_loss_6: 0.0593 - dense_1_loss_7: 0.0449 - dense_1_loss_8: 0.0426 - dense_1_loss_9: 0.0377 - dense_1_loss_10: 0.0328 - dense_1_loss_11: 0.0346 - dense_1_loss_12: 0.0305 - dense_1_loss_13: 0.0292 - dense_1_loss_14: 0.0322 - dense_1_loss_15: 0.0347 - dense_1_loss_16: 0.0338 - dense_1_loss_17: 0.0309 - dense_1_loss_18: 0.0303 - dense_1_loss_19: 0.0313 - dense_1_loss_20: 0.0341 - dense_1_loss_21: 0.0338 - dense_1_loss_22: 0.0335 - dense_1_loss_23: 0.0342 - dense_1_loss_24: 0.0315 - dense_1_loss_25: 0.0339 - dense_1_loss_26: 0.0318 - dense_1_loss_27: 0.0329 - dense_1_loss_28: 0.0358 - dense_1_loss_29: 0.0372 - dense_1_loss_30: 0.0000e+00 - dense_1_acc_1: 0.0667 - dense_1_acc_2: 0.6167 - dense_1_acc_3: 0.9167 - dense_1_acc_4: 1.0000 - dense_1_acc_5: 1.0000 - dense_1_acc_6: 1.0000 - dense_1_acc_7: 1.0000 - dense_1_acc_8: 1.0000 - dense_1_acc_9: 1.0000 - dense_1_acc_10: 1.0000 - dense_1_acc_11: 1.0000 - dense_1_acc_12: 1.0000 - dense_1_acc_13: 1.0000 - dense_1_acc_14: 1.0000 - dense_1_acc_15: 1.0000 - dense_1_acc_16: 1.0000 - dense_1_acc_17: 1.0000 - dense_1_acc_18: 1.0000 - dense_1_acc_19: 1.0000 - dense_1_acc_20: 1.0000 - dense_1_acc_21: 1.0000 - dense_1_acc_22: 1.0000 - dense_1_acc_23: 1.0000 - dense_1_acc_24: 1.0000 - dense_1_acc_25: 1.0000 - dense_1_acc_26: 1.0000 - dense_1_acc_27: 1.0000 - dense_1_acc_28: 1.0000 - dense_1_acc_29: 1.0000 - dense_1_acc_30: 0.0000e+00     \n",
      "Epoch 85/100\n",
      "60/60 [==============================] - 0s - loss: 6.5532 - dense_1_loss_1: 3.7919 - dense_1_loss_2: 1.3178 - dense_1_loss_3: 0.4303 - dense_1_loss_4: 0.1100 - dense_1_loss_5: 0.0818 - dense_1_loss_6: 0.0580 - dense_1_loss_7: 0.0437 - dense_1_loss_8: 0.0414 - dense_1_loss_9: 0.0368 - dense_1_loss_10: 0.0319 - dense_1_loss_11: 0.0336 - dense_1_loss_12: 0.0297 - dense_1_loss_13: 0.0284 - dense_1_loss_14: 0.0314 - dense_1_loss_15: 0.0336 - dense_1_loss_16: 0.0329 - dense_1_loss_17: 0.0301 - dense_1_loss_18: 0.0296 - dense_1_loss_19: 0.0306 - dense_1_loss_20: 0.0331 - dense_1_loss_21: 0.0329 - dense_1_loss_22: 0.0326 - dense_1_loss_23: 0.0333 - dense_1_loss_24: 0.0306 - dense_1_loss_25: 0.0330 - dense_1_loss_26: 0.0310 - dense_1_loss_27: 0.0321 - dense_1_loss_28: 0.0348 - dense_1_loss_29: 0.0362 - dense_1_loss_30: 0.0000e+00 - dense_1_acc_1: 0.0667 - dense_1_acc_2: 0.6167 - dense_1_acc_3: 0.9167 - dense_1_acc_4: 1.0000 - dense_1_acc_5: 1.0000 - dense_1_acc_6: 1.0000 - dense_1_acc_7: 1.0000 - dense_1_acc_8: 1.0000 - dense_1_acc_9: 1.0000 - dense_1_acc_10: 1.0000 - dense_1_acc_11: 1.0000 - dense_1_acc_12: 1.0000 - dense_1_acc_13: 1.0000 - dense_1_acc_14: 1.0000 - dense_1_acc_15: 1.0000 - dense_1_acc_16: 1.0000 - dense_1_acc_17: 1.0000 - dense_1_acc_18: 1.0000 - dense_1_acc_19: 1.0000 - dense_1_acc_20: 1.0000 - dense_1_acc_21: 1.0000 - dense_1_acc_22: 1.0000 - dense_1_acc_23: 1.0000 - dense_1_acc_24: 1.0000 - dense_1_acc_25: 1.0000 - dense_1_acc_26: 1.0000 - dense_1_acc_27: 1.0000 - dense_1_acc_28: 1.0000 - dense_1_acc_29: 1.0000 - dense_1_acc_30: 0.0000e+00     \n",
      "Epoch 86/100\n"
     ]
    },
    {
     "name": "stdout",
     "output_type": "stream",
     "text": [
      "60/60 [==============================] - 0s - loss: 6.5038 - dense_1_loss_1: 3.7892 - dense_1_loss_2: 1.3049 - dense_1_loss_3: 0.4222 - dense_1_loss_4: 0.1074 - dense_1_loss_5: 0.0798 - dense_1_loss_6: 0.0566 - dense_1_loss_7: 0.0425 - dense_1_loss_8: 0.0403 - dense_1_loss_9: 0.0357 - dense_1_loss_10: 0.0312 - dense_1_loss_11: 0.0328 - dense_1_loss_12: 0.0289 - dense_1_loss_13: 0.0277 - dense_1_loss_14: 0.0306 - dense_1_loss_15: 0.0328 - dense_1_loss_16: 0.0321 - dense_1_loss_17: 0.0293 - dense_1_loss_18: 0.0288 - dense_1_loss_19: 0.0298 - dense_1_loss_20: 0.0323 - dense_1_loss_21: 0.0320 - dense_1_loss_22: 0.0318 - dense_1_loss_23: 0.0324 - dense_1_loss_24: 0.0298 - dense_1_loss_25: 0.0323 - dense_1_loss_26: 0.0301 - dense_1_loss_27: 0.0312 - dense_1_loss_28: 0.0338 - dense_1_loss_29: 0.0352 - dense_1_loss_30: 0.0000e+00 - dense_1_acc_1: 0.0667 - dense_1_acc_2: 0.6167 - dense_1_acc_3: 0.9167 - dense_1_acc_4: 1.0000 - dense_1_acc_5: 1.0000 - dense_1_acc_6: 1.0000 - dense_1_acc_7: 1.0000 - dense_1_acc_8: 1.0000 - dense_1_acc_9: 1.0000 - dense_1_acc_10: 1.0000 - dense_1_acc_11: 1.0000 - dense_1_acc_12: 1.0000 - dense_1_acc_13: 1.0000 - dense_1_acc_14: 1.0000 - dense_1_acc_15: 1.0000 - dense_1_acc_16: 1.0000 - dense_1_acc_17: 1.0000 - dense_1_acc_18: 1.0000 - dense_1_acc_19: 1.0000 - dense_1_acc_20: 1.0000 - dense_1_acc_21: 1.0000 - dense_1_acc_22: 1.0000 - dense_1_acc_23: 1.0000 - dense_1_acc_24: 1.0000 - dense_1_acc_25: 1.0000 - dense_1_acc_26: 1.0000 - dense_1_acc_27: 1.0000 - dense_1_acc_28: 1.0000 - dense_1_acc_29: 1.0000 - dense_1_acc_30: 0.0000e+00     \n",
      "Epoch 87/100\n",
      "60/60 [==============================] - 0s - loss: 6.4571 - dense_1_loss_1: 3.7858 - dense_1_loss_2: 1.2936 - dense_1_loss_3: 0.4144 - dense_1_loss_4: 0.1052 - dense_1_loss_5: 0.0781 - dense_1_loss_6: 0.0553 - dense_1_loss_7: 0.0416 - dense_1_loss_8: 0.0394 - dense_1_loss_9: 0.0348 - dense_1_loss_10: 0.0305 - dense_1_loss_11: 0.0319 - dense_1_loss_12: 0.0282 - dense_1_loss_13: 0.0269 - dense_1_loss_14: 0.0298 - dense_1_loss_15: 0.0321 - dense_1_loss_16: 0.0313 - dense_1_loss_17: 0.0286 - dense_1_loss_18: 0.0279 - dense_1_loss_19: 0.0290 - dense_1_loss_20: 0.0317 - dense_1_loss_21: 0.0312 - dense_1_loss_22: 0.0310 - dense_1_loss_23: 0.0314 - dense_1_loss_24: 0.0290 - dense_1_loss_25: 0.0315 - dense_1_loss_26: 0.0294 - dense_1_loss_27: 0.0304 - dense_1_loss_28: 0.0329 - dense_1_loss_29: 0.0342 - dense_1_loss_30: 0.0000e+00 - dense_1_acc_1: 0.0667 - dense_1_acc_2: 0.6333 - dense_1_acc_3: 0.9167 - dense_1_acc_4: 1.0000 - dense_1_acc_5: 1.0000 - dense_1_acc_6: 1.0000 - dense_1_acc_7: 1.0000 - dense_1_acc_8: 1.0000 - dense_1_acc_9: 1.0000 - dense_1_acc_10: 1.0000 - dense_1_acc_11: 1.0000 - dense_1_acc_12: 1.0000 - dense_1_acc_13: 1.0000 - dense_1_acc_14: 1.0000 - dense_1_acc_15: 1.0000 - dense_1_acc_16: 1.0000 - dense_1_acc_17: 1.0000 - dense_1_acc_18: 1.0000 - dense_1_acc_19: 1.0000 - dense_1_acc_20: 1.0000 - dense_1_acc_21: 1.0000 - dense_1_acc_22: 1.0000 - dense_1_acc_23: 1.0000 - dense_1_acc_24: 1.0000 - dense_1_acc_25: 1.0000 - dense_1_acc_26: 1.0000 - dense_1_acc_27: 1.0000 - dense_1_acc_28: 1.0000 - dense_1_acc_29: 1.0000 - dense_1_acc_30: 0.0000e+00     \n",
      "Epoch 88/100\n",
      "60/60 [==============================] - 0s - loss: 6.4097 - dense_1_loss_1: 3.7827 - dense_1_loss_2: 1.2815 - dense_1_loss_3: 0.4060 - dense_1_loss_4: 0.1029 - dense_1_loss_5: 0.0761 - dense_1_loss_6: 0.0540 - dense_1_loss_7: 0.0405 - dense_1_loss_8: 0.0384 - dense_1_loss_9: 0.0339 - dense_1_loss_10: 0.0297 - dense_1_loss_11: 0.0312 - dense_1_loss_12: 0.0276 - dense_1_loss_13: 0.0263 - dense_1_loss_14: 0.0290 - dense_1_loss_15: 0.0313 - dense_1_loss_16: 0.0305 - dense_1_loss_17: 0.0280 - dense_1_loss_18: 0.0272 - dense_1_loss_19: 0.0282 - dense_1_loss_20: 0.0309 - dense_1_loss_21: 0.0303 - dense_1_loss_22: 0.0302 - dense_1_loss_23: 0.0306 - dense_1_loss_24: 0.0283 - dense_1_loss_25: 0.0307 - dense_1_loss_26: 0.0286 - dense_1_loss_27: 0.0297 - dense_1_loss_28: 0.0321 - dense_1_loss_29: 0.0334 - dense_1_loss_30: 0.0000e+00 - dense_1_acc_1: 0.0667 - dense_1_acc_2: 0.6500 - dense_1_acc_3: 0.9167 - dense_1_acc_4: 1.0000 - dense_1_acc_5: 1.0000 - dense_1_acc_6: 1.0000 - dense_1_acc_7: 1.0000 - dense_1_acc_8: 1.0000 - dense_1_acc_9: 1.0000 - dense_1_acc_10: 1.0000 - dense_1_acc_11: 1.0000 - dense_1_acc_12: 1.0000 - dense_1_acc_13: 1.0000 - dense_1_acc_14: 1.0000 - dense_1_acc_15: 1.0000 - dense_1_acc_16: 1.0000 - dense_1_acc_17: 1.0000 - dense_1_acc_18: 1.0000 - dense_1_acc_19: 1.0000 - dense_1_acc_20: 1.0000 - dense_1_acc_21: 1.0000 - dense_1_acc_22: 1.0000 - dense_1_acc_23: 1.0000 - dense_1_acc_24: 1.0000 - dense_1_acc_25: 1.0000 - dense_1_acc_26: 1.0000 - dense_1_acc_27: 1.0000 - dense_1_acc_28: 1.0000 - dense_1_acc_29: 1.0000 - dense_1_acc_30: 0.0000e+00     \n",
      "Epoch 89/100\n",
      "60/60 [==============================] - 0s - loss: 6.3640 - dense_1_loss_1: 3.7795 - dense_1_loss_2: 1.2699 - dense_1_loss_3: 0.3980 - dense_1_loss_4: 0.1004 - dense_1_loss_5: 0.0741 - dense_1_loss_6: 0.0526 - dense_1_loss_7: 0.0394 - dense_1_loss_8: 0.0372 - dense_1_loss_9: 0.0331 - dense_1_loss_10: 0.0290 - dense_1_loss_11: 0.0305 - dense_1_loss_12: 0.0269 - dense_1_loss_13: 0.0257 - dense_1_loss_14: 0.0282 - dense_1_loss_15: 0.0304 - dense_1_loss_16: 0.0298 - dense_1_loss_17: 0.0273 - dense_1_loss_18: 0.0267 - dense_1_loss_19: 0.0275 - dense_1_loss_20: 0.0300 - dense_1_loss_21: 0.0296 - dense_1_loss_22: 0.0294 - dense_1_loss_23: 0.0300 - dense_1_loss_24: 0.0276 - dense_1_loss_25: 0.0299 - dense_1_loss_26: 0.0280 - dense_1_loss_27: 0.0290 - dense_1_loss_28: 0.0316 - dense_1_loss_29: 0.0326 - dense_1_loss_30: 0.0000e+00 - dense_1_acc_1: 0.0667 - dense_1_acc_2: 0.6500 - dense_1_acc_3: 0.9167 - dense_1_acc_4: 1.0000 - dense_1_acc_5: 1.0000 - dense_1_acc_6: 1.0000 - dense_1_acc_7: 1.0000 - dense_1_acc_8: 1.0000 - dense_1_acc_9: 1.0000 - dense_1_acc_10: 1.0000 - dense_1_acc_11: 1.0000 - dense_1_acc_12: 1.0000 - dense_1_acc_13: 1.0000 - dense_1_acc_14: 1.0000 - dense_1_acc_15: 1.0000 - dense_1_acc_16: 1.0000 - dense_1_acc_17: 1.0000 - dense_1_acc_18: 1.0000 - dense_1_acc_19: 1.0000 - dense_1_acc_20: 1.0000 - dense_1_acc_21: 1.0000 - dense_1_acc_22: 1.0000 - dense_1_acc_23: 1.0000 - dense_1_acc_24: 1.0000 - dense_1_acc_25: 1.0000 - dense_1_acc_26: 1.0000 - dense_1_acc_27: 1.0000 - dense_1_acc_28: 1.0000 - dense_1_acc_29: 1.0000 - dense_1_acc_30: 0.0000e+00     \n",
      "Epoch 90/100\n",
      "60/60 [==============================] - 0s - loss: 6.3218 - dense_1_loss_1: 3.7766 - dense_1_loss_2: 1.2589 - dense_1_loss_3: 0.3908 - dense_1_loss_4: 0.0981 - dense_1_loss_5: 0.0726 - dense_1_loss_6: 0.0514 - dense_1_loss_7: 0.0385 - dense_1_loss_8: 0.0364 - dense_1_loss_9: 0.0324 - dense_1_loss_10: 0.0283 - dense_1_loss_11: 0.0298 - dense_1_loss_12: 0.0263 - dense_1_loss_13: 0.0251 - dense_1_loss_14: 0.0275 - dense_1_loss_15: 0.0297 - dense_1_loss_16: 0.0290 - dense_1_loss_17: 0.0268 - dense_1_loss_18: 0.0260 - dense_1_loss_19: 0.0269 - dense_1_loss_20: 0.0292 - dense_1_loss_21: 0.0289 - dense_1_loss_22: 0.0287 - dense_1_loss_23: 0.0293 - dense_1_loss_24: 0.0270 - dense_1_loss_25: 0.0290 - dense_1_loss_26: 0.0273 - dense_1_loss_27: 0.0284 - dense_1_loss_28: 0.0311 - dense_1_loss_29: 0.0318 - dense_1_loss_30: 0.0000e+00 - dense_1_acc_1: 0.0667 - dense_1_acc_2: 0.6500 - dense_1_acc_3: 0.9167 - dense_1_acc_4: 1.0000 - dense_1_acc_5: 1.0000 - dense_1_acc_6: 1.0000 - dense_1_acc_7: 1.0000 - dense_1_acc_8: 1.0000 - dense_1_acc_9: 1.0000 - dense_1_acc_10: 1.0000 - dense_1_acc_11: 1.0000 - dense_1_acc_12: 1.0000 - dense_1_acc_13: 1.0000 - dense_1_acc_14: 1.0000 - dense_1_acc_15: 1.0000 - dense_1_acc_16: 1.0000 - dense_1_acc_17: 1.0000 - dense_1_acc_18: 1.0000 - dense_1_acc_19: 1.0000 - dense_1_acc_20: 1.0000 - dense_1_acc_21: 1.0000 - dense_1_acc_22: 1.0000 - dense_1_acc_23: 1.0000 - dense_1_acc_24: 1.0000 - dense_1_acc_25: 1.0000 - dense_1_acc_26: 1.0000 - dense_1_acc_27: 1.0000 - dense_1_acc_28: 1.0000 - dense_1_acc_29: 1.0000 - dense_1_acc_30: 0.0000e+00     \n",
      "Epoch 91/100\n"
     ]
    },
    {
     "name": "stdout",
     "output_type": "stream",
     "text": [
      "60/60 [==============================] - 0s - loss: 6.2802 - dense_1_loss_1: 3.7737 - dense_1_loss_2: 1.2480 - dense_1_loss_3: 0.3838 - dense_1_loss_4: 0.0961 - dense_1_loss_5: 0.0710 - dense_1_loss_6: 0.0501 - dense_1_loss_7: 0.0377 - dense_1_loss_8: 0.0356 - dense_1_loss_9: 0.0315 - dense_1_loss_10: 0.0277 - dense_1_loss_11: 0.0291 - dense_1_loss_12: 0.0257 - dense_1_loss_13: 0.0245 - dense_1_loss_14: 0.0268 - dense_1_loss_15: 0.0290 - dense_1_loss_16: 0.0284 - dense_1_loss_17: 0.0262 - dense_1_loss_18: 0.0253 - dense_1_loss_19: 0.0262 - dense_1_loss_20: 0.0286 - dense_1_loss_21: 0.0282 - dense_1_loss_22: 0.0280 - dense_1_loss_23: 0.0286 - dense_1_loss_24: 0.0264 - dense_1_loss_25: 0.0284 - dense_1_loss_26: 0.0266 - dense_1_loss_27: 0.0278 - dense_1_loss_28: 0.0303 - dense_1_loss_29: 0.0310 - dense_1_loss_30: 0.0000e+00 - dense_1_acc_1: 0.0667 - dense_1_acc_2: 0.6500 - dense_1_acc_3: 0.9167 - dense_1_acc_4: 1.0000 - dense_1_acc_5: 1.0000 - dense_1_acc_6: 1.0000 - dense_1_acc_7: 1.0000 - dense_1_acc_8: 1.0000 - dense_1_acc_9: 1.0000 - dense_1_acc_10: 1.0000 - dense_1_acc_11: 1.0000 - dense_1_acc_12: 1.0000 - dense_1_acc_13: 1.0000 - dense_1_acc_14: 1.0000 - dense_1_acc_15: 1.0000 - dense_1_acc_16: 1.0000 - dense_1_acc_17: 1.0000 - dense_1_acc_18: 1.0000 - dense_1_acc_19: 1.0000 - dense_1_acc_20: 1.0000 - dense_1_acc_21: 1.0000 - dense_1_acc_22: 1.0000 - dense_1_acc_23: 1.0000 - dense_1_acc_24: 1.0000 - dense_1_acc_25: 1.0000 - dense_1_acc_26: 1.0000 - dense_1_acc_27: 1.0000 - dense_1_acc_28: 1.0000 - dense_1_acc_29: 1.0000 - dense_1_acc_30: 0.0000e+00     \n",
      "Epoch 92/100\n",
      "60/60 [==============================] - 0s - loss: 6.2390 - dense_1_loss_1: 3.7706 - dense_1_loss_2: 1.2371 - dense_1_loss_3: 0.3767 - dense_1_loss_4: 0.0941 - dense_1_loss_5: 0.0694 - dense_1_loss_6: 0.0490 - dense_1_loss_7: 0.0368 - dense_1_loss_8: 0.0348 - dense_1_loss_9: 0.0307 - dense_1_loss_10: 0.0271 - dense_1_loss_11: 0.0284 - dense_1_loss_12: 0.0251 - dense_1_loss_13: 0.0240 - dense_1_loss_14: 0.0262 - dense_1_loss_15: 0.0284 - dense_1_loss_16: 0.0278 - dense_1_loss_17: 0.0255 - dense_1_loss_18: 0.0247 - dense_1_loss_19: 0.0256 - dense_1_loss_20: 0.0280 - dense_1_loss_21: 0.0275 - dense_1_loss_22: 0.0274 - dense_1_loss_23: 0.0278 - dense_1_loss_24: 0.0257 - dense_1_loss_25: 0.0280 - dense_1_loss_26: 0.0259 - dense_1_loss_27: 0.0271 - dense_1_loss_28: 0.0292 - dense_1_loss_29: 0.0304 - dense_1_loss_30: 0.0000e+00 - dense_1_acc_1: 0.1000 - dense_1_acc_2: 0.6500 - dense_1_acc_3: 0.9167 - dense_1_acc_4: 1.0000 - dense_1_acc_5: 1.0000 - dense_1_acc_6: 1.0000 - dense_1_acc_7: 1.0000 - dense_1_acc_8: 1.0000 - dense_1_acc_9: 1.0000 - dense_1_acc_10: 1.0000 - dense_1_acc_11: 1.0000 - dense_1_acc_12: 1.0000 - dense_1_acc_13: 1.0000 - dense_1_acc_14: 1.0000 - dense_1_acc_15: 1.0000 - dense_1_acc_16: 1.0000 - dense_1_acc_17: 1.0000 - dense_1_acc_18: 1.0000 - dense_1_acc_19: 1.0000 - dense_1_acc_20: 1.0000 - dense_1_acc_21: 1.0000 - dense_1_acc_22: 1.0000 - dense_1_acc_23: 1.0000 - dense_1_acc_24: 1.0000 - dense_1_acc_25: 1.0000 - dense_1_acc_26: 1.0000 - dense_1_acc_27: 1.0000 - dense_1_acc_28: 1.0000 - dense_1_acc_29: 1.0000 - dense_1_acc_30: 0.0000e+00     \n",
      "Epoch 93/100\n",
      "60/60 [==============================] - 0s - loss: 6.2007 - dense_1_loss_1: 3.7676 - dense_1_loss_2: 1.2269 - dense_1_loss_3: 0.3704 - dense_1_loss_4: 0.0923 - dense_1_loss_5: 0.0679 - dense_1_loss_6: 0.0479 - dense_1_loss_7: 0.0360 - dense_1_loss_8: 0.0341 - dense_1_loss_9: 0.0300 - dense_1_loss_10: 0.0265 - dense_1_loss_11: 0.0278 - dense_1_loss_12: 0.0246 - dense_1_loss_13: 0.0234 - dense_1_loss_14: 0.0256 - dense_1_loss_15: 0.0277 - dense_1_loss_16: 0.0272 - dense_1_loss_17: 0.0250 - dense_1_loss_18: 0.0241 - dense_1_loss_19: 0.0250 - dense_1_loss_20: 0.0274 - dense_1_loss_21: 0.0269 - dense_1_loss_22: 0.0268 - dense_1_loss_23: 0.0272 - dense_1_loss_24: 0.0251 - dense_1_loss_25: 0.0273 - dense_1_loss_26: 0.0254 - dense_1_loss_27: 0.0265 - dense_1_loss_28: 0.0286 - dense_1_loss_29: 0.0297 - dense_1_loss_30: 0.0000e+00 - dense_1_acc_1: 0.1000 - dense_1_acc_2: 0.6500 - dense_1_acc_3: 0.9167 - dense_1_acc_4: 1.0000 - dense_1_acc_5: 1.0000 - dense_1_acc_6: 1.0000 - dense_1_acc_7: 1.0000 - dense_1_acc_8: 1.0000 - dense_1_acc_9: 1.0000 - dense_1_acc_10: 1.0000 - dense_1_acc_11: 1.0000 - dense_1_acc_12: 1.0000 - dense_1_acc_13: 1.0000 - dense_1_acc_14: 1.0000 - dense_1_acc_15: 1.0000 - dense_1_acc_16: 1.0000 - dense_1_acc_17: 1.0000 - dense_1_acc_18: 1.0000 - dense_1_acc_19: 1.0000 - dense_1_acc_20: 1.0000 - dense_1_acc_21: 1.0000 - dense_1_acc_22: 1.0000 - dense_1_acc_23: 1.0000 - dense_1_acc_24: 1.0000 - dense_1_acc_25: 1.0000 - dense_1_acc_26: 1.0000 - dense_1_acc_27: 1.0000 - dense_1_acc_28: 1.0000 - dense_1_acc_29: 1.0000 - dense_1_acc_30: 0.0000e+00     \n",
      "Epoch 94/100\n",
      "60/60 [==============================] - 0s - loss: 6.1628 - dense_1_loss_1: 3.7650 - dense_1_loss_2: 1.2165 - dense_1_loss_3: 0.3633 - dense_1_loss_4: 0.0905 - dense_1_loss_5: 0.0664 - dense_1_loss_6: 0.0469 - dense_1_loss_7: 0.0352 - dense_1_loss_8: 0.0333 - dense_1_loss_9: 0.0293 - dense_1_loss_10: 0.0260 - dense_1_loss_11: 0.0272 - dense_1_loss_12: 0.0241 - dense_1_loss_13: 0.0229 - dense_1_loss_14: 0.0250 - dense_1_loss_15: 0.0271 - dense_1_loss_16: 0.0266 - dense_1_loss_17: 0.0244 - dense_1_loss_18: 0.0236 - dense_1_loss_19: 0.0245 - dense_1_loss_20: 0.0267 - dense_1_loss_21: 0.0263 - dense_1_loss_22: 0.0262 - dense_1_loss_23: 0.0267 - dense_1_loss_24: 0.0247 - dense_1_loss_25: 0.0265 - dense_1_loss_26: 0.0248 - dense_1_loss_27: 0.0260 - dense_1_loss_28: 0.0282 - dense_1_loss_29: 0.0291 - dense_1_loss_30: 0.0000e+00 - dense_1_acc_1: 0.1000 - dense_1_acc_2: 0.6500 - dense_1_acc_3: 0.9167 - dense_1_acc_4: 1.0000 - dense_1_acc_5: 1.0000 - dense_1_acc_6: 1.0000 - dense_1_acc_7: 1.0000 - dense_1_acc_8: 1.0000 - dense_1_acc_9: 1.0000 - dense_1_acc_10: 1.0000 - dense_1_acc_11: 1.0000 - dense_1_acc_12: 1.0000 - dense_1_acc_13: 1.0000 - dense_1_acc_14: 1.0000 - dense_1_acc_15: 1.0000 - dense_1_acc_16: 1.0000 - dense_1_acc_17: 1.0000 - dense_1_acc_18: 1.0000 - dense_1_acc_19: 1.0000 - dense_1_acc_20: 1.0000 - dense_1_acc_21: 1.0000 - dense_1_acc_22: 1.0000 - dense_1_acc_23: 1.0000 - dense_1_acc_24: 1.0000 - dense_1_acc_25: 1.0000 - dense_1_acc_26: 1.0000 - dense_1_acc_27: 1.0000 - dense_1_acc_28: 1.0000 - dense_1_acc_29: 1.0000 - dense_1_acc_30: 0.0000e+00     \n",
      "Epoch 95/100\n",
      "60/60 [==============================] - 0s - loss: 6.1259 - dense_1_loss_1: 3.7619 - dense_1_loss_2: 1.2067 - dense_1_loss_3: 0.3565 - dense_1_loss_4: 0.0888 - dense_1_loss_5: 0.0649 - dense_1_loss_6: 0.0457 - dense_1_loss_7: 0.0345 - dense_1_loss_8: 0.0325 - dense_1_loss_9: 0.0287 - dense_1_loss_10: 0.0255 - dense_1_loss_11: 0.0266 - dense_1_loss_12: 0.0236 - dense_1_loss_13: 0.0224 - dense_1_loss_14: 0.0244 - dense_1_loss_15: 0.0265 - dense_1_loss_16: 0.0260 - dense_1_loss_17: 0.0239 - dense_1_loss_18: 0.0232 - dense_1_loss_19: 0.0240 - dense_1_loss_20: 0.0260 - dense_1_loss_21: 0.0257 - dense_1_loss_22: 0.0256 - dense_1_loss_23: 0.0263 - dense_1_loss_24: 0.0242 - dense_1_loss_25: 0.0259 - dense_1_loss_26: 0.0243 - dense_1_loss_27: 0.0255 - dense_1_loss_28: 0.0278 - dense_1_loss_29: 0.0285 - dense_1_loss_30: 0.0000e+00 - dense_1_acc_1: 0.1000 - dense_1_acc_2: 0.6500 - dense_1_acc_3: 0.9167 - dense_1_acc_4: 1.0000 - dense_1_acc_5: 1.0000 - dense_1_acc_6: 1.0000 - dense_1_acc_7: 1.0000 - dense_1_acc_8: 1.0000 - dense_1_acc_9: 1.0000 - dense_1_acc_10: 1.0000 - dense_1_acc_11: 1.0000 - dense_1_acc_12: 1.0000 - dense_1_acc_13: 1.0000 - dense_1_acc_14: 1.0000 - dense_1_acc_15: 1.0000 - dense_1_acc_16: 1.0000 - dense_1_acc_17: 1.0000 - dense_1_acc_18: 1.0000 - dense_1_acc_19: 1.0000 - dense_1_acc_20: 1.0000 - dense_1_acc_21: 1.0000 - dense_1_acc_22: 1.0000 - dense_1_acc_23: 1.0000 - dense_1_acc_24: 1.0000 - dense_1_acc_25: 1.0000 - dense_1_acc_26: 1.0000 - dense_1_acc_27: 1.0000 - dense_1_acc_28: 1.0000 - dense_1_acc_29: 1.0000 - dense_1_acc_30: 0.0000e+00     \n",
      "Epoch 96/100\n"
     ]
    },
    {
     "name": "stdout",
     "output_type": "stream",
     "text": [
      "60/60 [==============================] - 0s - loss: 6.0904 - dense_1_loss_1: 3.7590 - dense_1_loss_2: 1.1966 - dense_1_loss_3: 0.3504 - dense_1_loss_4: 0.0872 - dense_1_loss_5: 0.0637 - dense_1_loss_6: 0.0449 - dense_1_loss_7: 0.0337 - dense_1_loss_8: 0.0319 - dense_1_loss_9: 0.0282 - dense_1_loss_10: 0.0249 - dense_1_loss_11: 0.0260 - dense_1_loss_12: 0.0231 - dense_1_loss_13: 0.0219 - dense_1_loss_14: 0.0239 - dense_1_loss_15: 0.0258 - dense_1_loss_16: 0.0255 - dense_1_loss_17: 0.0235 - dense_1_loss_18: 0.0227 - dense_1_loss_19: 0.0235 - dense_1_loss_20: 0.0253 - dense_1_loss_21: 0.0251 - dense_1_loss_22: 0.0251 - dense_1_loss_23: 0.0258 - dense_1_loss_24: 0.0237 - dense_1_loss_25: 0.0253 - dense_1_loss_26: 0.0238 - dense_1_loss_27: 0.0250 - dense_1_loss_28: 0.0270 - dense_1_loss_29: 0.0279 - dense_1_loss_30: 0.0000e+00 - dense_1_acc_1: 0.1000 - dense_1_acc_2: 0.6500 - dense_1_acc_3: 0.9167 - dense_1_acc_4: 1.0000 - dense_1_acc_5: 1.0000 - dense_1_acc_6: 1.0000 - dense_1_acc_7: 1.0000 - dense_1_acc_8: 1.0000 - dense_1_acc_9: 1.0000 - dense_1_acc_10: 1.0000 - dense_1_acc_11: 1.0000 - dense_1_acc_12: 1.0000 - dense_1_acc_13: 1.0000 - dense_1_acc_14: 1.0000 - dense_1_acc_15: 1.0000 - dense_1_acc_16: 1.0000 - dense_1_acc_17: 1.0000 - dense_1_acc_18: 1.0000 - dense_1_acc_19: 1.0000 - dense_1_acc_20: 1.0000 - dense_1_acc_21: 1.0000 - dense_1_acc_22: 1.0000 - dense_1_acc_23: 1.0000 - dense_1_acc_24: 1.0000 - dense_1_acc_25: 1.0000 - dense_1_acc_26: 1.0000 - dense_1_acc_27: 1.0000 - dense_1_acc_28: 1.0000 - dense_1_acc_29: 1.0000 - dense_1_acc_30: 0.0000e+00     \n",
      "Epoch 97/100\n",
      "60/60 [==============================] - 0s - loss: 6.0549 - dense_1_loss_1: 3.7562 - dense_1_loss_2: 1.1866 - dense_1_loss_3: 0.3443 - dense_1_loss_4: 0.0855 - dense_1_loss_5: 0.0621 - dense_1_loss_6: 0.0440 - dense_1_loss_7: 0.0330 - dense_1_loss_8: 0.0311 - dense_1_loss_9: 0.0276 - dense_1_loss_10: 0.0244 - dense_1_loss_11: 0.0254 - dense_1_loss_12: 0.0227 - dense_1_loss_13: 0.0214 - dense_1_loss_14: 0.0234 - dense_1_loss_15: 0.0253 - dense_1_loss_16: 0.0250 - dense_1_loss_17: 0.0230 - dense_1_loss_18: 0.0223 - dense_1_loss_19: 0.0229 - dense_1_loss_20: 0.0248 - dense_1_loss_21: 0.0246 - dense_1_loss_22: 0.0246 - dense_1_loss_23: 0.0252 - dense_1_loss_24: 0.0232 - dense_1_loss_25: 0.0247 - dense_1_loss_26: 0.0233 - dense_1_loss_27: 0.0244 - dense_1_loss_28: 0.0265 - dense_1_loss_29: 0.0273 - dense_1_loss_30: 0.0000e+00 - dense_1_acc_1: 0.1000 - dense_1_acc_2: 0.6667 - dense_1_acc_3: 0.9167 - dense_1_acc_4: 1.0000 - dense_1_acc_5: 1.0000 - dense_1_acc_6: 1.0000 - dense_1_acc_7: 1.0000 - dense_1_acc_8: 1.0000 - dense_1_acc_9: 1.0000 - dense_1_acc_10: 1.0000 - dense_1_acc_11: 1.0000 - dense_1_acc_12: 1.0000 - dense_1_acc_13: 1.0000 - dense_1_acc_14: 1.0000 - dense_1_acc_15: 1.0000 - dense_1_acc_16: 1.0000 - dense_1_acc_17: 1.0000 - dense_1_acc_18: 1.0000 - dense_1_acc_19: 1.0000 - dense_1_acc_20: 1.0000 - dense_1_acc_21: 1.0000 - dense_1_acc_22: 1.0000 - dense_1_acc_23: 1.0000 - dense_1_acc_24: 1.0000 - dense_1_acc_25: 1.0000 - dense_1_acc_26: 1.0000 - dense_1_acc_27: 1.0000 - dense_1_acc_28: 1.0000 - dense_1_acc_29: 1.0000 - dense_1_acc_30: 0.0000e+00     \n",
      "Epoch 98/100\n",
      "60/60 [==============================] - 0s - loss: 6.0231 - dense_1_loss_1: 3.7533 - dense_1_loss_2: 1.1780 - dense_1_loss_3: 0.3390 - dense_1_loss_4: 0.0840 - dense_1_loss_5: 0.0609 - dense_1_loss_6: 0.0433 - dense_1_loss_7: 0.0324 - dense_1_loss_8: 0.0305 - dense_1_loss_9: 0.0271 - dense_1_loss_10: 0.0240 - dense_1_loss_11: 0.0249 - dense_1_loss_12: 0.0222 - dense_1_loss_13: 0.0210 - dense_1_loss_14: 0.0230 - dense_1_loss_15: 0.0247 - dense_1_loss_16: 0.0245 - dense_1_loss_17: 0.0225 - dense_1_loss_18: 0.0218 - dense_1_loss_19: 0.0225 - dense_1_loss_20: 0.0245 - dense_1_loss_21: 0.0241 - dense_1_loss_22: 0.0241 - dense_1_loss_23: 0.0245 - dense_1_loss_24: 0.0227 - dense_1_loss_25: 0.0243 - dense_1_loss_26: 0.0228 - dense_1_loss_27: 0.0239 - dense_1_loss_28: 0.0259 - dense_1_loss_29: 0.0267 - dense_1_loss_30: 0.0000e+00 - dense_1_acc_1: 0.1000 - dense_1_acc_2: 0.6667 - dense_1_acc_3: 0.9167 - dense_1_acc_4: 1.0000 - dense_1_acc_5: 1.0000 - dense_1_acc_6: 1.0000 - dense_1_acc_7: 1.0000 - dense_1_acc_8: 1.0000 - dense_1_acc_9: 1.0000 - dense_1_acc_10: 1.0000 - dense_1_acc_11: 1.0000 - dense_1_acc_12: 1.0000 - dense_1_acc_13: 1.0000 - dense_1_acc_14: 1.0000 - dense_1_acc_15: 1.0000 - dense_1_acc_16: 1.0000 - dense_1_acc_17: 1.0000 - dense_1_acc_18: 1.0000 - dense_1_acc_19: 1.0000 - dense_1_acc_20: 1.0000 - dense_1_acc_21: 1.0000 - dense_1_acc_22: 1.0000 - dense_1_acc_23: 1.0000 - dense_1_acc_24: 1.0000 - dense_1_acc_25: 1.0000 - dense_1_acc_26: 1.0000 - dense_1_acc_27: 1.0000 - dense_1_acc_28: 1.0000 - dense_1_acc_29: 1.0000 - dense_1_acc_30: 0.0000e+00     \n",
      "Epoch 99/100\n",
      "60/60 [==============================] - 0s - loss: 5.9906 - dense_1_loss_1: 3.7504 - dense_1_loss_2: 1.1686 - dense_1_loss_3: 0.3336 - dense_1_loss_4: 0.0826 - dense_1_loss_5: 0.0598 - dense_1_loss_6: 0.0425 - dense_1_loss_7: 0.0317 - dense_1_loss_8: 0.0299 - dense_1_loss_9: 0.0265 - dense_1_loss_10: 0.0235 - dense_1_loss_11: 0.0244 - dense_1_loss_12: 0.0218 - dense_1_loss_13: 0.0206 - dense_1_loss_14: 0.0225 - dense_1_loss_15: 0.0242 - dense_1_loss_16: 0.0241 - dense_1_loss_17: 0.0221 - dense_1_loss_18: 0.0213 - dense_1_loss_19: 0.0220 - dense_1_loss_20: 0.0241 - dense_1_loss_21: 0.0236 - dense_1_loss_22: 0.0236 - dense_1_loss_23: 0.0240 - dense_1_loss_24: 0.0223 - dense_1_loss_25: 0.0239 - dense_1_loss_26: 0.0223 - dense_1_loss_27: 0.0233 - dense_1_loss_28: 0.0254 - dense_1_loss_29: 0.0262 - dense_1_loss_30: 0.0000e+00 - dense_1_acc_1: 0.1000 - dense_1_acc_2: 0.6667 - dense_1_acc_3: 0.9167 - dense_1_acc_4: 1.0000 - dense_1_acc_5: 1.0000 - dense_1_acc_6: 1.0000 - dense_1_acc_7: 1.0000 - dense_1_acc_8: 1.0000 - dense_1_acc_9: 1.0000 - dense_1_acc_10: 1.0000 - dense_1_acc_11: 1.0000 - dense_1_acc_12: 1.0000 - dense_1_acc_13: 1.0000 - dense_1_acc_14: 1.0000 - dense_1_acc_15: 1.0000 - dense_1_acc_16: 1.0000 - dense_1_acc_17: 1.0000 - dense_1_acc_18: 1.0000 - dense_1_acc_19: 1.0000 - dense_1_acc_20: 1.0000 - dense_1_acc_21: 1.0000 - dense_1_acc_22: 1.0000 - dense_1_acc_23: 1.0000 - dense_1_acc_24: 1.0000 - dense_1_acc_25: 1.0000 - dense_1_acc_26: 1.0000 - dense_1_acc_27: 1.0000 - dense_1_acc_28: 1.0000 - dense_1_acc_29: 1.0000 - dense_1_acc_30: 0.0000e+00     \n",
      "Epoch 100/100\n",
      "60/60 [==============================] - 0s - loss: 5.9590 - dense_1_loss_1: 3.7477 - dense_1_loss_2: 1.1595 - dense_1_loss_3: 0.3279 - dense_1_loss_4: 0.0813 - dense_1_loss_5: 0.0587 - dense_1_loss_6: 0.0416 - dense_1_loss_7: 0.0311 - dense_1_loss_8: 0.0293 - dense_1_loss_9: 0.0259 - dense_1_loss_10: 0.0230 - dense_1_loss_11: 0.0239 - dense_1_loss_12: 0.0213 - dense_1_loss_13: 0.0202 - dense_1_loss_14: 0.0221 - dense_1_loss_15: 0.0237 - dense_1_loss_16: 0.0236 - dense_1_loss_17: 0.0217 - dense_1_loss_18: 0.0209 - dense_1_loss_19: 0.0215 - dense_1_loss_20: 0.0236 - dense_1_loss_21: 0.0231 - dense_1_loss_22: 0.0231 - dense_1_loss_23: 0.0235 - dense_1_loss_24: 0.0219 - dense_1_loss_25: 0.0235 - dense_1_loss_26: 0.0219 - dense_1_loss_27: 0.0229 - dense_1_loss_28: 0.0248 - dense_1_loss_29: 0.0257 - dense_1_loss_30: 0.0000e+00 - dense_1_acc_1: 0.1000 - dense_1_acc_2: 0.6667 - dense_1_acc_3: 0.9333 - dense_1_acc_4: 1.0000 - dense_1_acc_5: 1.0000 - dense_1_acc_6: 1.0000 - dense_1_acc_7: 1.0000 - dense_1_acc_8: 1.0000 - dense_1_acc_9: 1.0000 - dense_1_acc_10: 1.0000 - dense_1_acc_11: 1.0000 - dense_1_acc_12: 1.0000 - dense_1_acc_13: 1.0000 - dense_1_acc_14: 1.0000 - dense_1_acc_15: 1.0000 - dense_1_acc_16: 1.0000 - dense_1_acc_17: 1.0000 - dense_1_acc_18: 1.0000 - dense_1_acc_19: 1.0000 - dense_1_acc_20: 1.0000 - dense_1_acc_21: 1.0000 - dense_1_acc_22: 1.0000 - dense_1_acc_23: 1.0000 - dense_1_acc_24: 1.0000 - dense_1_acc_25: 1.0000 - dense_1_acc_26: 1.0000 - dense_1_acc_27: 1.0000 - dense_1_acc_28: 1.0000 - dense_1_acc_29: 1.0000 - dense_1_acc_30: 0.0000e+00     \n"
     ]
    },
    {
     "data": {
      "text/plain": [
       "<keras.callbacks.History at 0x7f0ed187bf98>"
      ]
     },
     "execution_count": 19,
     "metadata": {},
     "output_type": "execute_result"
    }
   ],
   "source": [
    "model.fit([X, a0, c0], list(Y), epochs=100)"
   ]
  },
  {
   "cell_type": "markdown",
   "metadata": {},
   "source": [
    "You should see the model loss going down. Now that you have trained a model, lets go on the the final section to implement an inference algorithm, and generate some music! "
   ]
  },
  {
   "cell_type": "markdown",
   "metadata": {},
   "source": [
    "## 3 - Generating music\n",
    "\n",
    "You now have a trained model which has learned the patterns of the jazz soloist. Lets now use this model to synthesize new music. \n",
    "\n",
    "#### 3.1 - Predicting & Sampling\n",
    "\n",
    "<img src=\"images/music_gen.png\" style=\"width:600;height:400px;\">\n",
    "\n",
    "At each step of sampling, you will take as input the activation `a` and cell state `c` from the previous state of the LSTM, forward propagate by one step, and get a new output activation as well as cell state. The new activation `a` can then be used to generate the output, using `densor` as before. \n",
    "\n",
    "To start off the model, we will initialize `x0` as well as the LSTM activation and and cell value `a0` and `c0` to be zeros. \n",
    "\n",
    "\n",
    "<!-- \n",
    "You are about to build a function that will do this inference for you. Your function takes in your previous model and the number of time steps `Ty` that you want to sample. It will return a keras model that would be able to generate sequences for you. Furthermore, the function takes in a dense layer of `78` units and the number of activations. \n",
    "!--> \n",
    "\n",
    "\n",
    "**Exercise:** Implement the function below to sample a sequence of musical values. Here are some of the key steps you'll need to implement inside the for-loop that generates the $T_y$ output characters: \n",
    "\n",
    "Step 2.A: Use `LSTM_Cell`, which inputs the previous step's `c` and `a` to generate the current step's `c` and `a`. \n",
    "\n",
    "Step 2.B: Use `densor` (defined previously) to compute a softmax on `a` to get the output for the current step. \n",
    "\n",
    "Step 2.C: Save the output you have just generated by appending it to `outputs`.\n",
    "\n",
    "Step 2.D: Sample x to the be \"out\"'s one-hot version (the prediction) so that you can pass it to the next LSTM's step.  We have already provided this line of code, which uses a [Lambda](https://keras.io/layers/core/#lambda) function. \n",
    "```python\n",
    "x = Lambda(one_hot)(out) \n",
    "```\n",
    "[Minor technical note: Rather than sampling a value at random according to the probabilities in `out`, this line of code actually chooses the single most likely note at each step using an argmax.]\n"
   ]
  },
  {
   "cell_type": "code",
   "execution_count": 28,
   "metadata": {
    "collapsed": true
   },
   "outputs": [],
   "source": [
    "# GRADED FUNCTION: music_inference_model\n",
    "\n",
    "def music_inference_model(LSTM_cell, densor, n_values = 78, n_a = 64, Ty = 100):\n",
    "    \"\"\"\n",
    "    Uses the trained \"LSTM_cell\" and \"densor\" from model() to generate a sequence of values.\n",
    "    \n",
    "    Arguments:\n",
    "    LSTM_cell -- the trained \"LSTM_cell\" from model(), Keras layer object\n",
    "    densor -- the trained \"densor\" from model(), Keras layer object\n",
    "    n_values -- integer, umber of unique values\n",
    "    n_a -- number of units in the LSTM_cell\n",
    "    Ty -- integer, number of time steps to generate\n",
    "    \n",
    "    Returns:\n",
    "    inference_model -- Keras model instance\n",
    "    \"\"\"\n",
    "    \n",
    "    # Define the input of your model with a shape \n",
    "    x0 = Input(shape=(1, n_values))\n",
    "    \n",
    "    # Define s0, initial hidden state for the decoder LSTM\n",
    "    a0 = Input(shape=(n_a,), name='a0')\n",
    "    c0 = Input(shape=(n_a,), name='c0')\n",
    "    a = a0\n",
    "    c = c0\n",
    "    x = x0\n",
    "\n",
    "    ### START CODE HERE ###\n",
    "    # Step 1: Create an empty list of \"outputs\" to later store your predicted values (≈1 line)\n",
    "    outputs = []\n",
    "    \n",
    "    # Step 2: Loop over Ty and generate a value at every time step\n",
    "    for t in range(Ty):\n",
    "        \n",
    "        # Step 2.A: Perform one step of LSTM_cell (≈1 line)\n",
    "        a, _, c = LSTM_cell(x, initial_state=[a, c])\n",
    "        \n",
    "        # Step 2.B: Apply Dense layer to the hidden state output of the LSTM_cell (≈1 line)\n",
    "        out = densor(a)\n",
    "\n",
    "        # Step 2.C: Append the prediction \"out\" to \"outputs\". out.shape = (None, 78) (≈1 line)\n",
    "        outputs.append(out)\n",
    "        \n",
    "        # Step 2.D: Select the next value according to \"out\", and set \"x\" to be the one-hot representation of the\n",
    "        #           selected value, which will be passed as the input to LSTM_cell on the next step. We have provided \n",
    "        #           the line of code you need to do this. \n",
    "        x = Lambda(one_hot)(out)\n",
    "        \n",
    "    # Step 3: Create model instance with the correct \"inputs\" and \"outputs\" (≈1 line)\n",
    "    inference_model = Model(inputs=[x0, a0, c0], outputs=outputs)\n",
    "    \n",
    "    ### END CODE HERE ###\n",
    "    \n",
    "    return inference_model"
   ]
  },
  {
   "cell_type": "markdown",
   "metadata": {},
   "source": [
    "Run the cell below to define your inference model. This model is hard coded to generate 50 values."
   ]
  },
  {
   "cell_type": "code",
   "execution_count": 29,
   "metadata": {},
   "outputs": [],
   "source": [
    "inference_model = music_inference_model(LSTM_cell, densor, n_values = 78, n_a = 64, Ty = 50)"
   ]
  },
  {
   "cell_type": "markdown",
   "metadata": {},
   "source": [
    "Finally, this creates the zero-valued vectors you will use to initialize `x` and the LSTM state variables `a` and `c`. "
   ]
  },
  {
   "cell_type": "code",
   "execution_count": 30,
   "metadata": {
    "collapsed": true
   },
   "outputs": [],
   "source": [
    "x_initializer = np.zeros((1, 1, 78))\n",
    "a_initializer = np.zeros((1, n_a))\n",
    "c_initializer = np.zeros((1, n_a))"
   ]
  },
  {
   "cell_type": "markdown",
   "metadata": {},
   "source": [
    "**Exercise**: Implement `predict_and_sample()`. This function takes many arguments including the inputs [x_initializer, a_initializer, c_initializer]. In order to predict the output corresponding to this input, you will need to carry-out 3 steps:\n",
    "1. Use your inference model to predict an output given your set of inputs. The output `pred` should be a list of length $T_y$ where each element is a numpy-array of shape (1, n_values).\n",
    "2. Convert `pred` into a numpy array of $T_y$ indices. Each index corresponds is computed by taking the `argmax` of an element of the `pred` list. [Hint](https://docs.scipy.org/doc/numpy/reference/generated/numpy.argmax.html).\n",
    "3. Convert the indices into their one-hot vector representations. [Hint](https://keras.io/utils/#to_categorical)."
   ]
  },
  {
   "cell_type": "code",
   "execution_count": 102,
   "metadata": {
    "collapsed": true
   },
   "outputs": [],
   "source": [
    "# GRADED FUNCTION: predict_and_sample\n",
    "\n",
    "def predict_and_sample(inference_model, x_initializer = x_initializer, a_initializer = a_initializer, \n",
    "                       c_initializer = c_initializer):\n",
    "    \"\"\"\n",
    "    Predicts the next value of values using the inference model.\n",
    "    \n",
    "    Arguments:\n",
    "    inference_model -- Keras model instance for inference time\n",
    "    x_initializer -- numpy array of shape (1, 1, 78), one-hot vector initializing the values generation\n",
    "    a_initializer -- numpy array of shape (1, n_a), initializing the hidden state of the LSTM_cell\n",
    "    c_initializer -- numpy array of shape (1, n_a), initializing the cell state of the LSTM_cel\n",
    "    \n",
    "    Returns:\n",
    "    results -- numpy-array of shape (Ty, 78), matrix of one-hot vectors representing the values generated\n",
    "    indices -- numpy-array of shape (Ty, 1), matrix of indices representing the values generated\n",
    "    \"\"\"\n",
    "    \n",
    "    ### START CODE HERE ###\n",
    "    # Step 1: Use your inference model to predict an output sequence given x_initializer, a_initializer and c_initializer.\n",
    "    pred = inference_model.predict([x_initializer, a_initializer, c_initializer])\n",
    "    print(pred[0].shape)\n",
    "    # Step 2: Convert \"pred\" into an np.array() of indices with the maximum probabilities\n",
    "    indices = np.argmax(pred, axis = -1)\n",
    "    # Step 3: Convert indices to one-hot vectors, the shape of the results should be (Ty, n_values)\n",
    "    results = to_categorical(indices)\n",
    "    ### END CODE HERE ###\n",
    "    \n",
    "    return results, indices"
   ]
  },
  {
   "cell_type": "code",
   "execution_count": 103,
   "metadata": {},
   "outputs": [
    {
     "name": "stdout",
     "output_type": "stream",
     "text": [
      "(1, 78)\n",
      "np.argmax(results[12]) = 63\n",
      "np.argmax(results[17]) = 13\n",
      "list(indices[12:18]) = [array([63]), array([56]), array([63]), array([35]), array([37]), array([13])]\n"
     ]
    }
   ],
   "source": [
    "results, indices = predict_and_sample(inference_model, x_initializer, a_initializer, c_initializer)\n",
    "print(\"np.argmax(results[12]) =\", np.argmax(results[12]))\n",
    "print(\"np.argmax(results[17]) =\", np.argmax(results[17]))\n",
    "print(\"list(indices[12:18]) =\", list(indices[12:18]))"
   ]
  },
  {
   "cell_type": "markdown",
   "metadata": {},
   "source": [
    "**Expected Output**: Your results may differ because Keras' results are not completely predictable. However, if you have trained your LSTM_cell with model.fit() for exactly 100 epochs as described above, you should very likely observe a sequence of indices that are not all identical. Moreover, you should observe that: np.argmax(results[12]) is the first element of list(indices[12:18]) and np.argmax(results[17]) is the last element of list(indices[12:18]). \n",
    "\n",
    "<table>\n",
    "    <tr>\n",
    "        <td>\n",
    "            **np.argmax(results[12])** =\n",
    "        </td>\n",
    "        <td>\n",
    "        1\n",
    "        </td>\n",
    "    </tr>\n",
    "    <tr>\n",
    "        <td>\n",
    "            **np.argmax(results[17])** =\n",
    "        </td>\n",
    "        <td>\n",
    "        42\n",
    "        </td>\n",
    "    </tr>\n",
    "    <tr>\n",
    "        <td>\n",
    "            **list(indices[12:18])** =\n",
    "        </td>\n",
    "        <td>\n",
    "            [array([1]), array([42]), array([54]), array([17]), array([1]), array([42])]\n",
    "        </td>\n",
    "    </tr>\n",
    "</table>"
   ]
  },
  {
   "cell_type": "markdown",
   "metadata": {},
   "source": [
    "#### 3.3 - Generate music \n",
    "\n",
    "Finally, you are ready to generate music. Your RNN generates a sequence of values. The following code generates music by first calling your `predict_and_sample()` function. These values are then post-processed into musical chords (meaning that multiple values or notes can be played at the same time). \n",
    "\n",
    "Most computational music algorithms use some post-processing because it is difficult to generate music that sounds good without such post-processing. The post-processing does things such as clean up the generated audio by making sure the same sound is not repeated too many times, that two successive notes are not too far from each other in pitch, and so on. One could argue that a lot of these post-processing steps are hacks; also, a lot the music generation literature has also focused on hand-crafting post-processors, and a lot of the output quality depends on the quality of the post-processing and not just the quality of the RNN. But this post-processing does make a huge difference, so lets use it in our implementation as well. \n",
    "\n",
    "Lets make some music! "
   ]
  },
  {
   "cell_type": "markdown",
   "metadata": {},
   "source": [
    "Run the following cell to generate music and record it into your `out_stream`. This can take a couple of minutes."
   ]
  },
  {
   "cell_type": "code",
   "execution_count": 99,
   "metadata": {
    "scrolled": false
   },
   "outputs": [
    {
     "name": "stdout",
     "output_type": "stream",
     "text": [
      "Predicting new values for different set of chords.\n",
      "Generated 51 sounds using the predicted values for the set of chords (\"1\") and after pruning\n",
      "Generated 51 sounds using the predicted values for the set of chords (\"2\") and after pruning\n",
      "Generated 51 sounds using the predicted values for the set of chords (\"3\") and after pruning\n",
      "Generated 51 sounds using the predicted values for the set of chords (\"4\") and after pruning\n",
      "Generated 51 sounds using the predicted values for the set of chords (\"5\") and after pruning\n",
      "Your generated music is saved in output/my_music.midi\n"
     ]
    }
   ],
   "source": [
    "out_stream = generate_music(inference_model)"
   ]
  },
  {
   "cell_type": "markdown",
   "metadata": {},
   "source": [
    "To listen to your music, click File->Open... Then go to \"output/\" and download \"my_music.midi\". Either play it on your computer with an application that can read midi files if you have one, or use one of the free online \"MIDI to mp3\" conversion tools to convert this to mp3.  \n",
    "\n",
    "As reference, here also is a 30sec audio clip we generated using this algorithm. "
   ]
  },
  {
   "cell_type": "code",
   "execution_count": null,
   "metadata": {
    "collapsed": true
   },
   "outputs": [],
   "source": [
    "IPython.display.Audio('./data/30s_trained_model.mp3')"
   ]
  },
  {
   "cell_type": "markdown",
   "metadata": {},
   "source": [
    "### Congratulations!\n",
    "\n",
    "You have come to the end of the notebook. \n",
    "\n",
    "<font color=\"blue\">\n",
    "Here's what you should remember:\n",
    "- A sequence model can be used to generate musical values, which are then post-processed into midi music. \n",
    "- Fairly similar models can be used to generate dinosaur names or to generate music, with the major difference being the input fed to the model.  \n",
    "- In Keras, sequence generation involves defining layers with shared weights, which are then repeated for the different time steps $1, \\ldots, T_x$. "
   ]
  },
  {
   "cell_type": "markdown",
   "metadata": {},
   "source": [
    "Congratulations on completing this assignment and generating a jazz solo! "
   ]
  },
  {
   "cell_type": "markdown",
   "metadata": {},
   "source": [
    "**References**\n",
    "\n",
    "The ideas presented in this notebook came primarily from three computational music papers cited below. The implementation here also took significant inspiration and used many components from Ji-Sung Kim's github repository.\n",
    "\n",
    "- Ji-Sung Kim, 2016, [deepjazz](https://github.com/jisungk/deepjazz)\n",
    "- Jon Gillick, Kevin Tang and Robert Keller, 2009. [Learning Jazz Grammars](http://ai.stanford.edu/~kdtang/papers/smc09-jazzgrammar.pdf)\n",
    "- Robert Keller and David Morrison, 2007, [A Grammatical Approach to Automatic Improvisation](http://smc07.uoa.gr/SMC07%20Proceedings/SMC07%20Paper%2055.pdf)\n",
    "- François Pachet, 1999, [Surprising Harmonies](http://citeseerx.ist.psu.edu/viewdoc/download?doi=10.1.1.5.7473&rep=rep1&type=pdf)\n",
    "\n",
    "We're also grateful to François Germain for valuable feedback."
   ]
  }
 ],
 "metadata": {
  "coursera": {
   "course_slug": "nlp-sequence-models",
   "graded_item_id": "EG0F7",
   "launcher_item_id": "cxJXc"
  },
  "kernelspec": {
   "display_name": "Python 3",
   "language": "python",
   "name": "python3"
  },
  "language_info": {
   "codemirror_mode": {
    "name": "ipython",
    "version": 3
   },
   "file_extension": ".py",
   "mimetype": "text/x-python",
   "name": "python",
   "nbconvert_exporter": "python",
   "pygments_lexer": "ipython3",
   "version": "3.6.0"
  }
 },
 "nbformat": 4,
 "nbformat_minor": 2
}
