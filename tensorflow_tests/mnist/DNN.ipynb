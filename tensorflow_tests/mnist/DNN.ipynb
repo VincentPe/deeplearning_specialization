{
 "cells": [
  {
   "cell_type": "code",
   "execution_count": 1,
   "metadata": {},
   "outputs": [],
   "source": [
    "import mlflow.keras\n",
    "import tensorflow as tf\n",
    "import numpy as np\n",
    "import matplotlib.pyplot as plt\n",
    "import pandas as pd\n",
    "import math\n",
    "\n",
    "from sklearn.model_selection import train_test_split\n",
    "from mlflow import log_metric, log_param, log_artifacts"
   ]
  },
  {
   "cell_type": "code",
   "execution_count": 2,
   "metadata": {},
   "outputs": [
    {
     "name": "stderr",
     "output_type": "stream",
     "text": [
      "c:\\users\\u02vpe\\deeplearningspecialization\\tensorflow_testing\\mnist\\lib\\site-packages\\ipykernel\\ipkernel.py:287: DeprecationWarning: `should_run_async` will not call `transform_cell` automatically in the future. Please pass the result to `transformed_cell` argument and any exception that happen during thetransform in `preprocessing_exc_tuple` in IPython 7.17 and above.\n",
      "  and should_run_async(code)\n"
     ]
    }
   ],
   "source": [
    "data = pd.read_csv('data/train.csv')\n",
    "\n",
    "X, y = data.drop('label', axis=1), data['label'].values\n",
    "\n",
    "X = X.to_numpy().reshape((len(X), 28, 28))\n",
    "\n",
    "X_train, X_test, y_train, y_test = train_test_split(X, y, random_state=0, test_size=0.1)\n",
    "\n",
    "X_train = tf.keras.utils.normalize(X_train, axis=1)\n",
    "X_test = tf.keras.utils.normalize(X_test, axis=1)"
   ]
  },
  {
   "cell_type": "code",
   "execution_count": null,
   "metadata": {},
   "outputs": [],
   "source": [
    "for i in X_train, X_test, y_train, y_test: \n",
    "    print(i.shape)"
   ]
  },
  {
   "cell_type": "code",
   "execution_count": null,
   "metadata": {},
   "outputs": [],
   "source": [
    "#mlflow.create_experiment(\"mnist_dense\")\n",
    "mlflow.set_experiment(\"mnist_conv\")\n",
    "mlflow.start_run(run_name='batch_norm')\n",
    "mlflow.keras.autolog()"
   ]
  },
  {
   "cell_type": "code",
   "execution_count": null,
   "metadata": {},
   "outputs": [],
   "source": [
    "# model = tf.keras.models.Sequential()\n",
    "# model.add(tf.keras.layers.Flatten(input_shape=[28, 28, 1]))\n",
    "# model.add(tf.keras.layers.Dense(200, activation=tf.nn.relu))\n",
    "# model.add(tf.keras.layers.Dropout(0.25))\n",
    "# model.add(tf.keras.layers.Dense(100, activation=tf.nn.relu))\n",
    "# model.add(tf.keras.layers.Dropout(0.25))\n",
    "# model.add(tf.keras.layers.Dense(60, activation=tf.nn.relu))\n",
    "# model.add(tf.keras.layers.Dropout(0.25))\n",
    "# model.add(tf.keras.layers.Dense(10, activation=tf.nn.softmax))\n",
    "\n",
    "model = tf.keras.models.Sequential([\n",
    "    tf.keras.layers.Reshape(input_shape=(28*28,), target_shape=(28, 28, 1)),\n",
    "    \n",
    "    tf.keras.layers.Conv2D(kernel_size=3, filters=12, padding='same', use_bias=False),\n",
    "    tf.keras.layers.BatchNormalization(center=True, scale=False),\n",
    "    tf.keras.layers.Activation('relu'),\n",
    "    \n",
    "    tf.keras.layers.Conv2D(kernel_size=6, filters=24, padding='same', strides=2, use_bias=False),\n",
    "    tf.keras.layers.BatchNormalization(center=True, scale=False),\n",
    "    tf.keras.layers.Activation('relu'),\n",
    "    \n",
    "    tf.keras.layers.Conv2D(kernel_size=6, filters=32, padding='same', strides=2, use_bias=False),\n",
    "    tf.keras.layers.BatchNormalization(center=True, scale=False),\n",
    "    tf.keras.layers.Activation('relu'),\n",
    "    \n",
    "    tf.keras.layers.Flatten(),\n",
    "                           \n",
    "    tf.keras.layers.Dense(200, activation=tf.nn.relu),\n",
    "    tf.keras.layers.BatchNormalization(center=True, scale=False),\n",
    "    tf.keras.layers.Activation('relu'),  \n",
    "    tf.keras.layers.Dropout(0.4),\n",
    "\n",
    "    tf.keras.layers.Dense(10, activation='softmax')\n",
    "])\n",
    "\n",
    "\n",
    "def lr_decay(epoch):\n",
    "    return 0.01 * math.pow(0.6, epoch)\n",
    "\n",
    "# lr schedule callback\n",
    "lr_decay_callback = tf.keras.callbacks.LearningRateScheduler(lr_decay, verbose=True)\n",
    "\n",
    "model.compile(optimizer=tf.keras.optimizers.Adam(learning_rate=0.1),\n",
    "              loss='sparse_categorical_crossentropy',  # Sparse for integers, just categorical for one hot encoded\n",
    "              metrics=['accuracy'])\n",
    "\n",
    "early_stop = tf.keras.callbacks.EarlyStopping(\n",
    "    monitor='val_accuracy',\n",
    "    min_delta=0,\n",
    "    patience=3,\n",
    "    verbose=0,\n",
    "    mode=\"auto\",\n",
    "    baseline=None,\n",
    "    restore_best_weights=True,\n",
    ")\n",
    "\n",
    "steps_per_epoch = len(X_train)//128\n",
    "\n",
    "model.fit(X_train, y_train, \n",
    "          epochs=20, \n",
    "          batch_size=128,\n",
    "          steps_per_epoch=steps_per_epoch,\n",
    "          validation_split=0.1, \n",
    "          callbacks=[early_stop, lr_decay_callback])"
   ]
  },
  {
   "cell_type": "code",
   "execution_count": null,
   "metadata": {},
   "outputs": [],
   "source": [
    "# summarize history for accuracy\n",
    "plt.plot(model.history.history['accuracy'])\n",
    "plt.plot(model.history.history['val_accuracy'])\n",
    "plt.title('model accuracy')\n",
    "plt.ylabel('accuracy')\n",
    "plt.xlabel('epoch')\n",
    "plt.legend(['train', 'test'], loc='upper left')\n",
    "plt.show()\n",
    "\n",
    "plt.savefig(\"output/accuracy_per_epoch.png\")"
   ]
  },
  {
   "cell_type": "code",
   "execution_count": null,
   "metadata": {},
   "outputs": [],
   "source": [
    "# summarize history for loss\n",
    "plt.plot(model.history.history['loss'])\n",
    "plt.plot(model.history.history['val_loss'])\n",
    "plt.title('model loss')\n",
    "plt.ylabel('loss')\n",
    "plt.xlabel('epoch')\n",
    "plt.legend(['train', 'test'], loc='upper left')\n",
    "plt.show()\n",
    "\n",
    "plt.savefig(\"output/loss_per_epoch.png\")"
   ]
  },
  {
   "cell_type": "code",
   "execution_count": null,
   "metadata": {},
   "outputs": [],
   "source": [
    "val_loss, val_acc = model.evaluate(X_test, y_test)"
   ]
  },
  {
   "cell_type": "code",
   "execution_count": null,
   "metadata": {},
   "outputs": [],
   "source": [
    "# mlflow.log_artifact(\"output/accuracy_per_epoch.png\")\n",
    "# mlflow.log_artifact(\"output/loss_per_epoch.png\")\n",
    "log_metric(\"final_test_accuracy\", val_acc)"
   ]
  },
  {
   "cell_type": "code",
   "execution_count": null,
   "metadata": {},
   "outputs": [],
   "source": [
    "mlflow.end_run()"
   ]
  },
  {
   "cell_type": "code",
   "execution_count": null,
   "metadata": {},
   "outputs": [],
   "source": []
  },
  {
   "cell_type": "code",
   "execution_count": null,
   "metadata": {},
   "outputs": [],
   "source": [
    "# predict testset"
   ]
  },
  {
   "cell_type": "code",
   "execution_count": 3,
   "metadata": {},
   "outputs": [],
   "source": [
    "#retrain\n",
    "data = pd.read_csv('data/test.csv')\n",
    "\n",
    "data = data.to_numpy().reshape((len(data), 28, 28))\n",
    "\n",
    "X_train = tf.keras.utils.normalize(X, axis=1)\n",
    "X_test = tf.keras.utils.normalize(data, axis=1)"
   ]
  },
  {
   "cell_type": "code",
   "execution_count": 4,
   "metadata": {},
   "outputs": [
    {
     "data": {
      "text/plain": [
       "((42000, 28, 28), (28000, 28, 28))"
      ]
     },
     "execution_count": 4,
     "metadata": {},
     "output_type": "execute_result"
    }
   ],
   "source": [
    "X_train.shape, X_test.shape"
   ]
  },
  {
   "cell_type": "code",
   "execution_count": 19,
   "metadata": {},
   "outputs": [
    {
     "name": "stderr",
     "output_type": "stream",
     "text": [
      "c:\\users\\u02vpe\\deeplearningspecialization\\tensorflow_testing\\mnist\\lib\\site-packages\\tensorflow\\python\\framework\\tensor_util.py:523: DeprecationWarning: tostring() is deprecated. Use tobytes() instead.\n",
      "  tensor_proto.tensor_content = nparray.tostring()\n"
     ]
    },
    {
     "name": "stdout",
     "output_type": "stream",
     "text": [
      "\n",
      "Epoch 00001: LearningRateScheduler reducing learning rate to 0.01.\n",
      "Epoch 1/10\n",
      "WARNING:tensorflow:Model was constructed with shape (None, 784) for input Tensor(\"reshape_1_input:0\", shape=(None, 784), dtype=float32), but it was called on an input with incompatible shape (None, 28, 28).\n",
      "WARNING:tensorflow:Model was constructed with shape (None, 784) for input Tensor(\"reshape_1_input:0\", shape=(None, 784), dtype=float32), but it was called on an input with incompatible shape (None, 28, 28).\n",
      "656/656 [==============================] - 52s 79ms/step - loss: 0.1552 - accuracy: 0.9524 - lr: 0.0100\n",
      "\n",
      "Epoch 00002: LearningRateScheduler reducing learning rate to 0.00666.\n",
      "Epoch 2/10\n",
      "656/656 [==============================] - 54s 83ms/step - loss: 0.0528 - accuracy: 0.9843 - lr: 0.0067\n",
      "\n",
      "Epoch 00003: LearningRateScheduler reducing learning rate to 0.004435560000000001.\n",
      "Epoch 3/10\n",
      "656/656 [==============================] - 56s 85ms/step - loss: 0.0350 - accuracy: 0.9894 - lr: 0.0044\n",
      "\n",
      "Epoch 00004: LearningRateScheduler reducing learning rate to 0.0029540829600000007.\n",
      "Epoch 4/10\n",
      "656/656 [==============================] - 56s 86ms/step - loss: 0.0216 - accuracy: 0.9930 - lr: 0.0030\n",
      "\n",
      "Epoch 00005: LearningRateScheduler reducing learning rate to 0.0019674192513600007.\n",
      "Epoch 5/10\n",
      "656/656 [==============================] - 56s 86ms/step - loss: 0.0127 - accuracy: 0.9964 - lr: 0.0020\n",
      "\n",
      "Epoch 00006: LearningRateScheduler reducing learning rate to 0.0013103012214057603.\n",
      "Epoch 6/10\n",
      "656/656 [==============================] - 56s 85ms/step - loss: 0.0082 - accuracy: 0.9977 - lr: 0.0013\n",
      "\n",
      "Epoch 00007: LearningRateScheduler reducing learning rate to 0.0008726606134562365.\n",
      "Epoch 7/10\n",
      "656/656 [==============================] - 55s 85ms/step - loss: 0.0064 - accuracy: 0.9986 - lr: 8.7266e-04\n",
      "\n",
      "Epoch 00008: LearningRateScheduler reducing learning rate to 0.0005811919685618535.\n",
      "Epoch 8/10\n",
      "656/656 [==============================] - 56s 85ms/step - loss: 0.0038 - accuracy: 0.9991 - lr: 5.8119e-04\n",
      "\n",
      "Epoch 00009: LearningRateScheduler reducing learning rate to 0.0003870738510621945.\n",
      "Epoch 9/10\n",
      "656/656 [==============================] - 57s 87ms/step - loss: 0.0037 - accuracy: 0.9991 - lr: 3.8707e-04\n",
      "\n",
      "Epoch 00010: LearningRateScheduler reducing learning rate to 0.00025779118480742154.\n",
      "Epoch 10/10\n",
      "656/656 [==============================] - 56s 86ms/step - loss: 0.0030 - accuracy: 0.9992 - lr: 2.5779e-04\n"
     ]
    },
    {
     "data": {
      "text/plain": [
       "<tensorflow.python.keras.callbacks.History at 0x168138256a0>"
      ]
     },
     "execution_count": 19,
     "metadata": {},
     "output_type": "execute_result"
    }
   ],
   "source": [
    "model = tf.keras.models.Sequential([\n",
    "    tf.keras.layers.Reshape(input_shape=(28*28,), target_shape=(28, 28, 1)),\n",
    "    \n",
    "    tf.keras.layers.Conv2D(kernel_size=3, filters=12, padding='same', use_bias=False),\n",
    "    tf.keras.layers.BatchNormalization(center=True, scale=False),\n",
    "    tf.keras.layers.Activation('relu'),\n",
    "    \n",
    "    tf.keras.layers.Conv2D(kernel_size=6, filters=24, padding='same', strides=2, use_bias=False),\n",
    "    tf.keras.layers.BatchNormalization(center=True, scale=False),\n",
    "    tf.keras.layers.Activation('relu'),\n",
    "    \n",
    "    tf.keras.layers.Conv2D(kernel_size=6, filters=32, padding='same', strides=2, use_bias=False),\n",
    "    tf.keras.layers.BatchNormalization(center=True, scale=False),\n",
    "    tf.keras.layers.Activation('relu'),\n",
    "    \n",
    "    tf.keras.layers.Flatten(),\n",
    "                           \n",
    "    tf.keras.layers.Dense(200, activation=tf.nn.relu),\n",
    "    tf.keras.layers.BatchNormalization(center=True, scale=False),\n",
    "    tf.keras.layers.Activation('relu'),  \n",
    "    tf.keras.layers.Dropout(0.3),\n",
    "\n",
    "    tf.keras.layers.Dense(10, activation='softmax')\n",
    "])\n",
    "\n",
    "def lr_decay(epoch):\n",
    "    return 0.01 * math.pow(0.666, epoch)\n",
    "\n",
    "# lr schedule callback\n",
    "lr_decay_callback = tf.keras.callbacks.LearningRateScheduler(lr_decay, verbose=True)\n",
    "\n",
    "model.compile(optimizer=tf.keras.optimizers.Adam(learning_rate=0.1),\n",
    "              loss='sparse_categorical_crossentropy',  # Sparse for integers, just categorical for one hot encoded\n",
    "              metrics=['accuracy'])\n",
    "\n",
    "steps_per_epoch = len(X_train)//64\n",
    "\n",
    "model.fit(X_train, y, \n",
    "          epochs=10, \n",
    "          batch_size=64,\n",
    "          steps_per_epoch=steps_per_epoch,\n",
    "          callbacks=[lr_decay_callback],\n",
    "          shuffle=True)"
   ]
  },
  {
   "cell_type": "code",
   "execution_count": 20,
   "metadata": {},
   "outputs": [
    {
     "name": "stdout",
     "output_type": "stream",
     "text": [
      "WARNING:tensorflow:Model was constructed with shape (None, 784) for input Tensor(\"reshape_1_input:0\", shape=(None, 784), dtype=float32), but it was called on an input with incompatible shape (32, 28, 28).\n"
     ]
    }
   ],
   "source": [
    "preds = model.predict(X_test)"
   ]
  },
  {
   "cell_type": "code",
   "execution_count": 21,
   "metadata": {},
   "outputs": [],
   "source": [
    "output = pd.DataFrame({'ImageId': range(1, len(preds)+1), 'Label': np.argmax(preds, axis=1)})"
   ]
  },
  {
   "cell_type": "code",
   "execution_count": 22,
   "metadata": {},
   "outputs": [
    {
     "data": {
      "text/html": [
       "<div>\n",
       "<style scoped>\n",
       "    .dataframe tbody tr th:only-of-type {\n",
       "        vertical-align: middle;\n",
       "    }\n",
       "\n",
       "    .dataframe tbody tr th {\n",
       "        vertical-align: top;\n",
       "    }\n",
       "\n",
       "    .dataframe thead th {\n",
       "        text-align: right;\n",
       "    }\n",
       "</style>\n",
       "<table border=\"1\" class=\"dataframe\">\n",
       "  <thead>\n",
       "    <tr style=\"text-align: right;\">\n",
       "      <th></th>\n",
       "      <th>ImageId</th>\n",
       "      <th>Label</th>\n",
       "    </tr>\n",
       "  </thead>\n",
       "  <tbody>\n",
       "    <tr>\n",
       "      <th>0</th>\n",
       "      <td>1</td>\n",
       "      <td>2</td>\n",
       "    </tr>\n",
       "    <tr>\n",
       "      <th>1</th>\n",
       "      <td>2</td>\n",
       "      <td>0</td>\n",
       "    </tr>\n",
       "    <tr>\n",
       "      <th>2</th>\n",
       "      <td>3</td>\n",
       "      <td>9</td>\n",
       "    </tr>\n",
       "    <tr>\n",
       "      <th>3</th>\n",
       "      <td>4</td>\n",
       "      <td>0</td>\n",
       "    </tr>\n",
       "    <tr>\n",
       "      <th>4</th>\n",
       "      <td>5</td>\n",
       "      <td>3</td>\n",
       "    </tr>\n",
       "    <tr>\n",
       "      <th>5</th>\n",
       "      <td>6</td>\n",
       "      <td>7</td>\n",
       "    </tr>\n",
       "    <tr>\n",
       "      <th>6</th>\n",
       "      <td>7</td>\n",
       "      <td>0</td>\n",
       "    </tr>\n",
       "    <tr>\n",
       "      <th>7</th>\n",
       "      <td>8</td>\n",
       "      <td>3</td>\n",
       "    </tr>\n",
       "    <tr>\n",
       "      <th>8</th>\n",
       "      <td>9</td>\n",
       "      <td>0</td>\n",
       "    </tr>\n",
       "  </tbody>\n",
       "</table>\n",
       "</div>"
      ],
      "text/plain": [
       "   ImageId  Label\n",
       "0        1      2\n",
       "1        2      0\n",
       "2        3      9\n",
       "3        4      0\n",
       "4        5      3\n",
       "5        6      7\n",
       "6        7      0\n",
       "7        8      3\n",
       "8        9      0"
      ]
     },
     "execution_count": 22,
     "metadata": {},
     "output_type": "execute_result"
    }
   ],
   "source": [
    "output.head(9)"
   ]
  },
  {
   "cell_type": "code",
   "execution_count": 23,
   "metadata": {},
   "outputs": [
    {
     "name": "stderr",
     "output_type": "stream",
     "text": [
      "c:\\users\\u02vpe\\deeplearningspecialization\\tensorflow_testing\\mnist\\lib\\site-packages\\ipykernel\\ipkernel.py:287: DeprecationWarning: `should_run_async` will not call `transform_cell` automatically in the future. Please pass the result to `transformed_cell` argument and any exception that happen during thetransform in `preprocessing_exc_tuple` in IPython 7.17 and above.\n",
      "  and should_run_async(code)\n"
     ]
    },
    {
     "name": "stdout",
     "output_type": "stream",
     "text": [
      "Populating the interactive namespace from numpy and matplotlib\n"
     ]
    },
    {
     "data": {
      "image/png": "[encoded data removed]",
      "text/plain": [
       "<Figure size 576x576 with 9 Axes>"
      ]
     },
     "metadata": {
      "needs_background": "light"
     },
     "output_type": "display_data"
    }
   ],
   "source": [
    "%pylab inline\n",
    "pylab.rcParams['figure.figsize'] = (8, 8)\n",
    "\n",
    "for i in range(9):\n",
    "    _ = plt.subplot(3, 3, i+1)\n",
    "    _ = plt.imshow(X_test[i], cmap=plt.get_cmap('gray'))"
   ]
  },
  {
   "cell_type": "code",
   "execution_count": 24,
   "metadata": {},
   "outputs": [],
   "source": [
    "output.to_csv('output/submission2.csv', index=False)"
   ]
  },
  {
   "cell_type": "code",
   "execution_count": null,
   "metadata": {},
   "outputs": [],
   "source": []
  }
 ],
 "metadata": {
  "kernelspec": {
   "display_name": "mnist",
   "language": "python",
   "name": "mnist"
  },
  "language_info": {
   "codemirror_mode": {
    "name": "ipython",
    "version": 3
   },
   "file_extension": ".py",
   "mimetype": "text/x-python",
   "name": "python",
   "nbconvert_exporter": "python",
   "pygments_lexer": "ipython3",
   "version": "3.7.1"
  }
 },
 "nbformat": 4,
 "nbformat_minor": 2
}
